{
 "cells": [
  {
   "cell_type": "code",
   "execution_count": 1,
   "metadata": {},
   "outputs": [
    {
     "name": "stdout",
     "output_type": "stream",
     "text": [
      "Requirement already satisfied: langgraph==0.1.19 in c:\\users\\hp\\master-gen-ai-complete-course-from-euron\\master\\lib\\site-packages (0.1.19)\n",
      "Requirement already satisfied: langchain-core<0.3,>=0.2.22 in c:\\users\\hp\\master-gen-ai-complete-course-from-euron\\master\\lib\\site-packages (from langgraph==0.1.19) (0.2.43)\n",
      "Requirement already satisfied: PyYAML>=5.3 in c:\\users\\hp\\master-gen-ai-complete-course-from-euron\\master\\lib\\site-packages (from langchain-core<0.3,>=0.2.22->langgraph==0.1.19) (6.0.2)\n",
      "Requirement already satisfied: jsonpatch<2.0,>=1.33 in c:\\users\\hp\\master-gen-ai-complete-course-from-euron\\master\\lib\\site-packages (from langchain-core<0.3,>=0.2.22->langgraph==0.1.19) (1.33)\n",
      "Requirement already satisfied: langsmith<0.2.0,>=0.1.112 in c:\\users\\hp\\master-gen-ai-complete-course-from-euron\\master\\lib\\site-packages (from langchain-core<0.3,>=0.2.22->langgraph==0.1.19) (0.1.147)\n",
      "Requirement already satisfied: packaging<25,>=23.2 in c:\\users\\hp\\master-gen-ai-complete-course-from-euron\\master\\lib\\site-packages (from langchain-core<0.3,>=0.2.22->langgraph==0.1.19) (24.2)\n",
      "Requirement already satisfied: pydantic<3,>=1 in c:\\users\\hp\\master-gen-ai-complete-course-from-euron\\master\\lib\\site-packages (from langchain-core<0.3,>=0.2.22->langgraph==0.1.19) (1.10.13)\n",
      "Requirement already satisfied: tenacity!=8.4.0,<9.0.0,>=8.1.0 in c:\\users\\hp\\master-gen-ai-complete-course-from-euron\\master\\lib\\site-packages (from langchain-core<0.3,>=0.2.22->langgraph==0.1.19) (8.5.0)\n",
      "Requirement already satisfied: typing-extensions>=4.7 in c:\\users\\hp\\master-gen-ai-complete-course-from-euron\\master\\lib\\site-packages (from langchain-core<0.3,>=0.2.22->langgraph==0.1.19) (4.12.2)\n",
      "Requirement already satisfied: jsonpointer>=1.9 in c:\\users\\hp\\master-gen-ai-complete-course-from-euron\\master\\lib\\site-packages (from jsonpatch<2.0,>=1.33->langchain-core<0.3,>=0.2.22->langgraph==0.1.19) (3.0.0)\n",
      "Requirement already satisfied: httpx<1,>=0.23.0 in c:\\users\\hp\\master-gen-ai-complete-course-from-euron\\master\\lib\\site-packages (from langsmith<0.2.0,>=0.1.112->langchain-core<0.3,>=0.2.22->langgraph==0.1.19) (0.23.0)\n",
      "Requirement already satisfied: orjson<4.0.0,>=3.9.14 in c:\\users\\hp\\master-gen-ai-complete-course-from-euron\\master\\lib\\site-packages (from langsmith<0.2.0,>=0.1.112->langchain-core<0.3,>=0.2.22->langgraph==0.1.19) (3.10.13)\n",
      "Requirement already satisfied: requests<3,>=2 in c:\\users\\hp\\master-gen-ai-complete-course-from-euron\\master\\lib\\site-packages (from langsmith<0.2.0,>=0.1.112->langchain-core<0.3,>=0.2.22->langgraph==0.1.19) (2.32.3)\n",
      "Requirement already satisfied: requests-toolbelt<2.0.0,>=1.0.0 in c:\\users\\hp\\master-gen-ai-complete-course-from-euron\\master\\lib\\site-packages (from langsmith<0.2.0,>=0.1.112->langchain-core<0.3,>=0.2.22->langgraph==0.1.19) (1.0.0)\n",
      "Requirement already satisfied: certifi in c:\\users\\hp\\master-gen-ai-complete-course-from-euron\\master\\lib\\site-packages (from httpx<1,>=0.23.0->langsmith<0.2.0,>=0.1.112->langchain-core<0.3,>=0.2.22->langgraph==0.1.19) (2024.12.14)\n",
      "Requirement already satisfied: sniffio in c:\\users\\hp\\master-gen-ai-complete-course-from-euron\\master\\lib\\site-packages (from httpx<1,>=0.23.0->langsmith<0.2.0,>=0.1.112->langchain-core<0.3,>=0.2.22->langgraph==0.1.19) (1.3.1)\n",
      "Requirement already satisfied: rfc3986<2,>=1.3 in c:\\users\\hp\\master-gen-ai-complete-course-from-euron\\master\\lib\\site-packages (from rfc3986[idna2008]<2,>=1.3->httpx<1,>=0.23.0->langsmith<0.2.0,>=0.1.112->langchain-core<0.3,>=0.2.22->langgraph==0.1.19) (1.5.0)\n",
      "Requirement already satisfied: httpcore<0.16.0,>=0.15.0 in c:\\users\\hp\\master-gen-ai-complete-course-from-euron\\master\\lib\\site-packages (from httpx<1,>=0.23.0->langsmith<0.2.0,>=0.1.112->langchain-core<0.3,>=0.2.22->langgraph==0.1.19) (0.15.0)\n",
      "Requirement already satisfied: charset-normalizer<4,>=2 in c:\\users\\hp\\master-gen-ai-complete-course-from-euron\\master\\lib\\site-packages (from requests<3,>=2->langsmith<0.2.0,>=0.1.112->langchain-core<0.3,>=0.2.22->langgraph==0.1.19) (3.4.1)\n",
      "Requirement already satisfied: idna<4,>=2.5 in c:\\users\\hp\\master-gen-ai-complete-course-from-euron\\master\\lib\\site-packages (from requests<3,>=2->langsmith<0.2.0,>=0.1.112->langchain-core<0.3,>=0.2.22->langgraph==0.1.19) (3.10)\n",
      "Requirement already satisfied: urllib3<3,>=1.21.1 in c:\\users\\hp\\master-gen-ai-complete-course-from-euron\\master\\lib\\site-packages (from requests<3,>=2->langsmith<0.2.0,>=0.1.112->langchain-core<0.3,>=0.2.22->langgraph==0.1.19) (2.3.0)\n",
      "Requirement already satisfied: h11<0.13,>=0.11 in c:\\users\\hp\\master-gen-ai-complete-course-from-euron\\master\\lib\\site-packages (from httpcore<0.16.0,>=0.15.0->httpx<1,>=0.23.0->langsmith<0.2.0,>=0.1.112->langchain-core<0.3,>=0.2.22->langgraph==0.1.19) (0.12.0)\n",
      "Requirement already satisfied: anyio==3.* in c:\\users\\hp\\master-gen-ai-complete-course-from-euron\\master\\lib\\site-packages (from httpcore<0.16.0,>=0.15.0->httpx<1,>=0.23.0->langsmith<0.2.0,>=0.1.112->langchain-core<0.3,>=0.2.22->langgraph==0.1.19) (3.7.1)\n",
      "Note: you may need to restart the kernel to use updated packages.\n"
     ]
    }
   ],
   "source": [
    "pip install langgraph==0.1.19"
   ]
  },
  {
   "cell_type": "code",
   "execution_count": 2,
   "metadata": {},
   "outputs": [],
   "source": [
    "import os\n",
    "from dotenv import load_dotenv, find_dotenv\n",
    "_ = load_dotenv(find_dotenv())\n",
    "openai_api_key = os.environ[\"OPENAI_API_KEY\"]"
   ]
  },
  {
   "cell_type": "code",
   "execution_count": 3,
   "metadata": {},
   "outputs": [],
   "source": [
    "from langchain_openai import ChatOpenAI\n",
    "\n",
    "llm = ChatOpenAI(model=\"gpt-3.5-turbo\")"
   ]
  },
  {
   "cell_type": "code",
   "execution_count": 4,
   "metadata": {},
   "outputs": [
    {
     "name": "stdout",
     "output_type": "stream",
     "text": [
      "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\n"
     ]
    }
   ],
   "source": [
    "os.environ['TAVILY_API_KEY'] = \"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\"\n",
    "print(os.getenv('TAVILY_API_KEY'))"
   ]
  },
  {
   "cell_type": "code",
   "execution_count": 5,
   "metadata": {},
   "outputs": [],
   "source": [
    "from langchain_community.tools.tavily_search import TavilySearchResults"
   ]
  },
  {
   "cell_type": "code",
   "execution_count": 6,
   "metadata": {},
   "outputs": [
    {
     "data": {
      "text/plain": [
       "[{'url': 'https://www.geeksforgeeks.org/icc-t20-world-cup-2024-schedule/',\n",
       "  'content': 'The 9th edition of ICC Men T20 world cup 2024 is scheduled to be played in different cities of West indies and USA. All 51 matches of T20 WC 2024 will be played on 10 venues mentioned in table below. T20 World Cup 2024 Venues. Place: Stadium Name: St Vincent and The Grenadines:'},\n",
       " {'url': 'https://www.espncricinfo.com/story/t20-world-cup-2024-frequently-asked-questions-faqs-1435161',\n",
       "  'content': 'The 2024 T20 World Cup will be played across nine venues. Apart from Dallas and Bridgetown, there will be matches in Providence, New York, Lauderhill, North Sound, Gros Islet, Kingstown and Tarouba.'},\n",
       " {'url': 'https://www.sportsadda.com/cricket/features/t20-world-cup-2024-venues-west-indies-united-states',\n",
       "  'content': 'As many as 41 matches of the T20 World Cup 2024 including two semi-finals and the final will be played in the Caribbean across six different islands. The remaining 14 matches will be hosted in the United States across three venues. Know T20 World Cup 2024 venues. T20 World Cup 2024 venues: Two countries, nine stadiums Arnos Vale Stadium'}]"
      ]
     },
     "execution_count": 6,
     "metadata": {},
     "output_type": "execute_result"
    }
   ],
   "source": [
    "search = TavilySearchResults(max_results=3)\n",
    "search.invoke(\"Where is the t20 worldcup  2024 played?\")"
   ]
  },
  {
   "cell_type": "code",
   "execution_count": 7,
   "metadata": {},
   "outputs": [],
   "source": [
    "tools = [search]"
   ]
  },
  {
   "cell_type": "code",
   "execution_count": 8,
   "metadata": {},
   "outputs": [
    {
     "data": {
      "text/plain": [
       "[TavilySearchResults(max_results=3)]"
      ]
     },
     "execution_count": 8,
     "metadata": {},
     "output_type": "execute_result"
    }
   ],
   "source": [
    "tools"
   ]
  },
  {
   "cell_type": "code",
   "execution_count": 9,
   "metadata": {},
   "outputs": [],
   "source": [
    "from langgraph.prebuilt import create_react_agent\n",
    "\n",
    "agent_executor = create_react_agent(llm, tools)"
   ]
  },
  {
   "cell_type": "code",
   "execution_count": 10,
   "metadata": {},
   "outputs": [
    {
     "data": {
      "text/plain": [
       "[HumanMessage(content='Where is the t20 worldcup  2024 played?', id='5d527bd7-3483-4054-94b3-89bd4f3b2923'),\n",
       " AIMessage(content='', additional_kwargs={'tool_calls': [{'id': 'call_NHKclNqtk8oEu7y0hSjxArLP', 'function': {'arguments': '{\"query\":\"T20 World Cup 2024 location\"}', 'name': 'tavily_search_results_json'}, 'type': 'function'}]}, response_metadata={'token_usage': {'completion_tokens': 26, 'prompt_tokens': 94, 'total_tokens': 120, 'completion_tokens_details': {'accepted_prediction_tokens': 0, 'audio_tokens': 0, 'reasoning_tokens': 0, 'rejected_prediction_tokens': 0}, 'prompt_tokens_details': {'audio_tokens': 0, 'cached_tokens': 0}}, 'model_name': 'gpt-3.5-turbo-0125', 'system_fingerprint': None, 'finish_reason': 'tool_calls', 'logprobs': None}, id='run-6ddb7ef0-6f59-472d-874b-edb61dfa9df2-0', tool_calls=[{'name': 'tavily_search_results_json', 'args': {'query': 'T20 World Cup 2024 location'}, 'id': 'call_NHKclNqtk8oEu7y0hSjxArLP', 'type': 'tool_call'}], usage_metadata={'input_tokens': 94, 'output_tokens': 26, 'total_tokens': 120}),\n",
       " ToolMessage(content='[{\"url\": \"https://currentaffairs.adda247.com/icc-mens-t20-world-cup-schedule-2024/\", \"content\": \"ICC T20 World Cup 2024-Location. The T20 World Cup 2024 will be jointly hosted by the West Indies and the United States! This marks the first time the United States will be hosting a major ICC cricket tournament. 🇺🇸. The tournament will take place from June 1st to June 29th, 2024.\"}, {\"url\": \"https://sportstar.thehindu.com/cricket/t20-world-cup/t20-world-cup-2024-venues-stadium-west-indies-usa-list-of-matches-cricket-news/article68225135.ece\", \"content\": \"The 2024 edition of the ICC T20 World Cup is set to begin in the West Indies and USA from June 1, 2024 with host United States taking on Canada at Dallas, Texas. The Group Stage fixtures will shuttle between the West Indies and USA before the caravan moves solely to the Windies for the Super Eight fixtures and beyond.\"}, {\"url\": \"https://www.t20worldcup.com/tournaments/t20cricketworldcup/fans/venue-guides\", \"content\": \"The ICC Men\\'s T20 World Cup West Indies and USA 2024 is sure to be a remarkable display of competitive cricket, featuring 20 teams and 55 games that will unfold across 6 Host Venues in the West Indies, and 3 Host Venues in the USA from 1 - 29 June 2024. For more information on your match day venue, follow the link below!\"}]', name='tavily_search_results_json', id='1c38dd19-2af5-4535-befd-12d2a6d88d5e', tool_call_id='call_NHKclNqtk8oEu7y0hSjxArLP'),\n",
       " AIMessage(content='The T20 World Cup 2024 will be jointly hosted by the West Indies and the United States. The tournament will take place from June 1st to June 29th, 2024. Group stage fixtures will shuttle between the West Indies and the USA before moving solely to the West Indies for the Super Eight fixtures and beyond.', response_metadata={'token_usage': {'completion_tokens': 70, 'prompt_tokens': 482, 'total_tokens': 552, 'completion_tokens_details': {'accepted_prediction_tokens': 0, 'audio_tokens': 0, 'reasoning_tokens': 0, 'rejected_prediction_tokens': 0}, 'prompt_tokens_details': {'audio_tokens': 0, 'cached_tokens': 0}}, 'model_name': 'gpt-3.5-turbo-0125', 'system_fingerprint': None, 'finish_reason': 'stop', 'logprobs': None}, id='run-666ad91c-7d56-4ce1-af85-261ca41e076c-0', usage_metadata={'input_tokens': 482, 'output_tokens': 70, 'total_tokens': 552})]"
      ]
     },
     "execution_count": 10,
     "metadata": {},
     "output_type": "execute_result"
    }
   ],
   "source": [
    "from langchain_core.messages import HumanMessage\n",
    "\n",
    "response = agent_executor.invoke({\"messages\": [HumanMessage(content=\"Where is the t20 worldcup  2024 played?\")]})\n",
    "\n",
    "response[\"messages\"]"
   ]
  },
  {
   "cell_type": "code",
   "execution_count": 11,
   "metadata": {},
   "outputs": [
    {
     "data": {
      "text/plain": [
       "[HumanMessage(content='what is python ?', id='8a39d656-fd92-417b-a472-f91bf3546855'),\n",
       " AIMessage(content='', additional_kwargs={'tool_calls': [{'id': 'call_UAJNCcA5r13aKNzU53Gqdj6G', 'function': {'arguments': '{\"query\":\"Python\"}', 'name': 'tavily_search_results_json'}, 'type': 'function'}]}, response_metadata={'token_usage': {'completion_tokens': 19, 'prompt_tokens': 85, 'total_tokens': 104, 'completion_tokens_details': {'accepted_prediction_tokens': 0, 'audio_tokens': 0, 'reasoning_tokens': 0, 'rejected_prediction_tokens': 0}, 'prompt_tokens_details': {'audio_tokens': 0, 'cached_tokens': 0}}, 'model_name': 'gpt-3.5-turbo-0125', 'system_fingerprint': None, 'finish_reason': 'tool_calls', 'logprobs': None}, id='run-8284b00b-750c-4e64-8b7b-66ea4521c83c-0', tool_calls=[{'name': 'tavily_search_results_json', 'args': {'query': 'Python'}, 'id': 'call_UAJNCcA5r13aKNzU53Gqdj6G', 'type': 'tool_call'}], usage_metadata={'input_tokens': 85, 'output_tokens': 19, 'total_tokens': 104}),\n",
       " ToolMessage(content='[{\"url\": \"https://docs.python.org/3/tutorial/index.html\", \"content\": \"After reading it, you will be able to read and\\\\nwrite Python modules and programs, and you will be ready to learn more about the\\\\nvarious Python library modules described in The Python Standard Library.\\\\n The Python interpreter and the extensive standard library are freely available\\\\nin source or binary form for all major platforms from the Python web site,\\\\nhttps://www.python.org/, and may be freely distributed. The same site also\\\\ncontains distributions of and pointers to many free third party Python modules,\\\\nprograms and tools, and additional documentation.\\\\n Whetting Your Appetite\\\\nThis Page\\\\nNavigation\\\\nThe Python Tutorial¶\\\\nPython is an easy to learn, powerful programming language. Python’s elegant syntax and dynamic typing,\\\\ntogether with its interpreted nature, make it an ideal language for scripting\\\\nand rapid application development in many areas on most platforms.\\\\n\"}, {\"url\": \"https://en.wikipedia.org/wiki/Python_(programming_language)\", \"content\": \"Other implementations\\\\nUnsupported implementations\\\\nOther just-in-time Python compilers have been developed, but are now unsupported:\\\\nCross-compilers to other languages\\\\nThere are several compilers/transpilers to high-level object languages, with either unrestricted Python, a restricted subset of Python, or a language similar to Python as the source language:\\\\nSpecialized:\\\\nOlder projects (or not to be used with Python 3.x and latest syntax):\\\\nPerformance\\\\nPerformance comparison of various Python implementations on a non-numerical (combinatorial) workload was presented at EuroSciPy \\'13.[160] Python\\'s performance compared to other programming languages is also benchmarked by The Computer Language Benchmarks Game.[161]\\\\nDevelopment\\\\nPython\\'s development is conducted largely through the Python Enhancement Proposal (PEP) process, the primary mechanism for proposing major new features, collecting community input on issues, and documenting Python design decisions.[162] Python coding style is covered in PEP\\xa08.[163] Outstanding PEPs are reviewed and commented on by the Python community and the steering council.[162]\\\\nEnhancement of the language corresponds with the development of the CPython reference implementation. Python\\xa02.7.18, released in 2020, was the last release of Python\\xa02.[35]\\\\nPython consistently ranks as one of the most popular programming languages.[36][37][38][39]\\\\nHistory\\\\nPython was conceived in the late 1980s[40] by Guido van Rossum at Centrum Wiskunde & Informatica (CWI) in the Netherlands as a successor to the ABC programming language, which was inspired by SETL,[41] capable of exception handling and interfacing with the Amoeba operating system.[10] Its implementation began in December\\xa01989.[42] Van Rossum shouldered sole responsibility for the project, as the lead developer, until 12 July 2018, when he announced his \\\\\"permanent vacation\\\\\" from his responsibilities as Python\\'s \\\\\"benevolent dictator for life\\\\\", a title the Python community bestowed upon him to reflect his long-term commitment as the project\\'s chief decision-maker.[43] In January\\xa02019, active Python core developers elected a five-member Steering Council to lead the project.[44][45]\\\\nPython 2.0 was released on 16 October 2000, with many major new features such as list comprehensions, cycle-detecting garbage collection, reference counting, and Unicode support.[46] Python\\xa03.0, released on 3 December 2008, with many of its major features backported to Python\\xa02.6.x[47] and 2.7.x. The Decimal type/class in the decimal module provides decimal floating-point numbers to a pre-defined arbitrary precision and several rounding modes.[116] The Fraction class in the fractions module provides arbitrary precision for rational numbers.[117]\\\\nDue to Python\\'s extensive mathematics library, and the third-party library NumPy that further extends the native capabilities, it is frequently used as a scientific scripting language to aid in problems such as numerical data processing and manipulation.[118][119]\\\\nProgramming examples\\\\nHello world program:\\\\nProgram to calculate the factorial of a positive integer:\\\\nLibraries\\\\nPython\\'s large standard library[120] provides tools suited to many tasks and is commonly cited as one of its greatest strengths. SageMath is a computer algebra system with a notebook interface programmable in Python: its library covers many aspects of mathematics, including algebra, combinatorics, numerical mathematics, number theory, and calculus.[197] OpenCV has Python bindings with a rich set of features for computer vision and image processing.[198]\\\\nPython is commonly used in artificial intelligence projects and machine learning projects with the help of libraries like TensorFlow, Keras, Pytorch, and scikit-learn.[199][200][201][202] As a scripting language with a modular architecture, simple syntax, and rich text processing tools, Python is often used for natural language processing.[203]\\\\nPython can also be used for graphical user interface (GUI) by using libraries like Tkinter.[204][205]\\\\nPython can also be used to create games, with libraries such as Pygame, which can make 2D games.\\\\n This is reflected in its name—a tribute to the British comedy group Monty Python[76]—and in occasionally playful approaches to tutorials and reference materials, such as the use of the terms \\\\\"spam\\\\\" and \\\\\"eggs\\\\\" (a reference to a Monty Python sketch) in examples, instead of the often-used \\\\\"foo\\\\\" and \\\\\"bar\\\\\".[77][78]\\\\nA common neologism in the Python community is pythonic, which has a wide range of meanings related to program style.\"}, {\"url\": \"https://www.python.org/\", \"content\": \"jobs.python.org\\\\nLatest News\\\\nMore\\\\nUpcoming Events\\\\nMore\\\\nSuccess Stories\\\\nMore\\\\nAbridging clinical conversations using Python by Nimshi Venkat and Sandeep Konam\\\\nUse Python for…\\\\nMore\\\\n>>> Python Software Foundation\\\\nThe mission of the Python Software Foundation is to promote, protect, and advance the Python programming language, and to support and facilitate the growth of a diverse and international community of Python programmers. More control flow tools in Python\\xa03\\\\nQuick & Easy to Learn\\\\nExperienced programmers in any other language can pick up Python very quickly, and beginners find the clean syntax and indentation structure easy to learn. More about lists in Python\\xa03\\\\nIntuitive Interpretation\\\\nCalculations are simple with Python, and expression syntax is straightforward: the operators +, -, * and / work as expected; parentheses () can be used for grouping. More about defining functions in Python\\xa03\\\\nCompound Data Types\\\\nLists (known as arrays in other languages) are one of the compound data types that Python understands.\"}]', name='tavily_search_results_json', id='ae269d6b-5189-4426-9e4d-05e30fe787fc', tool_call_id='call_UAJNCcA5r13aKNzU53Gqdj6G'),\n",
       " AIMessage(content=\"Python is an easy-to-learn, powerful programming language known for its elegant syntax and dynamic typing. It is widely used for scripting and rapid application development on various platforms. Python's interpreted nature makes it ideal for a wide range of applications. You can learn more about Python by visiting the [Python Official Website](https://www.python.org/).\\n\\nIf you are interested in more detailed information about Python, you can explore the [Python Tutorial](https://docs.python.org/3/tutorial/index.html) or read about its [history and development](https://en.wikipedia.org/wiki/Python_(programming_language)).\", response_metadata={'token_usage': {'completion_tokens': 122, 'prompt_tokens': 1520, 'total_tokens': 1642, 'completion_tokens_details': {'accepted_prediction_tokens': 0, 'audio_tokens': 0, 'reasoning_tokens': 0, 'rejected_prediction_tokens': 0}, 'prompt_tokens_details': {'audio_tokens': 0, 'cached_tokens': 0}}, 'model_name': 'gpt-3.5-turbo-0125', 'system_fingerprint': None, 'finish_reason': 'stop', 'logprobs': None}, id='run-6db97554-957c-47ad-99ab-b9458eabf698-0', usage_metadata={'input_tokens': 1520, 'output_tokens': 122, 'total_tokens': 1642})]"
      ]
     },
     "execution_count": 11,
     "metadata": {},
     "output_type": "execute_result"
    }
   ],
   "source": [
    "from langchain_core.messages import HumanMessage\n",
    "\n",
    "response = agent_executor.invoke({\"messages\": [HumanMessage(content=\"what is python ?\")]})\n",
    "\n",
    "response[\"messages\"]"
   ]
  },
  {
   "cell_type": "code",
   "execution_count": 12,
   "metadata": {},
   "outputs": [
    {
     "name": "stdout",
     "output_type": "stream",
     "text": [
      "{'agent': {'messages': [AIMessage(content='', additional_kwargs={'tool_calls': [{'id': 'call_ky6Apw8GhQjXCPsPKwS4X7dX', 'function': {'arguments': '{\"query\":\"T20 World Cup 2024 venue and dates\"}', 'name': 'tavily_search_results_json'}, 'type': 'function'}]}, response_metadata={'token_usage': {'completion_tokens': 28, 'prompt_tokens': 96, 'total_tokens': 124, 'completion_tokens_details': {'accepted_prediction_tokens': 0, 'audio_tokens': 0, 'reasoning_tokens': 0, 'rejected_prediction_tokens': 0}, 'prompt_tokens_details': {'audio_tokens': 0, 'cached_tokens': 0}}, 'model_name': 'gpt-3.5-turbo-0125', 'system_fingerprint': None, 'finish_reason': 'tool_calls', 'logprobs': None}, id='run-a276c1fb-f6af-4a3b-b7f8-6031a3a62656-0', tool_calls=[{'name': 'tavily_search_results_json', 'args': {'query': 'T20 World Cup 2024 venue and dates'}, 'id': 'call_ky6Apw8GhQjXCPsPKwS4X7dX', 'type': 'tool_call'}], usage_metadata={'input_tokens': 96, 'output_tokens': 28, 'total_tokens': 124})]}}\n",
      "----\n",
      "{'tools': {'messages': [ToolMessage(content='[{\"url\": \"https://sportstar.thehindu.com/cricket/t20-world-cup/t20-world-cup-schedule-2024-fixtures-full-list-matches-dates-venues-timings-india-icc-cricket-news/article68235664.ece\", \"content\": \"The ICC T20 World Cup 2024 will be held across three venues in the USA and six venues in the Caribbean from June 1 to June 29, with the final taking place in Barbados. India is scheduled to play against Pakistan in New York on June 9 as the groups and fixtures for the ninth edition of the 20-over showcase were confirmed on January 5, 2024.\"}, {\"url\": \"https://www.sportshistori.com/2024/01/icc-mens-t20-world-cup-2024-schedule-match-dates-times-venue-results.html\", \"content\": \"T20 World Cup 2024 Schedule: The 9th edition of T20 World Cup 2024 will commence from 1 June 2024, and will be co-hosted by the USA and West Indies. A total of 55 matches will be played across different venues in the host countries. The final match is scheduled to take place in Barbados on 29 June 2024.\"}, {\"url\": \"https://www.usatoday.com/story/sports/2024/01/05/icc-world-cup-2024-schedule/72110832007/\", \"content\": \"The series will mark Canada, USA and Uganda\\'s first appearances at a Men\\'s T20 World Cup.\\\\nLearn about the game:Understanding cricket\\\\nICC World Cup schedule\\\\nHere\\'s the full schedule of matchups and locations for the 2024 ICC Men\\'s T20 World Cup:\\\\nICC World Cup venues\\\\nMatches will take place in the following stadiums in the United States:\\\\nMatches will take place in the following stadiums in West Indies:\\\\nICC T20 World Cup groups\\\\n20 teams, split into 4 groups are participating in the tournament. The opening match of the 9th edition of the ICC Men\\'s T20 World Cup of 2024 will be played between Canada and the U.S. on June 1 in Dallas, while the grand finale will take place on June 29 in Barbados. The top two sides from each group will progress to the Super Six phase of the tournament ahead of the knockout semi-finals and final.\\\\n New York City will host the much-anticipated clash between Pakistan and India on June 9, according to the schedule released by the ICC.\\\\n The U.S. is set to host its first ever ICC cricket tournament this year, the ICC Men’s T20 World Cup, as a co-host with West Indies.\"}]', name='tavily_search_results_json', tool_call_id='call_ky6Apw8GhQjXCPsPKwS4X7dX')]}}\n",
      "----\n",
      "{'agent': {'messages': [AIMessage(content='The T20 World Cup 2024 will be held across three venues in the USA and six venues in the Caribbean from June 1 to June 29, with the final taking place in Barbados. India is scheduled to play against Pakistan in New York on June 9. The tournament will feature a total of 55 matches played across different venues in the host countries.', response_metadata={'token_usage': {'completion_tokens': 77, 'prompt_tokens': 704, 'total_tokens': 781, 'completion_tokens_details': {'accepted_prediction_tokens': 0, 'audio_tokens': 0, 'reasoning_tokens': 0, 'rejected_prediction_tokens': 0}, 'prompt_tokens_details': {'audio_tokens': 0, 'cached_tokens': 0}}, 'model_name': 'gpt-3.5-turbo-0125', 'system_fingerprint': None, 'finish_reason': 'stop', 'logprobs': None}, id='run-1038d64d-4911-4a2e-a274-9e820a97b761-0', usage_metadata={'input_tokens': 704, 'output_tokens': 77, 'total_tokens': 781})]}}\n",
      "----\n"
     ]
    }
   ],
   "source": [
    "for chunk in agent_executor.stream(\n",
    "    {\"messages\": [HumanMessage(content=\"When and Where is the t20 worldcup  2024 played?\")]}\n",
    "):\n",
    "    print(chunk)\n",
    "    print(\"----\")"
   ]
  },
  {
   "cell_type": "code",
   "execution_count": null,
   "metadata": {},
   "outputs": [],
   "source": []
  },
  {
   "cell_type": "markdown",
   "metadata": {},
   "source": [
    "## Adding memory\n",
    "* Adding memory in LangGraph is very similar to what we did with LangChain."
   ]
  },
  {
   "cell_type": "markdown",
   "metadata": {},
   "source": []
  },
  {
   "cell_type": "code",
   "execution_count": 13,
   "metadata": {},
   "outputs": [],
   "source": [
    "from langgraph.checkpoint.memory import MemorySaver\n",
    "\n",
    "memory = MemorySaver()"
   ]
  },
  {
   "cell_type": "code",
   "execution_count": 14,
   "metadata": {},
   "outputs": [],
   "source": [
    "agent_executor = create_react_agent(llm, tools, checkpointer=memory)\n",
    "\n",
    "config = {\"configurable\": {\"thread_id\": \"001\"}}"
   ]
  },
  {
   "cell_type": "code",
   "execution_count": 15,
   "metadata": {},
   "outputs": [
    {
     "name": "stdout",
     "output_type": "stream",
     "text": [
      "{'agent': {'messages': [AIMessage(content='', additional_kwargs={'tool_calls': [{'id': 'call_ILzG7XSO3fkIK6N5wgUw3U0I', 'function': {'arguments': '{\"query\":\"T20 World Cup 2024 winner\"}', 'name': 'tavily_search_results_json'}, 'type': 'function'}]}, response_metadata={'token_usage': {'completion_tokens': 26, 'prompt_tokens': 94, 'total_tokens': 120, 'completion_tokens_details': {'accepted_prediction_tokens': 0, 'audio_tokens': 0, 'reasoning_tokens': 0, 'rejected_prediction_tokens': 0}, 'prompt_tokens_details': {'audio_tokens': 0, 'cached_tokens': 0}}, 'model_name': 'gpt-3.5-turbo-0125', 'system_fingerprint': None, 'finish_reason': 'tool_calls', 'logprobs': None}, id='run-e43c8454-4f54-48be-823c-beb4aee380d9-0', tool_calls=[{'name': 'tavily_search_results_json', 'args': {'query': 'T20 World Cup 2024 winner'}, 'id': 'call_ILzG7XSO3fkIK6N5wgUw3U0I', 'type': 'tool_call'}], usage_metadata={'input_tokens': 94, 'output_tokens': 26, 'total_tokens': 120})]}}\n",
      "----\n",
      "{'tools': {'messages': [ToolMessage(content='[{\"url\": \"https://www.crictracker.com/cricket-news/t20-world-cup-2024-winner-prize-money-complete-list-of-award-winners-top-records-stats-all-you-need-to-know-5848/\", \"content\": \"T20 World Cup 2024 Winner Prize Money, Complete List of Award-Winners, Top Records & Stats - All You Need To Know India won the T20 World Cup 2024 thwarting South Africa by seven runs in Barbados\"}, {\"url\": \"https://indianexpress.com/article/sports/cricket/india-win-t20-world-cup-2024-stun-south-africa-by-7-runs-in-final-9423182/\", \"content\": \"T20 World Cup: India end long title drought after final for the ages against South Africa | Cricket News - The Indian Express News T20 World Cup: India end long title drought after final for the ages against South Africa T20 World Cup: India end long title drought after final for the ages against South Africa India\\'s captain Rohit Sharma, center, and teammates celebrate with the winners trophy after defeating South Africa in the ICC Men\\'s T20 World Cup final cricket match at Kensington Oval in Bridgetown, Barbados, Saturday, June 29, 2024. India had to win the final several times, with South Africa refusing to accept it was Rohit’s destiny to get his hands on the trophy, that it was somehow preordained. India News\"}, {\"url\": \"https://apnews.com/article/t20-world-cup-final-india-south-africa-7e34991216a0e6b32e0ead3d5dbf6684\", \"content\": \"India\\'s head coach Rahul Dravid, center, and players celebrate with the winners trophy after defeating South Africa in the ICC Men\\'s T20 World Cup final cricket match at Kensington Oval in Bridgetown, Barbados, Saturday, June 29, 2024.\"}]', name='tavily_search_results_json', tool_call_id='call_ILzG7XSO3fkIK6N5wgUw3U0I')]}}\n",
      "----\n",
      "{'agent': {'messages': [AIMessage(content='India won the T20 World Cup 2024 by defeating South Africa by seven runs in Barbados.', response_metadata={'token_usage': {'completion_tokens': 23, 'prompt_tokens': 544, 'total_tokens': 567, 'completion_tokens_details': {'accepted_prediction_tokens': 0, 'audio_tokens': 0, 'reasoning_tokens': 0, 'rejected_prediction_tokens': 0}, 'prompt_tokens_details': {'audio_tokens': 0, 'cached_tokens': 0}}, 'model_name': 'gpt-3.5-turbo-0125', 'system_fingerprint': None, 'finish_reason': 'stop', 'logprobs': None}, id='run-d025291e-248e-4842-b965-f49ca372e495-0', usage_metadata={'input_tokens': 544, 'output_tokens': 23, 'total_tokens': 567})]}}\n",
      "----\n"
     ]
    }
   ],
   "source": [
    "for chunk in agent_executor.stream(\n",
    "    {\"messages\": [HumanMessage(content=\"Who won the  t20 worldcup  2024 ?\")]}, config\n",
    "):\n",
    "    print(chunk)\n",
    "    print(\"----\")"
   ]
  },
  {
   "cell_type": "code",
   "execution_count": 16,
   "metadata": {},
   "outputs": [
    {
     "name": "stdout",
     "output_type": "stream",
     "text": [
      "{'agent': {'messages': [AIMessage(content='', additional_kwargs={'tool_calls': [{'id': 'call_uWyHdTL6BXwRlbIh6rTc0t0s', 'function': {'arguments': '{\"query\":\"Top stars of India T20 World Cup 2024 team\"}', 'name': 'tavily_search_results_json'}, 'type': 'function'}]}, response_metadata={'token_usage': {'completion_tokens': 30, 'prompt_tokens': 583, 'total_tokens': 613, 'completion_tokens_details': {'accepted_prediction_tokens': 0, 'audio_tokens': 0, 'reasoning_tokens': 0, 'rejected_prediction_tokens': 0}, 'prompt_tokens_details': {'audio_tokens': 0, 'cached_tokens': 0}}, 'model_name': 'gpt-3.5-turbo-0125', 'system_fingerprint': None, 'finish_reason': 'tool_calls', 'logprobs': None}, id='run-bb965e3f-1fff-43e8-8106-1bad38176258-0', tool_calls=[{'name': 'tavily_search_results_json', 'args': {'query': 'Top stars of India T20 World Cup 2024 team'}, 'id': 'call_uWyHdTL6BXwRlbIh6rTc0t0s', 'type': 'tool_call'}], usage_metadata={'input_tokens': 583, 'output_tokens': 30, 'total_tokens': 613})]}}\n",
      "----\n",
      "{'tools': {'messages': [ToolMessage(content='[{\"url\": \"https://www.indiatoday.in/sports/cricket/story/t20-world-cup-icc-team-of-tournament-rohit-sharma-captain-jasprit-bumrah-2560538-2024-07-01\", \"content\": \"Rohit Sharma was named as the captain as there were 6 Indian stars who were in the lineup as ICC announced their Team Of The Tournament for the T20 World Cup 2024 on July 1, Monday. 12 players from a total of 4 teams made it to the team of the tournament with Suryakumar Yadav, Jasprit Bumrah, Arshdeep Singh, Hardik Pandya and Axar Patel were the other Indians in the team apart from Rohit Sharma.\"}, {\"url\": \"https://www.icc-cricket.com/media-releases/four-nationalities-star-in-icc-men-s-t20-world-cup-2024-team-of-the-tournament\", \"content\": \"Arshdeep Singha - India; Fazalhaq Farooqi - Afghanistan; 12th player: Anrich Nortje - South Africa. Rohit Sharma will captain the team of the ICC Men\\'s T20 World Cup 2024 after leading India to their second victory in the competition. Sharma finished as the second top run-scorer in the competition, scoring 257 runs in eight innings.\"}, {\"url\": \"https://www.icc-cricket.com/news/six-indian-t20-world-cup-stars-named-in-team-of-the-tournament?sf193280919=1\", \"content\": \"ICC have announced the team of the tournament for the Men\\'s T20 World Cup 2024. ... Six Indian T20 World Cup stars named in team of the tournament ... Setting the tone at the top of the order, Rohit Sharma embraced India\\'s new approach in T20Is and showed the way with his brilliant ball striking. Scoring at a rate of 156.7, the Indian skipper\"}]', name='tavily_search_results_json', tool_call_id='call_uWyHdTL6BXwRlbIh6rTc0t0s')]}}\n",
      "----\n",
      "{'agent': {'messages': [AIMessage(content='The top stars of the India T20 World Cup 2024 team were:\\n1. Rohit Sharma (Captain)\\n2. Suryakumar Yadav\\n3. Jasprit Bumrah\\n4. Arshdeep Singh\\n5. Hardik Pandya\\n6. Axar Patel\\n\\nThese players were part of the ICC Team of the Tournament for the T20 World Cup 2024.', response_metadata={'token_usage': {'completion_tokens': 84, 'prompt_tokens': 1042, 'total_tokens': 1126, 'completion_tokens_details': {'accepted_prediction_tokens': 0, 'audio_tokens': 0, 'reasoning_tokens': 0, 'rejected_prediction_tokens': 0}, 'prompt_tokens_details': {'audio_tokens': 0, 'cached_tokens': 0}}, 'model_name': 'gpt-3.5-turbo-0125', 'system_fingerprint': None, 'finish_reason': 'stop', 'logprobs': None}, id='run-b26963d2-a2e2-4b94-b6a9-8e150ccd78f6-0', usage_metadata={'input_tokens': 1042, 'output_tokens': 84, 'total_tokens': 1126})]}}\n",
      "----\n"
     ]
    }
   ],
   "source": [
    "for chunk in agent_executor.stream(\n",
    "    {\"messages\": [HumanMessage(content=\"Who were the top stars of that winner team?\")]}, config\n",
    "):\n",
    "    print(chunk)\n",
    "    print(\"----\")"
   ]
  },
  {
   "cell_type": "code",
   "execution_count": 17,
   "metadata": {},
   "outputs": [
    {
     "name": "stdout",
     "output_type": "stream",
     "text": [
      "{'agent': {'messages': [AIMessage(content=\"I'm not sure which team you are referring to in T20 cricket. Could you please provide me with more context or details so I can assist you better?\", response_metadata={'token_usage': {'completion_tokens': 34, 'prompt_tokens': 91, 'total_tokens': 125, 'completion_tokens_details': {'accepted_prediction_tokens': 0, 'audio_tokens': 0, 'reasoning_tokens': 0, 'rejected_prediction_tokens': 0}, 'prompt_tokens_details': {'audio_tokens': 0, 'cached_tokens': 0}}, 'model_name': 'gpt-3.5-turbo-0125', 'system_fingerprint': None, 'finish_reason': 'stop', 'logprobs': None}, id='run-0ada8657-4afc-49b4-9d5a-165e2b318da3-0', usage_metadata={'input_tokens': 91, 'output_tokens': 34, 'total_tokens': 125})]}}\n",
      "----\n"
     ]
    }
   ],
   "source": [
    "config = {\"configurable\": {\"thread_id\": \"002\"}}\n",
    "\n",
    "for chunk in agent_executor.stream(\n",
    "    {\"messages\": [HumanMessage(content=\"About what team t20  we were talking?\")]}, config\n",
    "):\n",
    "    print(chunk)\n",
    "    print(\"----\")"
   ]
  },
  {
   "cell_type": "code",
   "execution_count": 18,
   "metadata": {},
   "outputs": [
    {
     "name": "stdout",
     "output_type": "stream",
     "text": [
      "The End\n"
     ]
    }
   ],
   "source": [
    "print(\"The End\")"
   ]
  }
 ],
 "metadata": {
  "kernelspec": {
   "display_name": "Python 3",
   "language": "python",
   "name": "python3"
  },
  "language_info": {
   "codemirror_mode": {
    "name": "ipython",
    "version": 3
   },
   "file_extension": ".py",
   "mimetype": "text/x-python",
   "name": "python",
   "nbconvert_exporter": "python",
   "pygments_lexer": "ipython3",
   "version": "3.11.11"
  }
 },
 "nbformat": 4,
 "nbformat_minor": 2
}
