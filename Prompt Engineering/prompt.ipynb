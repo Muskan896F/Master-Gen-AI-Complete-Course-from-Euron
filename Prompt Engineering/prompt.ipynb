{
 "cells": [
  {
   "cell_type": "code",
   "execution_count": 1,
   "metadata": {},
   "outputs": [],
   "source": [
    "###"
   ]
  },
  {
   "cell_type": "markdown",
   "metadata": {},
   "source": [
    "### 10 Prompt Engineering Tips (Short Version)\n",
    "Be Clear:\n",
    "Use specific and precise instructions. Example: \"Summarize in 2 sentences.\"\n",
    "\n",
    "Define Output Format:\n",
    "Request structured responses like bullet points, JSON, or HTML.\n",
    "\n",
    "Ask for a Self-Check:\n",
    "Add checks like: \"If unsure, respond with 'No information.'\"\n",
    "\n",
    "Use Delimiters or Tags:\n",
    "Separate instructions and context clearly to avoid confusion.\n",
    "\n",
    "Role Prompting:\n",
    "Assign a role to the model to adjust style and tone, e.g., \"Act as a mathematician.\"\n",
    "\n",
    "Limit Context:\n",
    "Use only the most relevant parts of a document to improve response accuracy.\n",
    "\n",
    "Show Examples:\n",
    "Provide examples to guide the model toward desired responses.\n",
    "\n",
    "Ask for Explanation:\n",
    "Request reasoning to improve accuracy, especially for logical tasks.\n",
    "\n",
    "Provide Step-by-Step Instructions:\n",
    "Include detailed steps or examples for better problem-solving.\n",
    "\n",
    "Split Tasks:\n",
    "Break complex tasks into smaller subtasks (prompt chaining) for more control."
   ]
  },
  {
   "cell_type": "code",
   "execution_count": null,
   "metadata": {},
   "outputs": [],
   "source": []
  },
  {
   "cell_type": "code",
   "execution_count": null,
   "metadata": {},
   "outputs": [],
   "source": []
  },
  {
   "cell_type": "markdown",
   "metadata": {},
   "source": [
    "#"
   ]
  },
  {
   "cell_type": "markdown",
   "metadata": {},
   "source": [
    "## Types of Prompting with Examples \n",
    "Zero-Shot Prompting:\n",
    "Ask a task without examples.\n",
    "Example: \"Translate this to French: Hello.\"\n",
    "\n",
    "One-Shot Prompting:\n",
    "Provide one example before the task.\n",
    "Example:\n",
    "\"Translate: 'Hello -> Bonjour'. Now, translate: 'Goodbye'.\"\n",
    "\n",
    "Few-Shot Prompting:\n",
    "Provide a few examples to guide the model.\n",
    "Example:\n",
    "\"Translate: 'Hello -> Bonjour', 'Cat -> Chat'. Now, translate: 'Dog'.\"\n",
    "\n",
    "Chain-of-Thought Prompting:\n",
    "Encourage step-by-step reasoning.\n",
    "Example:\n",
    "\"Calculate: If 5 apples cost $10, what is the cost of 2 apples? Step-by-step, first find the cost of 1 apple...\"\n",
    "\n",
    "Role-Based Prompting:\n",
    "Assign a role to influence tone or expertise.\n",
    "Example:\n",
    "\"You are a teacher. Explain Python functions to beginners.\"\n",
    "\n",
    "Instruction-Based Prompting:\n",
    "Provide detailed instructions for specific output.\n",
    "Example:\n",
    "\"Summarize the text in 3 bullet points.\"\n",
    "\n",
    "Interactive Prompting:\n",
    "Use iterative inputs for clarification or refinement.\n",
    "Example:\n",
    "\"Rewrite this text to make it formal. If unclear, ask questions.\"\n",
    "\n",
    "Prompt Chaining:\n",
    "Break tasks into smaller parts.\n",
    "Example:\n",
    "\"First, generate a title. Then create an outline. Finally, write the content.\"\n",
    "\n",
    "Contextual Prompting:\n",
    "Provide relevant context for better responses.\n",
    "Example:\n",
    "\"Based on the given paragraph, summarize it in one sentence.\"\n",
    "\n",
    "Multimodal Prompting:\n",
    "Use text along with other inputs like images.\n",
    "Example:\n",
    "\"Describe the attached image in one sentence.\""
   ]
  },
  {
   "cell_type": "code",
   "execution_count": 2,
   "metadata": {},
   "outputs": [],
   "source": [
    "from langchain_openai import ChatOpenAI\n",
    "\n",
    "chatModel = ChatOpenAI(model=\"gpt-3.5-turbo\")"
   ]
  },
  {
   "cell_type": "code",
   "execution_count": 3,
   "metadata": {},
   "outputs": [],
   "source": [
    "import os\n",
    "from dotenv import load_dotenv, find_dotenv\n",
    "_ = load_dotenv(find_dotenv())\n",
    "openai_api_key = os.environ[\"OPENAI_API_KEY\"]"
   ]
  },
  {
   "cell_type": "code",
   "execution_count": 4,
   "metadata": {},
   "outputs": [
    {
     "name": "stdout",
     "output_type": "stream",
     "text": [
      "Here is an example of a one-week study schedule in a tabular format:\n",
      "\n",
      "| Day        | Morning (9am-12pm)       | Afternoon (1pm-4pm)     | Evening (6pm-9pm)      |\n",
      "|------------|---------------------------|-------------------------|------------------------|\n",
      "| Monday     | Review notes              | Practice past papers    | Study difficult topics |\n",
      "| Tuesday    | Read textbook chapters    | Quiz yourself           | Review flashcards      |\n",
      "| Wednesday  | Solve practice problems   | Study with a group      | Watch educational videos|\n",
      "| Thursday   | Review formulas           | Take a break            | Practice time management|\n",
      "| Friday     | Mock exam simulation      | Revise weak areas       | Relax and unwind       |\n",
      "| Saturday   | Review previous exams     | Memorize key concepts   | Have a study group session|\n",
      "| Sunday     | Final revision            | Go for a walk           | Get a good night's sleep|\n",
      "\n",
      "Remember to take breaks, stay hydrated, and get enough rest to ensure your brain is functioning at its best during your board exams. Good luck!\n"
     ]
    }
   ],
   "source": [
    "prompt = \"\"\"\n",
    "How can I effectively prepare for my board exams?\n",
    "Example: 'Create a schedule for one week in a tabular format'\n",
    "\"\"\"\n",
    "\n",
    "response = chatModel.invoke(prompt)\n",
    "\n",
    "study_schedule = response.content\n",
    "print(study_schedule)"
   ]
  },
  {
   "cell_type": "code",
   "execution_count": 5,
   "metadata": {},
   "outputs": [
    {
     "name": "stdout",
     "output_type": "stream",
     "text": [
      "Example 3: 'Create a study schedule and stick to it to ensure comprehensive coverage of all topics.'\n",
      "Example 4: 'Seek help from teachers or tutors for clarification on difficult concepts.'\n",
      "Example 5: 'Practice time management by solving sample papers within the allotted time frame.'\n",
      "Example 6: 'Stay organized with notes, flashcards, and summaries for quick revision.'\n",
      "Example 7: 'Take breaks and prioritize self-care to maintain focus and reduce stress levels.'\n"
     ]
    }
   ],
   "source": [
    "prompt = \"\"\"\n",
    "How can I effectively prepare for my board exams?\n",
    "Example 1: 'Divide the syllabus into smaller parts and focus on one section at a time.'\n",
    "Example 2: 'Review past papers to get familiar with the exam pattern.'\n",
    "\"\"\"\n",
    "\n",
    "response = chatModel.invoke(prompt)\n",
    "\n",
    "study_schedule = response.content\n",
    "print(study_schedule)"
   ]
  },
  {
   "cell_type": "code",
   "execution_count": 6,
   "metadata": {},
   "outputs": [
    {
     "name": "stdout",
     "output_type": "stream",
     "text": [
      "| Step | Task                           | Time Needed | Resources Needed |\n",
      "|------|--------------------------------|-------------|-------------------|\n",
      "| 1    | Create a study schedule        | 1 hour      | Study materials   |\n",
      "| 2    | Review key concepts in maths   | 4 hours     | Textbooks, notes   |\n",
      "| 3    | Practice solving math problems | 3 hours     | Practice questions |\n",
      "| 4    | Review key concepts in physics | 4 hours     | Textbooks, notes   |\n",
      "| 5    | Practice solving physics problems | 3 hours   | Practice questions |\n",
      "| 6    | Review key concepts in chemistry | 4 hours   | Textbooks, notes   |\n",
      "| 7    | Practice solving chemistry problems | 3 hours | Practice questions |\n",
      "| 8    | Review key concepts in computer science | 4 hours | Textbooks, notes |\n",
      "| 9    | Practice solving computer science problems | 3 hours | Practice questions |\n",
      "| 10   | Rest and relaxation             | 4 hours    | N/A               |\n",
      "| 11   | Get a good night's sleep        | N/A         | N/A               |\n"
     ]
    }
   ],
   "source": [
    "prompt = \"\"\"\n",
    "What steps should I take to prepare borad exam you have to give fore maths , physics , chemisty in 2 days adn also give in computer plan give in tabular format\n",
    "\n",
    "\"\"\"\n",
    "response = chatModel.invoke(prompt)\n",
    "\n",
    "study_schedule = response.content\n",
    "print(study_schedule)"
   ]
  },
  {
   "cell_type": "code",
   "execution_count": 7,
   "metadata": {},
   "outputs": [
    {
     "name": "stdout",
     "output_type": "stream",
     "text": [
      "The End\n"
     ]
    }
   ],
   "source": [
    "print(\"The End\")"
   ]
  }
 ],
 "metadata": {
  "kernelspec": {
   "display_name": "Python 3",
   "language": "python",
   "name": "python3"
  },
  "language_info": {
   "codemirror_mode": {
    "name": "ipython",
    "version": 3
   },
   "file_extension": ".py",
   "mimetype": "text/x-python",
   "name": "python",
   "nbconvert_exporter": "python",
   "pygments_lexer": "ipython3",
   "version": "3.11.11"
  }
 },
 "nbformat": 4,
 "nbformat_minor": 2
}
