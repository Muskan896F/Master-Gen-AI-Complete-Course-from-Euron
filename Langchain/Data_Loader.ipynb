{
 "cells": [
  {
   "cell_type": "code",
   "execution_count": 1,
   "metadata": {},
   "outputs": [],
   "source": [
    "import os\n",
    "from dotenv import load_dotenv, find_dotenv\n",
    "_ = load_dotenv(find_dotenv())\n",
    "openai_api_key = os.environ[\"OPENAI_API_KEY\"]"
   ]
  },
  {
   "cell_type": "code",
   "execution_count": 2,
   "metadata": {},
   "outputs": [],
   "source": [
    "from langchain_openai import ChatOpenAI\n",
    "\n",
    "chatModel = ChatOpenAI(model=\"gpt-3.5-turbo-0125\")"
   ]
  },
  {
   "cell_type": "code",
   "execution_count": 4,
   "metadata": {},
   "outputs": [],
   "source": [
    "messages = [\n",
    "    (\"system\", \"You are an helpful assistant.\"),\n",
    "    (\"human\", \"tell me about genaiwithmuskii\"),\n",
    "]"
   ]
  },
  {
   "cell_type": "code",
   "execution_count": 5,
   "metadata": {},
   "outputs": [],
   "source": [
    "resoponse=chatModel.invoke(messages)"
   ]
  },
  {
   "cell_type": "code",
   "execution_count": 6,
   "metadata": {},
   "outputs": [
    {
     "name": "stdout",
     "output_type": "stream",
     "text": [
      "I'm sorry, but I couldn't find any information on \"genaiwithmuskii.\" It seems like it might be a misspelling or a unique term. Can you provide more context or details so I can better assist you?\n"
     ]
    }
   ],
   "source": [
    "print(resoponse.content)"
   ]
  },
  {
   "cell_type": "code",
   "execution_count": 7,
   "metadata": {},
   "outputs": [
    {
     "name": "stdout",
     "output_type": "stream",
     "text": [
      "Requirement already satisfied: langchain-community==0.2.10 in c:\\users\\hp\\master-gen-ai-complete-course-from-euron\\master\\lib\\site-packages (0.2.10)\n",
      "Requirement already satisfied: PyYAML>=5.3 in c:\\users\\hp\\master-gen-ai-complete-course-from-euron\\master\\lib\\site-packages (from langchain-community==0.2.10) (6.0.2)\n",
      "Requirement already satisfied: SQLAlchemy<3,>=1.4 in c:\\users\\hp\\master-gen-ai-complete-course-from-euron\\master\\lib\\site-packages (from langchain-community==0.2.10) (2.0.36)\n",
      "Requirement already satisfied: aiohttp<4.0.0,>=3.8.3 in c:\\users\\hp\\master-gen-ai-complete-course-from-euron\\master\\lib\\site-packages (from langchain-community==0.2.10) (3.11.11)\n",
      "Requirement already satisfied: dataclasses-json<0.7,>=0.5.7 in c:\\users\\hp\\master-gen-ai-complete-course-from-euron\\master\\lib\\site-packages (from langchain-community==0.2.10) (0.6.7)\n",
      "Requirement already satisfied: langchain<0.3.0,>=0.2.9 in c:\\users\\hp\\master-gen-ai-complete-course-from-euron\\master\\lib\\site-packages (from langchain-community==0.2.10) (0.2.10)\n",
      "Requirement already satisfied: langchain-core<0.3.0,>=0.2.23 in c:\\users\\hp\\master-gen-ai-complete-course-from-euron\\master\\lib\\site-packages (from langchain-community==0.2.10) (0.2.43)\n",
      "Requirement already satisfied: langsmith<0.2.0,>=0.1.0 in c:\\users\\hp\\master-gen-ai-complete-course-from-euron\\master\\lib\\site-packages (from langchain-community==0.2.10) (0.1.147)\n",
      "Requirement already satisfied: numpy<2,>=1 in c:\\users\\hp\\master-gen-ai-complete-course-from-euron\\master\\lib\\site-packages (from langchain-community==0.2.10) (1.26.4)\n",
      "Requirement already satisfied: requests<3,>=2 in c:\\users\\hp\\master-gen-ai-complete-course-from-euron\\master\\lib\\site-packages (from langchain-community==0.2.10) (2.32.3)\n",
      "Requirement already satisfied: tenacity!=8.4.0,<9.0.0,>=8.1.0 in c:\\users\\hp\\master-gen-ai-complete-course-from-euron\\master\\lib\\site-packages (from langchain-community==0.2.10) (8.5.0)\n",
      "Requirement already satisfied: aiohappyeyeballs>=2.3.0 in c:\\users\\hp\\master-gen-ai-complete-course-from-euron\\master\\lib\\site-packages (from aiohttp<4.0.0,>=3.8.3->langchain-community==0.2.10) (2.4.4)\n",
      "Requirement already satisfied: aiosignal>=1.1.2 in c:\\users\\hp\\master-gen-ai-complete-course-from-euron\\master\\lib\\site-packages (from aiohttp<4.0.0,>=3.8.3->langchain-community==0.2.10) (1.3.2)\n",
      "Requirement already satisfied: attrs>=17.3.0 in c:\\users\\hp\\master-gen-ai-complete-course-from-euron\\master\\lib\\site-packages (from aiohttp<4.0.0,>=3.8.3->langchain-community==0.2.10) (24.3.0)\n",
      "Requirement already satisfied: frozenlist>=1.1.1 in c:\\users\\hp\\master-gen-ai-complete-course-from-euron\\master\\lib\\site-packages (from aiohttp<4.0.0,>=3.8.3->langchain-community==0.2.10) (1.5.0)\n",
      "Requirement already satisfied: multidict<7.0,>=4.5 in c:\\users\\hp\\master-gen-ai-complete-course-from-euron\\master\\lib\\site-packages (from aiohttp<4.0.0,>=3.8.3->langchain-community==0.2.10) (6.1.0)\n",
      "Requirement already satisfied: propcache>=0.2.0 in c:\\users\\hp\\master-gen-ai-complete-course-from-euron\\master\\lib\\site-packages (from aiohttp<4.0.0,>=3.8.3->langchain-community==0.2.10) (0.2.1)\n",
      "Requirement already satisfied: yarl<2.0,>=1.17.0 in c:\\users\\hp\\master-gen-ai-complete-course-from-euron\\master\\lib\\site-packages (from aiohttp<4.0.0,>=3.8.3->langchain-community==0.2.10) (1.18.3)\n",
      "Requirement already satisfied: marshmallow<4.0.0,>=3.18.0 in c:\\users\\hp\\master-gen-ai-complete-course-from-euron\\master\\lib\\site-packages (from dataclasses-json<0.7,>=0.5.7->langchain-community==0.2.10) (3.23.2)\n",
      "Requirement already satisfied: typing-inspect<1,>=0.4.0 in c:\\users\\hp\\master-gen-ai-complete-course-from-euron\\master\\lib\\site-packages (from dataclasses-json<0.7,>=0.5.7->langchain-community==0.2.10) (0.9.0)\n",
      "Requirement already satisfied: langchain-text-splitters<0.3.0,>=0.2.0 in c:\\users\\hp\\master-gen-ai-complete-course-from-euron\\master\\lib\\site-packages (from langchain<0.3.0,>=0.2.9->langchain-community==0.2.10) (0.2.4)\n",
      "Requirement already satisfied: pydantic<3,>=1 in c:\\users\\hp\\master-gen-ai-complete-course-from-euron\\master\\lib\\site-packages (from langchain<0.3.0,>=0.2.9->langchain-community==0.2.10) (2.10.4)\n",
      "Requirement already satisfied: jsonpatch<2.0,>=1.33 in c:\\users\\hp\\master-gen-ai-complete-course-from-euron\\master\\lib\\site-packages (from langchain-core<0.3.0,>=0.2.23->langchain-community==0.2.10) (1.33)\n",
      "Requirement already satisfied: packaging<25,>=23.2 in c:\\users\\hp\\master-gen-ai-complete-course-from-euron\\master\\lib\\site-packages (from langchain-core<0.3.0,>=0.2.23->langchain-community==0.2.10) (24.2)\n",
      "Requirement already satisfied: typing-extensions>=4.7 in c:\\users\\hp\\master-gen-ai-complete-course-from-euron\\master\\lib\\site-packages (from langchain-core<0.3.0,>=0.2.23->langchain-community==0.2.10) (4.12.2)\n",
      "Requirement already satisfied: httpx<1,>=0.23.0 in c:\\users\\hp\\master-gen-ai-complete-course-from-euron\\master\\lib\\site-packages (from langsmith<0.2.0,>=0.1.0->langchain-community==0.2.10) (0.28.1)\n",
      "Requirement already satisfied: orjson<4.0.0,>=3.9.14 in c:\\users\\hp\\master-gen-ai-complete-course-from-euron\\master\\lib\\site-packages (from langsmith<0.2.0,>=0.1.0->langchain-community==0.2.10) (3.10.13)\n",
      "Requirement already satisfied: requests-toolbelt<2.0.0,>=1.0.0 in c:\\users\\hp\\master-gen-ai-complete-course-from-euron\\master\\lib\\site-packages (from langsmith<0.2.0,>=0.1.0->langchain-community==0.2.10) (1.0.0)\n",
      "Requirement already satisfied: charset-normalizer<4,>=2 in c:\\users\\hp\\master-gen-ai-complete-course-from-euron\\master\\lib\\site-packages (from requests<3,>=2->langchain-community==0.2.10) (3.4.1)\n",
      "Requirement already satisfied: idna<4,>=2.5 in c:\\users\\hp\\master-gen-ai-complete-course-from-euron\\master\\lib\\site-packages (from requests<3,>=2->langchain-community==0.2.10) (3.10)\n",
      "Requirement already satisfied: urllib3<3,>=1.21.1 in c:\\users\\hp\\master-gen-ai-complete-course-from-euron\\master\\lib\\site-packages (from requests<3,>=2->langchain-community==0.2.10) (2.3.0)\n",
      "Requirement already satisfied: certifi>=2017.4.17 in c:\\users\\hp\\master-gen-ai-complete-course-from-euron\\master\\lib\\site-packages (from requests<3,>=2->langchain-community==0.2.10) (2024.12.14)\n",
      "Requirement already satisfied: greenlet!=0.4.17 in c:\\users\\hp\\master-gen-ai-complete-course-from-euron\\master\\lib\\site-packages (from SQLAlchemy<3,>=1.4->langchain-community==0.2.10) (3.1.1)\n",
      "Requirement already satisfied: anyio in c:\\users\\hp\\master-gen-ai-complete-course-from-euron\\master\\lib\\site-packages (from httpx<1,>=0.23.0->langsmith<0.2.0,>=0.1.0->langchain-community==0.2.10) (4.7.0)\n",
      "Requirement already satisfied: httpcore==1.* in c:\\users\\hp\\master-gen-ai-complete-course-from-euron\\master\\lib\\site-packages (from httpx<1,>=0.23.0->langsmith<0.2.0,>=0.1.0->langchain-community==0.2.10) (1.0.7)\n",
      "Requirement already satisfied: h11<0.15,>=0.13 in c:\\users\\hp\\master-gen-ai-complete-course-from-euron\\master\\lib\\site-packages (from httpcore==1.*->httpx<1,>=0.23.0->langsmith<0.2.0,>=0.1.0->langchain-community==0.2.10) (0.14.0)\n",
      "Requirement already satisfied: jsonpointer>=1.9 in c:\\users\\hp\\master-gen-ai-complete-course-from-euron\\master\\lib\\site-packages (from jsonpatch<2.0,>=1.33->langchain-core<0.3.0,>=0.2.23->langchain-community==0.2.10) (3.0.0)\n",
      "Requirement already satisfied: annotated-types>=0.6.0 in c:\\users\\hp\\master-gen-ai-complete-course-from-euron\\master\\lib\\site-packages (from pydantic<3,>=1->langchain<0.3.0,>=0.2.9->langchain-community==0.2.10) (0.7.0)\n",
      "Requirement already satisfied: pydantic-core==2.27.2 in c:\\users\\hp\\master-gen-ai-complete-course-from-euron\\master\\lib\\site-packages (from pydantic<3,>=1->langchain<0.3.0,>=0.2.9->langchain-community==0.2.10) (2.27.2)\n",
      "Requirement already satisfied: mypy-extensions>=0.3.0 in c:\\users\\hp\\master-gen-ai-complete-course-from-euron\\master\\lib\\site-packages (from typing-inspect<1,>=0.4.0->dataclasses-json<0.7,>=0.5.7->langchain-community==0.2.10) (1.0.0)\n",
      "Requirement already satisfied: sniffio>=1.1 in c:\\users\\hp\\master-gen-ai-complete-course-from-euron\\master\\lib\\site-packages (from anyio->httpx<1,>=0.23.0->langsmith<0.2.0,>=0.1.0->langchain-community==0.2.10) (1.3.1)\n",
      "Note: you may need to restart the kernel to use updated packages.\n"
     ]
    }
   ],
   "source": [
    "pip install langchain-community==0.2.10"
   ]
  },
  {
   "cell_type": "markdown",
   "metadata": {},
   "source": [
    "# Text File "
   ]
  },
  {
   "cell_type": "code",
   "execution_count": 10,
   "metadata": {},
   "outputs": [],
   "source": [
    "from langchain_community.document_loaders import TextLoader"
   ]
  },
  {
   "cell_type": "code",
   "execution_count": 11,
   "metadata": {},
   "outputs": [],
   "source": [
    "loader = TextLoader(\"AI_VIKAS.txt\")"
   ]
  },
  {
   "cell_type": "code",
   "execution_count": 12,
   "metadata": {},
   "outputs": [],
   "source": [
    "loaded_data=loader.load()"
   ]
  },
  {
   "cell_type": "code",
   "execution_count": 13,
   "metadata": {},
   "outputs": [],
   "source": [
    "page_content=loaded_data[0].page_content"
   ]
  },
  {
   "cell_type": "code",
   "execution_count": 14,
   "metadata": {},
   "outputs": [
    {
     "name": "stdout",
     "output_type": "stream",
     "text": [
      "\\documentclass[10pt, letterpaper]{article}\n",
      "\n",
      "% Packages:\n",
      "\\usepackage[\n",
      "    ignoreheadfoot, % set margins without considering header and footer\n",
      "    top=2 cm, % separation between body and page edge from the top\n",
      "    bottom=2 cm, % separation between body and page edge from the bottom\n",
      "    left=2 cm, % separation between body and page edge from the left\n",
      "    right=2 cm, % separation between body and page edge from the right\n",
      "    footskip=1.0 cm, % separation between body and footer\n",
      "    % showframe % for debugging\n",
      "]{geometry} % for adjusting page geometry\n",
      "\\usepackage{titlesec} % for customizing section titles\n",
      "\\usepackage{tabularx} % for making tables with fixed width columns\n",
      "\\usepackage{array} % tabularx requires this\n",
      "\\usepackage[dvipsnames]{xcolor} % for coloring text\n",
      "\\definecolor{primaryColor}{RGB}{0, 0, 0} % define primary color\n",
      "\\usepackage{enumitem} % for customizing lists\n",
      "\\usepackage{fontawesome5} % for using icons\n",
      "\\usepackage{amsmath} % for math\n",
      "\\usepackage[\n",
      "    pdftitle={Vikas Jangid's CV},\n",
      "    pdfauthor={Vikas Jangid},\n",
      "    pdfcreator={LaTeX with RenderCV},\n",
      "    colorlinks=true,\n",
      "    urlcolor=primaryColor\n",
      "]{hyperref} % for links, metadata and bookmarks\n",
      "\\usepackage[pscoord]{eso-pic} % for floating text on the page\n",
      "\\usepackage{calc} % for calculating lengths\n",
      "\\usepackage{bookmark} % for bookmarks\n",
      "\\usepackage{lastpage} % for getting the total number of pages\n",
      "\\usepackage{changepage} % for one column entries (adjustwidth environment)\n",
      "\\usepackage{paracol} % for two and three column entries\n",
      "\\usepackage{ifthen} % for conditional statements\n",
      "\\usepackage{needspace} % for avoiding page brake right after the section title\n",
      "\\usepackage{iftex} % check if engine is pdflatex, xetex or luatex\n",
      "\n",
      "% Ensure that generate pdf is machine readable/ATS parsable:\n",
      "\\ifPDFTeX\n",
      "    \\input{glyphtounicode}\n",
      "    \\pdfgentounicode=1\n",
      "    \\usepackage[T1]{fontenc}\n",
      "    \\usepackage[utf8]{inputenc}\n",
      "    \\usepackage{lmodern}\n",
      "\\fi\n",
      "\n",
      "\\usepackage{charter}\n",
      "\n",
      "% Some settings:\n",
      "\\raggedright\n",
      "\\AtBeginEnvironment{adjustwidth}{\\partopsep0pt} % remove space before adjustwidth environment\n",
      "\\pagestyle{empty} % no header or footer\n",
      "\\setcounter{secnumdepth}{0} % no section numbering\n",
      "\\setlength{\\parindent}{0pt} % no indentation\n",
      "\\setlength{\\topskip}{0pt} % no top skip\n",
      "\\setlength{\\columnsep}{0.15cm} % set column separation\n",
      "\\pagenumbering{gobble} % no page numbering\n",
      "\n",
      "\\titleformat{\\section}{\\needspace{4\\baselineskip}\\bfseries\\large}{}{0pt}{}[\\vspace{1pt}\\titlerule]\n",
      "\n",
      "\\titlespacing{\\section}{\n",
      "    % left space:\n",
      "    -1pt\n",
      "}{\n",
      "    % top space:\n",
      "    0.3 cm\n",
      "}{\n",
      "    % bottom space:\n",
      "    0.2 cm\n",
      "} % section title spacing\n",
      "\n",
      "\\renewcommand\\labelitemi{$\\vcenter{\\hbox{\\small$\\bullet$}}$} % custom bullet points\n",
      "\\newenvironment{highlights}{\n",
      "    \\begin{itemize}[\n",
      "        topsep=0.10 cm,\n",
      "        parsep=0.10 cm,\n",
      "        partopsep=0pt,\n",
      "        itemsep=0pt,\n",
      "        leftmargin=0 cm + 10pt\n",
      "    ]\n",
      "}{\n",
      "    \\end{itemize}\n",
      "} % new environment for highlights\n",
      "\n",
      "\n",
      "\\newenvironment{highlightsforbulletentries}{\n",
      "    \\begin{itemize}[\n",
      "        topsep=0.10 cm,\n",
      "        parsep=0.10 cm,\n",
      "        partopsep=0pt,\n",
      "        itemsep=0pt,\n",
      "        leftmargin=10pt\n",
      "    ]\n",
      "}{\n",
      "    \\end{itemize}\n",
      "} % new environment for highlights for bullet entries\n",
      "\n",
      "\\newenvironment{onecolentry}{\n",
      "    \\begin{adjustwidth}{0 cm + 0.00001 cm}{0 cm + 0.00001 cm}\n",
      "}{\n",
      "    \\end{adjustwidth}\n",
      "} % new environment for one column entries\n",
      "\n",
      "\\newenvironment{twocolentry}[2][]{\n",
      "    \\onecolentry\n",
      "    \\def\\secondColumn{#2}\n",
      "    \\setcolumnwidth{\\fill, 4.5 cm}\n",
      "    \\begin{paracol}{2}\n",
      "}{\n",
      "    \\switchcolumn \\raggedleft \\secondColumn\n",
      "    \\end{paracol}\n",
      "    \\endonecolentry\n",
      "} % new environment for two column entries\n",
      "\n",
      "\\newenvironment{threecolentry}[3][]{\n",
      "    \\onecolentry\n",
      "    \\def\\thirdColumn{#3}\n",
      "    \\setcolumnwidth{, \\fill, 4.5 cm}\n",
      "    \\begin{paracol}{3}\n",
      "    {\\raggedright #2} \\switchcolumn\n",
      "}{\n",
      "    \\switchcolumn \\raggedleft \\thirdColumn\n",
      "    \\end{paracol}\n",
      "    \\endonecolentry\n",
      "} % new environment for three column entries\n",
      "\n",
      "\\newenvironment{header}{\n",
      "    \\setlength{\\topsep}{0pt}\\par\\kern\\topsep\\centering\\linespread{1.5}\n",
      "}{\n",
      "    \\par\\kern\\topsep\n",
      "} % new environment for the header\n",
      "\n",
      "\\newcommand{\\placelastupdatedtext}{% \\placetextbox{<horizontal pos>}{<vertical pos>}{<stuff>}\n",
      "  \\AddToShipoutPictureFG*{% Add <stuff> to current page foreground\n",
      "    \\put(\n",
      "        \\LenToUnit{\\paperwidth-2 cm-0 cm+0.05cm},\n",
      "        \\LenToUnit{\\paperheight-1.0 cm}\n",
      "    ){\\vtop{{\\null}\\makebox[0pt][c]{\n",
      "        \\small\\color{gray}\\textit{Last updated in September 2024}\\hspace{\\widthof{Last updated in September 2024}}\n",
      "    }}}%\n",
      "  }%\n",
      "}%\n",
      "\n",
      "% save the original href command in a new command:\n",
      "\\let\\hrefWithoutArrow\\href\n",
      "\n",
      "% new command for external links:\n",
      "\\newcommand{\\externalLink}[2]{%\n",
      "    \\href{#1}{#2}%\n",
      "}\n",
      "\n",
      "\\begin{document}\n",
      "    \\newcommand{\\AND}{\\unskip\n",
      "        \\cleaders\\copy\\ANDbox\\hskip\\wd\\ANDbox\n",
      "        \\ignorespaces\n",
      "    }\n",
      "    \\newsavebox\\ANDbox\n",
      "    \\sbox\\ANDbox{$|$}\n",
      "\n",
      "\\begin{header}\n",
      "    \\fontsize{25 pt}{25 pt}\\selectfont Vikas Jangid\n",
      "\n",
      "    \\vspace{5 pt}\n",
      "\n",
      "    \\normalsize\n",
      "\n",
      "    \\kern 5.0 pt%\n",
      "    \\AND%\n",
      "    \\kern 5.0 pt%\n",
      "    \\externalLink{mailto:vikasjangidmk@gmail.com}{vikasjangidmk@gmail.com}%\n",
      "    \\kern 5.0 pt%\n",
      "    \\AND%\n",
      "    \\kern 5.0 pt%\n",
      "    \\externalLink{https://linkedin.com/in/vikas-jangid-ab0b0b1b9}{linkedin.com/in/vikas-jangid-ab0b0b1b9}%\n",
      "    \\kern 5.0 pt%\n",
      "    \\AND%\n",
      "    \\kern 5.0 pt%\n",
      "    \\externalLink{https://github.com/vikasjangidmk}{github.com/vikasjangidmk}%\n",
      "\\end{header}\n",
      "\n",
      "\n",
      "    \\vspace{5 pt - 0.3 cm}\n",
      "\n",
      "\\section{About Me}\n",
      "\n",
      "\\begin{onecolentry}\n",
      "    \"I’m an aspiring Data Scientist with a strong focus on Generative AI technologies, including experience with advanced models such as Llama3.3, Groq API, and NLP techniques. I have hands-on expertise in building and deploying AI-driven solutions for real-time document processing, semantic search, and content generation. During my recent internship, I gained hands-on experience in data cleaning, analysis, and visualization. I am now eager to apply my skills in a role that focuses on using data-driven insights to solve complex problems. I’m passionate about leveraging Generative AI to solve complex problems, enhance productivity, and create impactful solutions.\"\n",
      "\\end{onecolentry}\n",
      "\n",
      "    \\vspace{0.2 cm}\n",
      "\n",
      "\n",
      "\\section{Experience}\n",
      "\n",
      "\\begin{itemize}[leftmargin=0.5cm]\n",
      "    \\item[] \\textbf{Data Science Intern} \\hfill \\textit{Sep--Oct 2024} \\\\\n",
      "    Cognifyz, Remote\n",
      "    \\vspace{-0.2cm}\n",
      "    \\begin{itemize}[leftmargin=0.5cm]\n",
      "        \\item Conducted data cleaning and preprocessing to ensure the quality and reliability of datasets for analysis. \n",
      "        \\item Utilized Python for data analysis and visualization, leveraging libraries such as \\textbf{pandas}, \\textbf{NumPy}, and \\textbf{Matplotlib}.\n",
      "        \\item Designed and developed machine learning models for predictive analysis, evaluating their performance to generate actionable insights.\n",
      "        \\item Gained expertise in handling, analyzing, and building machine learning models for real-world applications, improving decision-making processes.\n",
      "    \\end{itemize}\n",
      "    \\vspace{0.3cm}\n",
      "\n",
      "    \\item[] \\textbf{Data Science Intern} \\hfill \\textit{Dec 2024--Jan 2025} \\\\\n",
      "    Oasis Info Byte, Remote\n",
      "    \\vspace{-0.2cm}\n",
      "    \\begin{itemize}[leftmargin=0.5cm]\n",
      "        \\item Leveraged advanced NLP techniques, such as lemmatization, stemming, and \\textbf{word2vec}, to identify duplicate questions and improve user experience on the Quora platform.\n",
      "        \\item Implemented the \\textbf{Random Forest} algorithm for classification tasks and integrated \\textbf{Streamlit} to create an intuitive user interface for real-time interaction.\n",
      "        \\item Developed a machine learning-based system to identify defective semiconductor wafers, optimizing production efficiency and maintaining high-quality standards in integrated circuits.\n",
      "        \\item Applied advanced machine learning techniques to enhance defect detection accuracy in semiconductor manufacturing, improving operational efficiency.\n",
      "    \\end{itemize}\n",
      "\\end{itemize}\n",
      "\n",
      "\\section{Skills}\n",
      "\n",
      "\\begin{itemize}[leftmargin=0.15in]\n",
      "    \\item \\textbf{Generative AI:}\n",
      "    \\begin{itemize}\n",
      "        \\item Prompt Design/Engineering\n",
      "        \\item Retrieval-Augmented Generation (RAG), Corrective RAG, Knowledge Graph-based RAG\n",
      "        \\item Fine-tuning (LORA/QLORA)\n",
      "        \\item Multi-agentic frameworks for RAG\n",
      "        \\item Experience with Generative AI tools like Groq API, Llama3.3\n",
      "        \\item Knowledge of Generative AI models, including GPT-based models and advanced techniques for content generation\n",
      "    \\end{itemize}\n",
      "    \\item \\textbf{Programming Languages:} Python, SQL, MongoDB\n",
      "    \\item \\textbf{Data Analysis:} NumPy, pandas, Matplotlib, seaborn\n",
      "    \\item \\textbf{Machine Learning:} Supervised Learning, Unsupervised Learning, Recommendation Systems, NLP techniques (lemmatization, TF-IDF, word2vec)\n",
      "    \\item \\textbf{Deep Learning:} ANN, CNN, RNN, LSTM, GRU, Transformers\n",
      "    \\item \\textbf{Libraries:} scikit-learn, TensorFlow, Keras, NLTK, Gensim, spacy\n",
      "    \\item \\textbf{Web API Development:} Flask, Streamlit, FastApi\n",
      "    \\item \\textbf{Tools \\& Technologies:} VS Code, Jupyter Notebook, Git, GitHub, Docker, MongoDB, MySQL Workbench\n",
      "    \\item \\textbf{Other Skills:} Model deployment, working with APIs, End-to-End project handling\n",
      "\\end{itemize}\n",
      "\n",
      "\n",
      "\n",
      "\\section{Projects}\n",
      "\n",
      "\\begin{itemize}[leftmargin=0.15in]\n",
      "\n",
      "    \\item \\textbf{RAG Applications with NVIDIA NeMo and Streamlit} \\hfill \n",
      "    \\textit{\\href{https://github.com/vikasjangidmk/RAG1-NVIDIA-GENAI}{GitHub Link}} \\\\\n",
      "    - Implemented a sophisticated Retrieval Augmented Generation (RAG) system leveraging NVIDIA's AI endpoints and Streamlit for document analysis and question-answering. \\\\\n",
      "    - Developed a multi-PDF document processing pipeline with advanced text chunking and FAISS vector store integration. \\\\\n",
      "    - Integrated real-time performance metrics and similarity search visualization for enhanced user experience. \\\\\n",
      "    - Configured the system to support NVIDIA Llama-3.1-Nemotron-70b for context-aware responses and efficient query processing. \\\\\n",
      "    - Optimized document chunking, vector search, and response generation to improve processing time and accuracy.\n",
      "\n",
      "    \\item \\textbf{Reducing Operational Costs with Cost-Sensitive XGBoost-Based Failure Prediction} \\hfill \n",
      "    \\textit{\\href{https://github.com/vikasjangidmk/Reducing-Operational-Costs-with-Cost-Sensitive-XG-Boost-Based-Failure-Prediction.git}{GitHub Link}} \\\\\n",
      "    - This project focuses on handling imbalanced sensor data for classification tasks, with techniques such as data preprocessing, model evaluation, and cost analysis. \\\\\n",
      "    - The dataset contains sensor data with missing values, class imbalance, and various features requiring imputation and scaling. \\\\\n",
      "    - Several machine learning models, including Random Forest, XGBoost, and CatBoost, are evaluated using metrics such as accuracy, F1-score, precision, recall, and ROC-AUC score. \\\\\n",
      "    - Advanced techniques such as KNN imputation, SMOTE-TOMEK for resampling, and robust scaling are used to improve model performance and handle data irregularities. \\\\\n",
      "    - The project analyzes multiple experiments, comparing models' performance and costs, with the goal of identifying the most effective solution for imbalanced datasets.\n",
      "\n",
      "    \\item \\textbf{AI-Driven Pneumonia Diagnosis: Harnessing Custom CNNs for Chest X-Ray Analysis} \\hfill \n",
      "    \\textit{\\href{https://github.com/vikasjangidmk/AI-Driven-Pneumonia-Diagnosis-Harnessing-Custom-CNNs-for-Chest-X-ray-analysis.git}{GitHub Link}} \\\\\n",
      "    - Developed a custom convolutional neural network (CNN) to detect pneumonia from chest X-ray images. \\\\\n",
      "    - Achieved high diagnostic accuracy through rigorous training and validation processes. \\\\\n",
      "    - Deployed the model in a user-friendly web application for healthcare professionals.\n",
      "\n",
      "    \\item \\textbf{AI-Powered Voice Assistance Using Google's Gemini 1.5 Pro Model} \\hfill \n",
      "    \\textit{\\href{https://github.com/vikasjangidmk/AI-Powered-Voice-Assistance}{GitHub Link}} \\\\\n",
      "    - Built a voice assistant powered by Google's Gemini 1.5 Pro AI model, designed for engaging and efficient conversations. \\\\\n",
      "    - Developed the application using Flask, enabling a web interface for handling voice inputs and providing real-time responses. \\\\\n",
      "    - Configured the AI model via Google's Generative AI API, leveraging a customized prompt to ensure clear, concise, and contextually relevant answers. \\\\\n",
      "    - Maintained conversation history using a global variable, allowing for context-aware responses and enhancing user experience. \\\\\n",
      "    - Processed user queries through an API endpoint, generating dynamic responses and returning them alongside the conversation history. \\\\\n",
      "    - Demonstrated effective integration of generative AI into a Flask web application, showcasing its potential for creating intelligent, user-focused conversational agents.\n",
      "\n",
      "    \\item \\textbf{End-to-End Medical Chatbot Using Llama3.3} \\hfill \n",
      "    \\textit{\\href{https://github.com/vikasjangidmk/End-to-End-Medical-Chatbot-Using-Llama3.3.git}{GitHub Link}} \\\\\n",
      "    - Developed a robust medical chatbot powered by the Llama3.3 model to provide accurate and reliable healthcare information. \\\\\n",
      "    - Designed to handle end-to-end interactions, including user query processing, response generation, and context management. \\\\\n",
      "    - Implemented real-time query handling, context-aware conversation management, and precise medical responses leveraging Llama3.3's advanced language understanding capabilities. \\\\\n",
      "    - Fine-tuned prompts to ensure professional, concise, and medically accurate answers tailored to user inquiries. \\\\\n",
      "    - Incorporated a user-friendly interface, enabling seamless interaction for patients and healthcare professionals seeking quick and reliable medical information. \\\\\n",
      "    - Demonstrated the potential of generative AI in healthcare, enhancing accessibility to medical knowledge while maintaining ethical and contextual considerations.\n",
      "\n",
      "\\end{itemize}\n",
      "\n",
      "\n",
      "\\section*{Certifications}\n",
      "\n",
      "\\begin{itemize}\n",
      "    \\item \\textbf{Google Data Analytics} --- Coursera \\\\\n",
      "    October 2024 \\\\\n",
      "    Focused on data analysis techniques, data visualization, and cleaning.\n",
      "    \n",
      "    \\item \\textbf{Machine Learning and Deep Learning} --- Udemy \\\\\n",
      "    July 2024 \\\\\n",
      "    Covered algorithms, neural networks, and deep learning frameworks.\n",
      "    \n",
      "    \\item \\textbf{Complete GenAI Course with LangChain and HuggingFace} --- Udemy - September 2024 - Specialization in Generative AI, LangChain integration, and HuggingFace models.\n",
      "\\end{itemize}\n",
      "\n",
      "\\section{Education}\n",
      "\n",
      "\\begin{EducationEntry}\n",
      "    \\textbf{Master of Science in Data Science} \\hfill 2023 - 2025 \\\\\n",
      "    Chandigarh University, Chandigarh, India\n",
      "    \\begin{onecolentry}\n",
      "        Key Courses: Machine Learning, Data Visualization, Big Data Analytics, Statistical Modeling \\\\\n",
      "        Highlights: Academic projects focused on predictive analytics and real-world data solutions.\n",
      "    \\end{onecolentry}\n",
      "\\end{EducationEntry}\n",
      "\n",
      "    \\placelastupdatedtext\n",
      "\\end{document}\n",
      "\n"
     ]
    }
   ],
   "source": [
    "print(page_content)"
   ]
  },
  {
   "cell_type": "code",
   "execution_count": null,
   "metadata": {},
   "outputs": [],
   "source": []
  },
  {
   "cell_type": "markdown",
   "metadata": {},
   "source": [
    "# Csv file "
   ]
  },
  {
   "cell_type": "markdown",
   "metadata": {},
   "source": []
  },
  {
   "cell_type": "code",
   "execution_count": 15,
   "metadata": {},
   "outputs": [],
   "source": [
    "\n",
    "from langchain_community.document_loaders import CSVLoader"
   ]
  },
  {
   "cell_type": "code",
   "execution_count": 19,
   "metadata": {},
   "outputs": [],
   "source": [
    "loader = CSVLoader('heart.csv')\n",
    "loaded_data = loader.load()"
   ]
  },
  {
   "cell_type": "code",
   "execution_count": 20,
   "metadata": {},
   "outputs": [
    {
     "data": {
      "text/plain": [
       "[Document(metadata={'source': 'heart.csv', 'row': 0}, page_content='age: 63\\nsex: 1\\ncp: 3\\ntrestbps: 145\\nchol: 233\\nfbs: 1\\nrestecg: 0\\nthalach: 150\\nexang: 0\\noldpeak: 2.3\\nslope: 0\\nca: 0\\nthal: 1\\ntarget: 1'),\n",
       " Document(metadata={'source': 'heart.csv', 'row': 1}, page_content='age: 37\\nsex: 1\\ncp: 2\\ntrestbps: 130\\nchol: 250\\nfbs: 0\\nrestecg: 1\\nthalach: 187\\nexang: 0\\noldpeak: 3.5\\nslope: 0\\nca: 0\\nthal: 2\\ntarget: 1'),\n",
       " Document(metadata={'source': 'heart.csv', 'row': 2}, page_content='age: 41\\nsex: 0\\ncp: 1\\ntrestbps: 130\\nchol: 204\\nfbs: 0\\nrestecg: 0\\nthalach: 172\\nexang: 0\\noldpeak: 1.4\\nslope: 2\\nca: 0\\nthal: 2\\ntarget: 1'),\n",
       " Document(metadata={'source': 'heart.csv', 'row': 3}, page_content='age: 56\\nsex: 1\\ncp: 1\\ntrestbps: 120\\nchol: 236\\nfbs: 0\\nrestecg: 1\\nthalach: 178\\nexang: 0\\noldpeak: 0.8\\nslope: 2\\nca: 0\\nthal: 2\\ntarget: 1'),\n",
       " Document(metadata={'source': 'heart.csv', 'row': 4}, page_content='age: 57\\nsex: 0\\ncp: 0\\ntrestbps: 120\\nchol: 354\\nfbs: 0\\nrestecg: 1\\nthalach: 163\\nexang: 1\\noldpeak: 0.6\\nslope: 2\\nca: 0\\nthal: 2\\ntarget: 1'),\n",
       " Document(metadata={'source': 'heart.csv', 'row': 5}, page_content='age: 57\\nsex: 1\\ncp: 0\\ntrestbps: 140\\nchol: 192\\nfbs: 0\\nrestecg: 1\\nthalach: 148\\nexang: 0\\noldpeak: 0.4\\nslope: 1\\nca: 0\\nthal: 1\\ntarget: 1'),\n",
       " Document(metadata={'source': 'heart.csv', 'row': 6}, page_content='age: 56\\nsex: 0\\ncp: 1\\ntrestbps: 140\\nchol: 294\\nfbs: 0\\nrestecg: 0\\nthalach: 153\\nexang: 0\\noldpeak: 1.3\\nslope: 1\\nca: 0\\nthal: 2\\ntarget: 1'),\n",
       " Document(metadata={'source': 'heart.csv', 'row': 7}, page_content='age: 44\\nsex: 1\\ncp: 1\\ntrestbps: 120\\nchol: 263\\nfbs: 0\\nrestecg: 1\\nthalach: 173\\nexang: 0\\noldpeak: 0\\nslope: 2\\nca: 0\\nthal: 3\\ntarget: 1'),\n",
       " Document(metadata={'source': 'heart.csv', 'row': 8}, page_content='age: 52\\nsex: 1\\ncp: 2\\ntrestbps: 172\\nchol: 199\\nfbs: 1\\nrestecg: 1\\nthalach: 162\\nexang: 0\\noldpeak: 0.5\\nslope: 2\\nca: 0\\nthal: 3\\ntarget: 1'),\n",
       " Document(metadata={'source': 'heart.csv', 'row': 9}, page_content='age: 57\\nsex: 1\\ncp: 2\\ntrestbps: 150\\nchol: 168\\nfbs: 0\\nrestecg: 1\\nthalach: 174\\nexang: 0\\noldpeak: 1.6\\nslope: 2\\nca: 0\\nthal: 2\\ntarget: 1'),\n",
       " Document(metadata={'source': 'heart.csv', 'row': 10}, page_content='age: 54\\nsex: 1\\ncp: 0\\ntrestbps: 140\\nchol: 239\\nfbs: 0\\nrestecg: 1\\nthalach: 160\\nexang: 0\\noldpeak: 1.2\\nslope: 2\\nca: 0\\nthal: 2\\ntarget: 1'),\n",
       " Document(metadata={'source': 'heart.csv', 'row': 11}, page_content='age: 48\\nsex: 0\\ncp: 2\\ntrestbps: 130\\nchol: 275\\nfbs: 0\\nrestecg: 1\\nthalach: 139\\nexang: 0\\noldpeak: 0.2\\nslope: 2\\nca: 0\\nthal: 2\\ntarget: 1'),\n",
       " Document(metadata={'source': 'heart.csv', 'row': 12}, page_content='age: 49\\nsex: 1\\ncp: 1\\ntrestbps: 130\\nchol: 266\\nfbs: 0\\nrestecg: 1\\nthalach: 171\\nexang: 0\\noldpeak: 0.6\\nslope: 2\\nca: 0\\nthal: 2\\ntarget: 1'),\n",
       " Document(metadata={'source': 'heart.csv', 'row': 13}, page_content='age: 64\\nsex: 1\\ncp: 3\\ntrestbps: 110\\nchol: 211\\nfbs: 0\\nrestecg: 0\\nthalach: 144\\nexang: 1\\noldpeak: 1.8\\nslope: 1\\nca: 0\\nthal: 2\\ntarget: 1'),\n",
       " Document(metadata={'source': 'heart.csv', 'row': 14}, page_content='age: 58\\nsex: 0\\ncp: 3\\ntrestbps: 150\\nchol: 283\\nfbs: 1\\nrestecg: 0\\nthalach: 162\\nexang: 0\\noldpeak: 1\\nslope: 2\\nca: 0\\nthal: 2\\ntarget: 1'),\n",
       " Document(metadata={'source': 'heart.csv', 'row': 15}, page_content='age: 50\\nsex: 0\\ncp: 2\\ntrestbps: 120\\nchol: 219\\nfbs: 0\\nrestecg: 1\\nthalach: 158\\nexang: 0\\noldpeak: 1.6\\nslope: 1\\nca: 0\\nthal: 2\\ntarget: 1'),\n",
       " Document(metadata={'source': 'heart.csv', 'row': 16}, page_content='age: 58\\nsex: 0\\ncp: 2\\ntrestbps: 120\\nchol: 340\\nfbs: 0\\nrestecg: 1\\nthalach: 172\\nexang: 0\\noldpeak: 0\\nslope: 2\\nca: 0\\nthal: 2\\ntarget: 1'),\n",
       " Document(metadata={'source': 'heart.csv', 'row': 17}, page_content='age: 66\\nsex: 0\\ncp: 3\\ntrestbps: 150\\nchol: 226\\nfbs: 0\\nrestecg: 1\\nthalach: 114\\nexang: 0\\noldpeak: 2.6\\nslope: 0\\nca: 0\\nthal: 2\\ntarget: 1'),\n",
       " Document(metadata={'source': 'heart.csv', 'row': 18}, page_content='age: 43\\nsex: 1\\ncp: 0\\ntrestbps: 150\\nchol: 247\\nfbs: 0\\nrestecg: 1\\nthalach: 171\\nexang: 0\\noldpeak: 1.5\\nslope: 2\\nca: 0\\nthal: 2\\ntarget: 1'),\n",
       " Document(metadata={'source': 'heart.csv', 'row': 19}, page_content='age: 69\\nsex: 0\\ncp: 3\\ntrestbps: 140\\nchol: 239\\nfbs: 0\\nrestecg: 1\\nthalach: 151\\nexang: 0\\noldpeak: 1.8\\nslope: 2\\nca: 2\\nthal: 2\\ntarget: 1'),\n",
       " Document(metadata={'source': 'heart.csv', 'row': 20}, page_content='age: 59\\nsex: 1\\ncp: 0\\ntrestbps: 135\\nchol: 234\\nfbs: 0\\nrestecg: 1\\nthalach: 161\\nexang: 0\\noldpeak: 0.5\\nslope: 1\\nca: 0\\nthal: 3\\ntarget: 1'),\n",
       " Document(metadata={'source': 'heart.csv', 'row': 21}, page_content='age: 44\\nsex: 1\\ncp: 2\\ntrestbps: 130\\nchol: 233\\nfbs: 0\\nrestecg: 1\\nthalach: 179\\nexang: 1\\noldpeak: 0.4\\nslope: 2\\nca: 0\\nthal: 2\\ntarget: 1'),\n",
       " Document(metadata={'source': 'heart.csv', 'row': 22}, page_content='age: 42\\nsex: 1\\ncp: 0\\ntrestbps: 140\\nchol: 226\\nfbs: 0\\nrestecg: 1\\nthalach: 178\\nexang: 0\\noldpeak: 0\\nslope: 2\\nca: 0\\nthal: 2\\ntarget: 1'),\n",
       " Document(metadata={'source': 'heart.csv', 'row': 23}, page_content='age: 61\\nsex: 1\\ncp: 2\\ntrestbps: 150\\nchol: 243\\nfbs: 1\\nrestecg: 1\\nthalach: 137\\nexang: 1\\noldpeak: 1\\nslope: 1\\nca: 0\\nthal: 2\\ntarget: 1'),\n",
       " Document(metadata={'source': 'heart.csv', 'row': 24}, page_content='age: 40\\nsex: 1\\ncp: 3\\ntrestbps: 140\\nchol: 199\\nfbs: 0\\nrestecg: 1\\nthalach: 178\\nexang: 1\\noldpeak: 1.4\\nslope: 2\\nca: 0\\nthal: 3\\ntarget: 1'),\n",
       " Document(metadata={'source': 'heart.csv', 'row': 25}, page_content='age: 71\\nsex: 0\\ncp: 1\\ntrestbps: 160\\nchol: 302\\nfbs: 0\\nrestecg: 1\\nthalach: 162\\nexang: 0\\noldpeak: 0.4\\nslope: 2\\nca: 2\\nthal: 2\\ntarget: 1'),\n",
       " Document(metadata={'source': 'heart.csv', 'row': 26}, page_content='age: 59\\nsex: 1\\ncp: 2\\ntrestbps: 150\\nchol: 212\\nfbs: 1\\nrestecg: 1\\nthalach: 157\\nexang: 0\\noldpeak: 1.6\\nslope: 2\\nca: 0\\nthal: 2\\ntarget: 1'),\n",
       " Document(metadata={'source': 'heart.csv', 'row': 27}, page_content='age: 51\\nsex: 1\\ncp: 2\\ntrestbps: 110\\nchol: 175\\nfbs: 0\\nrestecg: 1\\nthalach: 123\\nexang: 0\\noldpeak: 0.6\\nslope: 2\\nca: 0\\nthal: 2\\ntarget: 1'),\n",
       " Document(metadata={'source': 'heart.csv', 'row': 28}, page_content='age: 65\\nsex: 0\\ncp: 2\\ntrestbps: 140\\nchol: 417\\nfbs: 1\\nrestecg: 0\\nthalach: 157\\nexang: 0\\noldpeak: 0.8\\nslope: 2\\nca: 1\\nthal: 2\\ntarget: 1'),\n",
       " Document(metadata={'source': 'heart.csv', 'row': 29}, page_content='age: 53\\nsex: 1\\ncp: 2\\ntrestbps: 130\\nchol: 197\\nfbs: 1\\nrestecg: 0\\nthalach: 152\\nexang: 0\\noldpeak: 1.2\\nslope: 0\\nca: 0\\nthal: 2\\ntarget: 1'),\n",
       " Document(metadata={'source': 'heart.csv', 'row': 30}, page_content='age: 41\\nsex: 0\\ncp: 1\\ntrestbps: 105\\nchol: 198\\nfbs: 0\\nrestecg: 1\\nthalach: 168\\nexang: 0\\noldpeak: 0\\nslope: 2\\nca: 1\\nthal: 2\\ntarget: 1'),\n",
       " Document(metadata={'source': 'heart.csv', 'row': 31}, page_content='age: 65\\nsex: 1\\ncp: 0\\ntrestbps: 120\\nchol: 177\\nfbs: 0\\nrestecg: 1\\nthalach: 140\\nexang: 0\\noldpeak: 0.4\\nslope: 2\\nca: 0\\nthal: 3\\ntarget: 1'),\n",
       " Document(metadata={'source': 'heart.csv', 'row': 32}, page_content='age: 44\\nsex: 1\\ncp: 1\\ntrestbps: 130\\nchol: 219\\nfbs: 0\\nrestecg: 0\\nthalach: 188\\nexang: 0\\noldpeak: 0\\nslope: 2\\nca: 0\\nthal: 2\\ntarget: 1'),\n",
       " Document(metadata={'source': 'heart.csv', 'row': 33}, page_content='age: 54\\nsex: 1\\ncp: 2\\ntrestbps: 125\\nchol: 273\\nfbs: 0\\nrestecg: 0\\nthalach: 152\\nexang: 0\\noldpeak: 0.5\\nslope: 0\\nca: 1\\nthal: 2\\ntarget: 1'),\n",
       " Document(metadata={'source': 'heart.csv', 'row': 34}, page_content='age: 51\\nsex: 1\\ncp: 3\\ntrestbps: 125\\nchol: 213\\nfbs: 0\\nrestecg: 0\\nthalach: 125\\nexang: 1\\noldpeak: 1.4\\nslope: 2\\nca: 1\\nthal: 2\\ntarget: 1'),\n",
       " Document(metadata={'source': 'heart.csv', 'row': 35}, page_content='age: 46\\nsex: 0\\ncp: 2\\ntrestbps: 142\\nchol: 177\\nfbs: 0\\nrestecg: 0\\nthalach: 160\\nexang: 1\\noldpeak: 1.4\\nslope: 0\\nca: 0\\nthal: 2\\ntarget: 1'),\n",
       " Document(metadata={'source': 'heart.csv', 'row': 36}, page_content='age: 54\\nsex: 0\\ncp: 2\\ntrestbps: 135\\nchol: 304\\nfbs: 1\\nrestecg: 1\\nthalach: 170\\nexang: 0\\noldpeak: 0\\nslope: 2\\nca: 0\\nthal: 2\\ntarget: 1'),\n",
       " Document(metadata={'source': 'heart.csv', 'row': 37}, page_content='age: 54\\nsex: 1\\ncp: 2\\ntrestbps: 150\\nchol: 232\\nfbs: 0\\nrestecg: 0\\nthalach: 165\\nexang: 0\\noldpeak: 1.6\\nslope: 2\\nca: 0\\nthal: 3\\ntarget: 1'),\n",
       " Document(metadata={'source': 'heart.csv', 'row': 38}, page_content='age: 65\\nsex: 0\\ncp: 2\\ntrestbps: 155\\nchol: 269\\nfbs: 0\\nrestecg: 1\\nthalach: 148\\nexang: 0\\noldpeak: 0.8\\nslope: 2\\nca: 0\\nthal: 2\\ntarget: 1'),\n",
       " Document(metadata={'source': 'heart.csv', 'row': 39}, page_content='age: 65\\nsex: 0\\ncp: 2\\ntrestbps: 160\\nchol: 360\\nfbs: 0\\nrestecg: 0\\nthalach: 151\\nexang: 0\\noldpeak: 0.8\\nslope: 2\\nca: 0\\nthal: 2\\ntarget: 1'),\n",
       " Document(metadata={'source': 'heart.csv', 'row': 40}, page_content='age: 51\\nsex: 0\\ncp: 2\\ntrestbps: 140\\nchol: 308\\nfbs: 0\\nrestecg: 0\\nthalach: 142\\nexang: 0\\noldpeak: 1.5\\nslope: 2\\nca: 1\\nthal: 2\\ntarget: 1'),\n",
       " Document(metadata={'source': 'heart.csv', 'row': 41}, page_content='age: 48\\nsex: 1\\ncp: 1\\ntrestbps: 130\\nchol: 245\\nfbs: 0\\nrestecg: 0\\nthalach: 180\\nexang: 0\\noldpeak: 0.2\\nslope: 1\\nca: 0\\nthal: 2\\ntarget: 1'),\n",
       " Document(metadata={'source': 'heart.csv', 'row': 42}, page_content='age: 45\\nsex: 1\\ncp: 0\\ntrestbps: 104\\nchol: 208\\nfbs: 0\\nrestecg: 0\\nthalach: 148\\nexang: 1\\noldpeak: 3\\nslope: 1\\nca: 0\\nthal: 2\\ntarget: 1'),\n",
       " Document(metadata={'source': 'heart.csv', 'row': 43}, page_content='age: 53\\nsex: 0\\ncp: 0\\ntrestbps: 130\\nchol: 264\\nfbs: 0\\nrestecg: 0\\nthalach: 143\\nexang: 0\\noldpeak: 0.4\\nslope: 1\\nca: 0\\nthal: 2\\ntarget: 1'),\n",
       " Document(metadata={'source': 'heart.csv', 'row': 44}, page_content='age: 39\\nsex: 1\\ncp: 2\\ntrestbps: 140\\nchol: 321\\nfbs: 0\\nrestecg: 0\\nthalach: 182\\nexang: 0\\noldpeak: 0\\nslope: 2\\nca: 0\\nthal: 2\\ntarget: 1'),\n",
       " Document(metadata={'source': 'heart.csv', 'row': 45}, page_content='age: 52\\nsex: 1\\ncp: 1\\ntrestbps: 120\\nchol: 325\\nfbs: 0\\nrestecg: 1\\nthalach: 172\\nexang: 0\\noldpeak: 0.2\\nslope: 2\\nca: 0\\nthal: 2\\ntarget: 1'),\n",
       " Document(metadata={'source': 'heart.csv', 'row': 46}, page_content='age: 44\\nsex: 1\\ncp: 2\\ntrestbps: 140\\nchol: 235\\nfbs: 0\\nrestecg: 0\\nthalach: 180\\nexang: 0\\noldpeak: 0\\nslope: 2\\nca: 0\\nthal: 2\\ntarget: 1'),\n",
       " Document(metadata={'source': 'heart.csv', 'row': 47}, page_content='age: 47\\nsex: 1\\ncp: 2\\ntrestbps: 138\\nchol: 257\\nfbs: 0\\nrestecg: 0\\nthalach: 156\\nexang: 0\\noldpeak: 0\\nslope: 2\\nca: 0\\nthal: 2\\ntarget: 1'),\n",
       " Document(metadata={'source': 'heart.csv', 'row': 48}, page_content='age: 53\\nsex: 0\\ncp: 2\\ntrestbps: 128\\nchol: 216\\nfbs: 0\\nrestecg: 0\\nthalach: 115\\nexang: 0\\noldpeak: 0\\nslope: 2\\nca: 0\\nthal: 0\\ntarget: 1'),\n",
       " Document(metadata={'source': 'heart.csv', 'row': 49}, page_content='age: 53\\nsex: 0\\ncp: 0\\ntrestbps: 138\\nchol: 234\\nfbs: 0\\nrestecg: 0\\nthalach: 160\\nexang: 0\\noldpeak: 0\\nslope: 2\\nca: 0\\nthal: 2\\ntarget: 1'),\n",
       " Document(metadata={'source': 'heart.csv', 'row': 50}, page_content='age: 51\\nsex: 0\\ncp: 2\\ntrestbps: 130\\nchol: 256\\nfbs: 0\\nrestecg: 0\\nthalach: 149\\nexang: 0\\noldpeak: 0.5\\nslope: 2\\nca: 0\\nthal: 2\\ntarget: 1'),\n",
       " Document(metadata={'source': 'heart.csv', 'row': 51}, page_content='age: 66\\nsex: 1\\ncp: 0\\ntrestbps: 120\\nchol: 302\\nfbs: 0\\nrestecg: 0\\nthalach: 151\\nexang: 0\\noldpeak: 0.4\\nslope: 1\\nca: 0\\nthal: 2\\ntarget: 1'),\n",
       " Document(metadata={'source': 'heart.csv', 'row': 52}, page_content='age: 62\\nsex: 1\\ncp: 2\\ntrestbps: 130\\nchol: 231\\nfbs: 0\\nrestecg: 1\\nthalach: 146\\nexang: 0\\noldpeak: 1.8\\nslope: 1\\nca: 3\\nthal: 3\\ntarget: 1'),\n",
       " Document(metadata={'source': 'heart.csv', 'row': 53}, page_content='age: 44\\nsex: 0\\ncp: 2\\ntrestbps: 108\\nchol: 141\\nfbs: 0\\nrestecg: 1\\nthalach: 175\\nexang: 0\\noldpeak: 0.6\\nslope: 1\\nca: 0\\nthal: 2\\ntarget: 1'),\n",
       " Document(metadata={'source': 'heart.csv', 'row': 54}, page_content='age: 63\\nsex: 0\\ncp: 2\\ntrestbps: 135\\nchol: 252\\nfbs: 0\\nrestecg: 0\\nthalach: 172\\nexang: 0\\noldpeak: 0\\nslope: 2\\nca: 0\\nthal: 2\\ntarget: 1'),\n",
       " Document(metadata={'source': 'heart.csv', 'row': 55}, page_content='age: 52\\nsex: 1\\ncp: 1\\ntrestbps: 134\\nchol: 201\\nfbs: 0\\nrestecg: 1\\nthalach: 158\\nexang: 0\\noldpeak: 0.8\\nslope: 2\\nca: 1\\nthal: 2\\ntarget: 1'),\n",
       " Document(metadata={'source': 'heart.csv', 'row': 56}, page_content='age: 48\\nsex: 1\\ncp: 0\\ntrestbps: 122\\nchol: 222\\nfbs: 0\\nrestecg: 0\\nthalach: 186\\nexang: 0\\noldpeak: 0\\nslope: 2\\nca: 0\\nthal: 2\\ntarget: 1'),\n",
       " Document(metadata={'source': 'heart.csv', 'row': 57}, page_content='age: 45\\nsex: 1\\ncp: 0\\ntrestbps: 115\\nchol: 260\\nfbs: 0\\nrestecg: 0\\nthalach: 185\\nexang: 0\\noldpeak: 0\\nslope: 2\\nca: 0\\nthal: 2\\ntarget: 1'),\n",
       " Document(metadata={'source': 'heart.csv', 'row': 58}, page_content='age: 34\\nsex: 1\\ncp: 3\\ntrestbps: 118\\nchol: 182\\nfbs: 0\\nrestecg: 0\\nthalach: 174\\nexang: 0\\noldpeak: 0\\nslope: 2\\nca: 0\\nthal: 2\\ntarget: 1'),\n",
       " Document(metadata={'source': 'heart.csv', 'row': 59}, page_content='age: 57\\nsex: 0\\ncp: 0\\ntrestbps: 128\\nchol: 303\\nfbs: 0\\nrestecg: 0\\nthalach: 159\\nexang: 0\\noldpeak: 0\\nslope: 2\\nca: 1\\nthal: 2\\ntarget: 1'),\n",
       " Document(metadata={'source': 'heart.csv', 'row': 60}, page_content='age: 71\\nsex: 0\\ncp: 2\\ntrestbps: 110\\nchol: 265\\nfbs: 1\\nrestecg: 0\\nthalach: 130\\nexang: 0\\noldpeak: 0\\nslope: 2\\nca: 1\\nthal: 2\\ntarget: 1'),\n",
       " Document(metadata={'source': 'heart.csv', 'row': 61}, page_content='age: 54\\nsex: 1\\ncp: 1\\ntrestbps: 108\\nchol: 309\\nfbs: 0\\nrestecg: 1\\nthalach: 156\\nexang: 0\\noldpeak: 0\\nslope: 2\\nca: 0\\nthal: 3\\ntarget: 1'),\n",
       " Document(metadata={'source': 'heart.csv', 'row': 62}, page_content='age: 52\\nsex: 1\\ncp: 3\\ntrestbps: 118\\nchol: 186\\nfbs: 0\\nrestecg: 0\\nthalach: 190\\nexang: 0\\noldpeak: 0\\nslope: 1\\nca: 0\\nthal: 1\\ntarget: 1'),\n",
       " Document(metadata={'source': 'heart.csv', 'row': 63}, page_content='age: 41\\nsex: 1\\ncp: 1\\ntrestbps: 135\\nchol: 203\\nfbs: 0\\nrestecg: 1\\nthalach: 132\\nexang: 0\\noldpeak: 0\\nslope: 1\\nca: 0\\nthal: 1\\ntarget: 1'),\n",
       " Document(metadata={'source': 'heart.csv', 'row': 64}, page_content='age: 58\\nsex: 1\\ncp: 2\\ntrestbps: 140\\nchol: 211\\nfbs: 1\\nrestecg: 0\\nthalach: 165\\nexang: 0\\noldpeak: 0\\nslope: 2\\nca: 0\\nthal: 2\\ntarget: 1'),\n",
       " Document(metadata={'source': 'heart.csv', 'row': 65}, page_content='age: 35\\nsex: 0\\ncp: 0\\ntrestbps: 138\\nchol: 183\\nfbs: 0\\nrestecg: 1\\nthalach: 182\\nexang: 0\\noldpeak: 1.4\\nslope: 2\\nca: 0\\nthal: 2\\ntarget: 1'),\n",
       " Document(metadata={'source': 'heart.csv', 'row': 66}, page_content='age: 51\\nsex: 1\\ncp: 2\\ntrestbps: 100\\nchol: 222\\nfbs: 0\\nrestecg: 1\\nthalach: 143\\nexang: 1\\noldpeak: 1.2\\nslope: 1\\nca: 0\\nthal: 2\\ntarget: 1'),\n",
       " Document(metadata={'source': 'heart.csv', 'row': 67}, page_content='age: 45\\nsex: 0\\ncp: 1\\ntrestbps: 130\\nchol: 234\\nfbs: 0\\nrestecg: 0\\nthalach: 175\\nexang: 0\\noldpeak: 0.6\\nslope: 1\\nca: 0\\nthal: 2\\ntarget: 1'),\n",
       " Document(metadata={'source': 'heart.csv', 'row': 68}, page_content='age: 44\\nsex: 1\\ncp: 1\\ntrestbps: 120\\nchol: 220\\nfbs: 0\\nrestecg: 1\\nthalach: 170\\nexang: 0\\noldpeak: 0\\nslope: 2\\nca: 0\\nthal: 2\\ntarget: 1'),\n",
       " Document(metadata={'source': 'heart.csv', 'row': 69}, page_content='age: 62\\nsex: 0\\ncp: 0\\ntrestbps: 124\\nchol: 209\\nfbs: 0\\nrestecg: 1\\nthalach: 163\\nexang: 0\\noldpeak: 0\\nslope: 2\\nca: 0\\nthal: 2\\ntarget: 1'),\n",
       " Document(metadata={'source': 'heart.csv', 'row': 70}, page_content='age: 54\\nsex: 1\\ncp: 2\\ntrestbps: 120\\nchol: 258\\nfbs: 0\\nrestecg: 0\\nthalach: 147\\nexang: 0\\noldpeak: 0.4\\nslope: 1\\nca: 0\\nthal: 3\\ntarget: 1'),\n",
       " Document(metadata={'source': 'heart.csv', 'row': 71}, page_content='age: 51\\nsex: 1\\ncp: 2\\ntrestbps: 94\\nchol: 227\\nfbs: 0\\nrestecg: 1\\nthalach: 154\\nexang: 1\\noldpeak: 0\\nslope: 2\\nca: 1\\nthal: 3\\ntarget: 1'),\n",
       " Document(metadata={'source': 'heart.csv', 'row': 72}, page_content='age: 29\\nsex: 1\\ncp: 1\\ntrestbps: 130\\nchol: 204\\nfbs: 0\\nrestecg: 0\\nthalach: 202\\nexang: 0\\noldpeak: 0\\nslope: 2\\nca: 0\\nthal: 2\\ntarget: 1'),\n",
       " Document(metadata={'source': 'heart.csv', 'row': 73}, page_content='age: 51\\nsex: 1\\ncp: 0\\ntrestbps: 140\\nchol: 261\\nfbs: 0\\nrestecg: 0\\nthalach: 186\\nexang: 1\\noldpeak: 0\\nslope: 2\\nca: 0\\nthal: 2\\ntarget: 1'),\n",
       " Document(metadata={'source': 'heart.csv', 'row': 74}, page_content='age: 43\\nsex: 0\\ncp: 2\\ntrestbps: 122\\nchol: 213\\nfbs: 0\\nrestecg: 1\\nthalach: 165\\nexang: 0\\noldpeak: 0.2\\nslope: 1\\nca: 0\\nthal: 2\\ntarget: 1'),\n",
       " Document(metadata={'source': 'heart.csv', 'row': 75}, page_content='age: 55\\nsex: 0\\ncp: 1\\ntrestbps: 135\\nchol: 250\\nfbs: 0\\nrestecg: 0\\nthalach: 161\\nexang: 0\\noldpeak: 1.4\\nslope: 1\\nca: 0\\nthal: 2\\ntarget: 1'),\n",
       " Document(metadata={'source': 'heart.csv', 'row': 76}, page_content='age: 51\\nsex: 1\\ncp: 2\\ntrestbps: 125\\nchol: 245\\nfbs: 1\\nrestecg: 0\\nthalach: 166\\nexang: 0\\noldpeak: 2.4\\nslope: 1\\nca: 0\\nthal: 2\\ntarget: 1'),\n",
       " Document(metadata={'source': 'heart.csv', 'row': 77}, page_content='age: 59\\nsex: 1\\ncp: 1\\ntrestbps: 140\\nchol: 221\\nfbs: 0\\nrestecg: 1\\nthalach: 164\\nexang: 1\\noldpeak: 0\\nslope: 2\\nca: 0\\nthal: 2\\ntarget: 1'),\n",
       " Document(metadata={'source': 'heart.csv', 'row': 78}, page_content='age: 52\\nsex: 1\\ncp: 1\\ntrestbps: 128\\nchol: 205\\nfbs: 1\\nrestecg: 1\\nthalach: 184\\nexang: 0\\noldpeak: 0\\nslope: 2\\nca: 0\\nthal: 2\\ntarget: 1'),\n",
       " Document(metadata={'source': 'heart.csv', 'row': 79}, page_content='age: 58\\nsex: 1\\ncp: 2\\ntrestbps: 105\\nchol: 240\\nfbs: 0\\nrestecg: 0\\nthalach: 154\\nexang: 1\\noldpeak: 0.6\\nslope: 1\\nca: 0\\nthal: 3\\ntarget: 1'),\n",
       " Document(metadata={'source': 'heart.csv', 'row': 80}, page_content='age: 41\\nsex: 1\\ncp: 2\\ntrestbps: 112\\nchol: 250\\nfbs: 0\\nrestecg: 1\\nthalach: 179\\nexang: 0\\noldpeak: 0\\nslope: 2\\nca: 0\\nthal: 2\\ntarget: 1'),\n",
       " Document(metadata={'source': 'heart.csv', 'row': 81}, page_content='age: 45\\nsex: 1\\ncp: 1\\ntrestbps: 128\\nchol: 308\\nfbs: 0\\nrestecg: 0\\nthalach: 170\\nexang: 0\\noldpeak: 0\\nslope: 2\\nca: 0\\nthal: 2\\ntarget: 1'),\n",
       " Document(metadata={'source': 'heart.csv', 'row': 82}, page_content='age: 60\\nsex: 0\\ncp: 2\\ntrestbps: 102\\nchol: 318\\nfbs: 0\\nrestecg: 1\\nthalach: 160\\nexang: 0\\noldpeak: 0\\nslope: 2\\nca: 1\\nthal: 2\\ntarget: 1'),\n",
       " Document(metadata={'source': 'heart.csv', 'row': 83}, page_content='age: 52\\nsex: 1\\ncp: 3\\ntrestbps: 152\\nchol: 298\\nfbs: 1\\nrestecg: 1\\nthalach: 178\\nexang: 0\\noldpeak: 1.2\\nslope: 1\\nca: 0\\nthal: 3\\ntarget: 1'),\n",
       " Document(metadata={'source': 'heart.csv', 'row': 84}, page_content='age: 42\\nsex: 0\\ncp: 0\\ntrestbps: 102\\nchol: 265\\nfbs: 0\\nrestecg: 0\\nthalach: 122\\nexang: 0\\noldpeak: 0.6\\nslope: 1\\nca: 0\\nthal: 2\\ntarget: 1'),\n",
       " Document(metadata={'source': 'heart.csv', 'row': 85}, page_content='age: 67\\nsex: 0\\ncp: 2\\ntrestbps: 115\\nchol: 564\\nfbs: 0\\nrestecg: 0\\nthalach: 160\\nexang: 0\\noldpeak: 1.6\\nslope: 1\\nca: 0\\nthal: 3\\ntarget: 1'),\n",
       " Document(metadata={'source': 'heart.csv', 'row': 86}, page_content='age: 68\\nsex: 1\\ncp: 2\\ntrestbps: 118\\nchol: 277\\nfbs: 0\\nrestecg: 1\\nthalach: 151\\nexang: 0\\noldpeak: 1\\nslope: 2\\nca: 1\\nthal: 3\\ntarget: 1'),\n",
       " Document(metadata={'source': 'heart.csv', 'row': 87}, page_content='age: 46\\nsex: 1\\ncp: 1\\ntrestbps: 101\\nchol: 197\\nfbs: 1\\nrestecg: 1\\nthalach: 156\\nexang: 0\\noldpeak: 0\\nslope: 2\\nca: 0\\nthal: 3\\ntarget: 1'),\n",
       " Document(metadata={'source': 'heart.csv', 'row': 88}, page_content='age: 54\\nsex: 0\\ncp: 2\\ntrestbps: 110\\nchol: 214\\nfbs: 0\\nrestecg: 1\\nthalach: 158\\nexang: 0\\noldpeak: 1.6\\nslope: 1\\nca: 0\\nthal: 2\\ntarget: 1'),\n",
       " Document(metadata={'source': 'heart.csv', 'row': 89}, page_content='age: 58\\nsex: 0\\ncp: 0\\ntrestbps: 100\\nchol: 248\\nfbs: 0\\nrestecg: 0\\nthalach: 122\\nexang: 0\\noldpeak: 1\\nslope: 1\\nca: 0\\nthal: 2\\ntarget: 1'),\n",
       " Document(metadata={'source': 'heart.csv', 'row': 90}, page_content='age: 48\\nsex: 1\\ncp: 2\\ntrestbps: 124\\nchol: 255\\nfbs: 1\\nrestecg: 1\\nthalach: 175\\nexang: 0\\noldpeak: 0\\nslope: 2\\nca: 2\\nthal: 2\\ntarget: 1'),\n",
       " Document(metadata={'source': 'heart.csv', 'row': 91}, page_content='age: 57\\nsex: 1\\ncp: 0\\ntrestbps: 132\\nchol: 207\\nfbs: 0\\nrestecg: 1\\nthalach: 168\\nexang: 1\\noldpeak: 0\\nslope: 2\\nca: 0\\nthal: 3\\ntarget: 1'),\n",
       " Document(metadata={'source': 'heart.csv', 'row': 92}, page_content='age: 52\\nsex: 1\\ncp: 2\\ntrestbps: 138\\nchol: 223\\nfbs: 0\\nrestecg: 1\\nthalach: 169\\nexang: 0\\noldpeak: 0\\nslope: 2\\nca: 4\\nthal: 2\\ntarget: 1'),\n",
       " Document(metadata={'source': 'heart.csv', 'row': 93}, page_content='age: 54\\nsex: 0\\ncp: 1\\ntrestbps: 132\\nchol: 288\\nfbs: 1\\nrestecg: 0\\nthalach: 159\\nexang: 1\\noldpeak: 0\\nslope: 2\\nca: 1\\nthal: 2\\ntarget: 1'),\n",
       " Document(metadata={'source': 'heart.csv', 'row': 94}, page_content='age: 45\\nsex: 0\\ncp: 1\\ntrestbps: 112\\nchol: 160\\nfbs: 0\\nrestecg: 1\\nthalach: 138\\nexang: 0\\noldpeak: 0\\nslope: 1\\nca: 0\\nthal: 2\\ntarget: 1'),\n",
       " Document(metadata={'source': 'heart.csv', 'row': 95}, page_content='age: 53\\nsex: 1\\ncp: 0\\ntrestbps: 142\\nchol: 226\\nfbs: 0\\nrestecg: 0\\nthalach: 111\\nexang: 1\\noldpeak: 0\\nslope: 2\\nca: 0\\nthal: 3\\ntarget: 1'),\n",
       " Document(metadata={'source': 'heart.csv', 'row': 96}, page_content='age: 62\\nsex: 0\\ncp: 0\\ntrestbps: 140\\nchol: 394\\nfbs: 0\\nrestecg: 0\\nthalach: 157\\nexang: 0\\noldpeak: 1.2\\nslope: 1\\nca: 0\\nthal: 2\\ntarget: 1'),\n",
       " Document(metadata={'source': 'heart.csv', 'row': 97}, page_content='age: 52\\nsex: 1\\ncp: 0\\ntrestbps: 108\\nchol: 233\\nfbs: 1\\nrestecg: 1\\nthalach: 147\\nexang: 0\\noldpeak: 0.1\\nslope: 2\\nca: 3\\nthal: 3\\ntarget: 1'),\n",
       " Document(metadata={'source': 'heart.csv', 'row': 98}, page_content='age: 43\\nsex: 1\\ncp: 2\\ntrestbps: 130\\nchol: 315\\nfbs: 0\\nrestecg: 1\\nthalach: 162\\nexang: 0\\noldpeak: 1.9\\nslope: 2\\nca: 1\\nthal: 2\\ntarget: 1'),\n",
       " Document(metadata={'source': 'heart.csv', 'row': 99}, page_content='age: 53\\nsex: 1\\ncp: 2\\ntrestbps: 130\\nchol: 246\\nfbs: 1\\nrestecg: 0\\nthalach: 173\\nexang: 0\\noldpeak: 0\\nslope: 2\\nca: 3\\nthal: 2\\ntarget: 1'),\n",
       " Document(metadata={'source': 'heart.csv', 'row': 100}, page_content='age: 42\\nsex: 1\\ncp: 3\\ntrestbps: 148\\nchol: 244\\nfbs: 0\\nrestecg: 0\\nthalach: 178\\nexang: 0\\noldpeak: 0.8\\nslope: 2\\nca: 2\\nthal: 2\\ntarget: 1'),\n",
       " Document(metadata={'source': 'heart.csv', 'row': 101}, page_content='age: 59\\nsex: 1\\ncp: 3\\ntrestbps: 178\\nchol: 270\\nfbs: 0\\nrestecg: 0\\nthalach: 145\\nexang: 0\\noldpeak: 4.2\\nslope: 0\\nca: 0\\nthal: 3\\ntarget: 1'),\n",
       " Document(metadata={'source': 'heart.csv', 'row': 102}, page_content='age: 63\\nsex: 0\\ncp: 1\\ntrestbps: 140\\nchol: 195\\nfbs: 0\\nrestecg: 1\\nthalach: 179\\nexang: 0\\noldpeak: 0\\nslope: 2\\nca: 2\\nthal: 2\\ntarget: 1'),\n",
       " Document(metadata={'source': 'heart.csv', 'row': 103}, page_content='age: 42\\nsex: 1\\ncp: 2\\ntrestbps: 120\\nchol: 240\\nfbs: 1\\nrestecg: 1\\nthalach: 194\\nexang: 0\\noldpeak: 0.8\\nslope: 0\\nca: 0\\nthal: 3\\ntarget: 1'),\n",
       " Document(metadata={'source': 'heart.csv', 'row': 104}, page_content='age: 50\\nsex: 1\\ncp: 2\\ntrestbps: 129\\nchol: 196\\nfbs: 0\\nrestecg: 1\\nthalach: 163\\nexang: 0\\noldpeak: 0\\nslope: 2\\nca: 0\\nthal: 2\\ntarget: 1'),\n",
       " Document(metadata={'source': 'heart.csv', 'row': 105}, page_content='age: 68\\nsex: 0\\ncp: 2\\ntrestbps: 120\\nchol: 211\\nfbs: 0\\nrestecg: 0\\nthalach: 115\\nexang: 0\\noldpeak: 1.5\\nslope: 1\\nca: 0\\nthal: 2\\ntarget: 1'),\n",
       " Document(metadata={'source': 'heart.csv', 'row': 106}, page_content='age: 69\\nsex: 1\\ncp: 3\\ntrestbps: 160\\nchol: 234\\nfbs: 1\\nrestecg: 0\\nthalach: 131\\nexang: 0\\noldpeak: 0.1\\nslope: 1\\nca: 1\\nthal: 2\\ntarget: 1'),\n",
       " Document(metadata={'source': 'heart.csv', 'row': 107}, page_content='age: 45\\nsex: 0\\ncp: 0\\ntrestbps: 138\\nchol: 236\\nfbs: 0\\nrestecg: 0\\nthalach: 152\\nexang: 1\\noldpeak: 0.2\\nslope: 1\\nca: 0\\nthal: 2\\ntarget: 1'),\n",
       " Document(metadata={'source': 'heart.csv', 'row': 108}, page_content='age: 50\\nsex: 0\\ncp: 1\\ntrestbps: 120\\nchol: 244\\nfbs: 0\\nrestecg: 1\\nthalach: 162\\nexang: 0\\noldpeak: 1.1\\nslope: 2\\nca: 0\\nthal: 2\\ntarget: 1'),\n",
       " Document(metadata={'source': 'heart.csv', 'row': 109}, page_content='age: 50\\nsex: 0\\ncp: 0\\ntrestbps: 110\\nchol: 254\\nfbs: 0\\nrestecg: 0\\nthalach: 159\\nexang: 0\\noldpeak: 0\\nslope: 2\\nca: 0\\nthal: 2\\ntarget: 1'),\n",
       " Document(metadata={'source': 'heart.csv', 'row': 110}, page_content='age: 64\\nsex: 0\\ncp: 0\\ntrestbps: 180\\nchol: 325\\nfbs: 0\\nrestecg: 1\\nthalach: 154\\nexang: 1\\noldpeak: 0\\nslope: 2\\nca: 0\\nthal: 2\\ntarget: 1'),\n",
       " Document(metadata={'source': 'heart.csv', 'row': 111}, page_content='age: 57\\nsex: 1\\ncp: 2\\ntrestbps: 150\\nchol: 126\\nfbs: 1\\nrestecg: 1\\nthalach: 173\\nexang: 0\\noldpeak: 0.2\\nslope: 2\\nca: 1\\nthal: 3\\ntarget: 1'),\n",
       " Document(metadata={'source': 'heart.csv', 'row': 112}, page_content='age: 64\\nsex: 0\\ncp: 2\\ntrestbps: 140\\nchol: 313\\nfbs: 0\\nrestecg: 1\\nthalach: 133\\nexang: 0\\noldpeak: 0.2\\nslope: 2\\nca: 0\\nthal: 3\\ntarget: 1'),\n",
       " Document(metadata={'source': 'heart.csv', 'row': 113}, page_content='age: 43\\nsex: 1\\ncp: 0\\ntrestbps: 110\\nchol: 211\\nfbs: 0\\nrestecg: 1\\nthalach: 161\\nexang: 0\\noldpeak: 0\\nslope: 2\\nca: 0\\nthal: 3\\ntarget: 1'),\n",
       " Document(metadata={'source': 'heart.csv', 'row': 114}, page_content='age: 55\\nsex: 1\\ncp: 1\\ntrestbps: 130\\nchol: 262\\nfbs: 0\\nrestecg: 1\\nthalach: 155\\nexang: 0\\noldpeak: 0\\nslope: 2\\nca: 0\\nthal: 2\\ntarget: 1'),\n",
       " Document(metadata={'source': 'heart.csv', 'row': 115}, page_content='age: 37\\nsex: 0\\ncp: 2\\ntrestbps: 120\\nchol: 215\\nfbs: 0\\nrestecg: 1\\nthalach: 170\\nexang: 0\\noldpeak: 0\\nslope: 2\\nca: 0\\nthal: 2\\ntarget: 1'),\n",
       " Document(metadata={'source': 'heart.csv', 'row': 116}, page_content='age: 41\\nsex: 1\\ncp: 2\\ntrestbps: 130\\nchol: 214\\nfbs: 0\\nrestecg: 0\\nthalach: 168\\nexang: 0\\noldpeak: 2\\nslope: 1\\nca: 0\\nthal: 2\\ntarget: 1'),\n",
       " Document(metadata={'source': 'heart.csv', 'row': 117}, page_content='age: 56\\nsex: 1\\ncp: 3\\ntrestbps: 120\\nchol: 193\\nfbs: 0\\nrestecg: 0\\nthalach: 162\\nexang: 0\\noldpeak: 1.9\\nslope: 1\\nca: 0\\nthal: 3\\ntarget: 1'),\n",
       " Document(metadata={'source': 'heart.csv', 'row': 118}, page_content='age: 46\\nsex: 0\\ncp: 1\\ntrestbps: 105\\nchol: 204\\nfbs: 0\\nrestecg: 1\\nthalach: 172\\nexang: 0\\noldpeak: 0\\nslope: 2\\nca: 0\\nthal: 2\\ntarget: 1'),\n",
       " Document(metadata={'source': 'heart.csv', 'row': 119}, page_content='age: 46\\nsex: 0\\ncp: 0\\ntrestbps: 138\\nchol: 243\\nfbs: 0\\nrestecg: 0\\nthalach: 152\\nexang: 1\\noldpeak: 0\\nslope: 1\\nca: 0\\nthal: 2\\ntarget: 1'),\n",
       " Document(metadata={'source': 'heart.csv', 'row': 120}, page_content='age: 64\\nsex: 0\\ncp: 0\\ntrestbps: 130\\nchol: 303\\nfbs: 0\\nrestecg: 1\\nthalach: 122\\nexang: 0\\noldpeak: 2\\nslope: 1\\nca: 2\\nthal: 2\\ntarget: 1'),\n",
       " Document(metadata={'source': 'heart.csv', 'row': 121}, page_content='age: 59\\nsex: 1\\ncp: 0\\ntrestbps: 138\\nchol: 271\\nfbs: 0\\nrestecg: 0\\nthalach: 182\\nexang: 0\\noldpeak: 0\\nslope: 2\\nca: 0\\nthal: 2\\ntarget: 1'),\n",
       " Document(metadata={'source': 'heart.csv', 'row': 122}, page_content='age: 41\\nsex: 0\\ncp: 2\\ntrestbps: 112\\nchol: 268\\nfbs: 0\\nrestecg: 0\\nthalach: 172\\nexang: 1\\noldpeak: 0\\nslope: 2\\nca: 0\\nthal: 2\\ntarget: 1'),\n",
       " Document(metadata={'source': 'heart.csv', 'row': 123}, page_content='age: 54\\nsex: 0\\ncp: 2\\ntrestbps: 108\\nchol: 267\\nfbs: 0\\nrestecg: 0\\nthalach: 167\\nexang: 0\\noldpeak: 0\\nslope: 2\\nca: 0\\nthal: 2\\ntarget: 1'),\n",
       " Document(metadata={'source': 'heart.csv', 'row': 124}, page_content='age: 39\\nsex: 0\\ncp: 2\\ntrestbps: 94\\nchol: 199\\nfbs: 0\\nrestecg: 1\\nthalach: 179\\nexang: 0\\noldpeak: 0\\nslope: 2\\nca: 0\\nthal: 2\\ntarget: 1'),\n",
       " Document(metadata={'source': 'heart.csv', 'row': 125}, page_content='age: 34\\nsex: 0\\ncp: 1\\ntrestbps: 118\\nchol: 210\\nfbs: 0\\nrestecg: 1\\nthalach: 192\\nexang: 0\\noldpeak: 0.7\\nslope: 2\\nca: 0\\nthal: 2\\ntarget: 1'),\n",
       " Document(metadata={'source': 'heart.csv', 'row': 126}, page_content='age: 47\\nsex: 1\\ncp: 0\\ntrestbps: 112\\nchol: 204\\nfbs: 0\\nrestecg: 1\\nthalach: 143\\nexang: 0\\noldpeak: 0.1\\nslope: 2\\nca: 0\\nthal: 2\\ntarget: 1'),\n",
       " Document(metadata={'source': 'heart.csv', 'row': 127}, page_content='age: 67\\nsex: 0\\ncp: 2\\ntrestbps: 152\\nchol: 277\\nfbs: 0\\nrestecg: 1\\nthalach: 172\\nexang: 0\\noldpeak: 0\\nslope: 2\\nca: 1\\nthal: 2\\ntarget: 1'),\n",
       " Document(metadata={'source': 'heart.csv', 'row': 128}, page_content='age: 52\\nsex: 0\\ncp: 2\\ntrestbps: 136\\nchol: 196\\nfbs: 0\\nrestecg: 0\\nthalach: 169\\nexang: 0\\noldpeak: 0.1\\nslope: 1\\nca: 0\\nthal: 2\\ntarget: 1'),\n",
       " Document(metadata={'source': 'heart.csv', 'row': 129}, page_content='age: 74\\nsex: 0\\ncp: 1\\ntrestbps: 120\\nchol: 269\\nfbs: 0\\nrestecg: 0\\nthalach: 121\\nexang: 1\\noldpeak: 0.2\\nslope: 2\\nca: 1\\nthal: 2\\ntarget: 1'),\n",
       " Document(metadata={'source': 'heart.csv', 'row': 130}, page_content='age: 54\\nsex: 0\\ncp: 2\\ntrestbps: 160\\nchol: 201\\nfbs: 0\\nrestecg: 1\\nthalach: 163\\nexang: 0\\noldpeak: 0\\nslope: 2\\nca: 1\\nthal: 2\\ntarget: 1'),\n",
       " Document(metadata={'source': 'heart.csv', 'row': 131}, page_content='age: 49\\nsex: 0\\ncp: 1\\ntrestbps: 134\\nchol: 271\\nfbs: 0\\nrestecg: 1\\nthalach: 162\\nexang: 0\\noldpeak: 0\\nslope: 1\\nca: 0\\nthal: 2\\ntarget: 1'),\n",
       " Document(metadata={'source': 'heart.csv', 'row': 132}, page_content='age: 42\\nsex: 1\\ncp: 1\\ntrestbps: 120\\nchol: 295\\nfbs: 0\\nrestecg: 1\\nthalach: 162\\nexang: 0\\noldpeak: 0\\nslope: 2\\nca: 0\\nthal: 2\\ntarget: 1'),\n",
       " Document(metadata={'source': 'heart.csv', 'row': 133}, page_content='age: 41\\nsex: 1\\ncp: 1\\ntrestbps: 110\\nchol: 235\\nfbs: 0\\nrestecg: 1\\nthalach: 153\\nexang: 0\\noldpeak: 0\\nslope: 2\\nca: 0\\nthal: 2\\ntarget: 1'),\n",
       " Document(metadata={'source': 'heart.csv', 'row': 134}, page_content='age: 41\\nsex: 0\\ncp: 1\\ntrestbps: 126\\nchol: 306\\nfbs: 0\\nrestecg: 1\\nthalach: 163\\nexang: 0\\noldpeak: 0\\nslope: 2\\nca: 0\\nthal: 2\\ntarget: 1'),\n",
       " Document(metadata={'source': 'heart.csv', 'row': 135}, page_content='age: 49\\nsex: 0\\ncp: 0\\ntrestbps: 130\\nchol: 269\\nfbs: 0\\nrestecg: 1\\nthalach: 163\\nexang: 0\\noldpeak: 0\\nslope: 2\\nca: 0\\nthal: 2\\ntarget: 1'),\n",
       " Document(metadata={'source': 'heart.csv', 'row': 136}, page_content='age: 60\\nsex: 0\\ncp: 2\\ntrestbps: 120\\nchol: 178\\nfbs: 1\\nrestecg: 1\\nthalach: 96\\nexang: 0\\noldpeak: 0\\nslope: 2\\nca: 0\\nthal: 2\\ntarget: 1'),\n",
       " Document(metadata={'source': 'heart.csv', 'row': 137}, page_content='age: 62\\nsex: 1\\ncp: 1\\ntrestbps: 128\\nchol: 208\\nfbs: 1\\nrestecg: 0\\nthalach: 140\\nexang: 0\\noldpeak: 0\\nslope: 2\\nca: 0\\nthal: 2\\ntarget: 1'),\n",
       " Document(metadata={'source': 'heart.csv', 'row': 138}, page_content='age: 57\\nsex: 1\\ncp: 0\\ntrestbps: 110\\nchol: 201\\nfbs: 0\\nrestecg: 1\\nthalach: 126\\nexang: 1\\noldpeak: 1.5\\nslope: 1\\nca: 0\\nthal: 1\\ntarget: 1'),\n",
       " Document(metadata={'source': 'heart.csv', 'row': 139}, page_content='age: 64\\nsex: 1\\ncp: 0\\ntrestbps: 128\\nchol: 263\\nfbs: 0\\nrestecg: 1\\nthalach: 105\\nexang: 1\\noldpeak: 0.2\\nslope: 1\\nca: 1\\nthal: 3\\ntarget: 1'),\n",
       " Document(metadata={'source': 'heart.csv', 'row': 140}, page_content='age: 51\\nsex: 0\\ncp: 2\\ntrestbps: 120\\nchol: 295\\nfbs: 0\\nrestecg: 0\\nthalach: 157\\nexang: 0\\noldpeak: 0.6\\nslope: 2\\nca: 0\\nthal: 2\\ntarget: 1'),\n",
       " Document(metadata={'source': 'heart.csv', 'row': 141}, page_content='age: 43\\nsex: 1\\ncp: 0\\ntrestbps: 115\\nchol: 303\\nfbs: 0\\nrestecg: 1\\nthalach: 181\\nexang: 0\\noldpeak: 1.2\\nslope: 1\\nca: 0\\nthal: 2\\ntarget: 1'),\n",
       " Document(metadata={'source': 'heart.csv', 'row': 142}, page_content='age: 42\\nsex: 0\\ncp: 2\\ntrestbps: 120\\nchol: 209\\nfbs: 0\\nrestecg: 1\\nthalach: 173\\nexang: 0\\noldpeak: 0\\nslope: 1\\nca: 0\\nthal: 2\\ntarget: 1'),\n",
       " Document(metadata={'source': 'heart.csv', 'row': 143}, page_content='age: 67\\nsex: 0\\ncp: 0\\ntrestbps: 106\\nchol: 223\\nfbs: 0\\nrestecg: 1\\nthalach: 142\\nexang: 0\\noldpeak: 0.3\\nslope: 2\\nca: 2\\nthal: 2\\ntarget: 1'),\n",
       " Document(metadata={'source': 'heart.csv', 'row': 144}, page_content='age: 76\\nsex: 0\\ncp: 2\\ntrestbps: 140\\nchol: 197\\nfbs: 0\\nrestecg: 2\\nthalach: 116\\nexang: 0\\noldpeak: 1.1\\nslope: 1\\nca: 0\\nthal: 2\\ntarget: 1'),\n",
       " Document(metadata={'source': 'heart.csv', 'row': 145}, page_content='age: 70\\nsex: 1\\ncp: 1\\ntrestbps: 156\\nchol: 245\\nfbs: 0\\nrestecg: 0\\nthalach: 143\\nexang: 0\\noldpeak: 0\\nslope: 2\\nca: 0\\nthal: 2\\ntarget: 1'),\n",
       " Document(metadata={'source': 'heart.csv', 'row': 146}, page_content='age: 44\\nsex: 0\\ncp: 2\\ntrestbps: 118\\nchol: 242\\nfbs: 0\\nrestecg: 1\\nthalach: 149\\nexang: 0\\noldpeak: 0.3\\nslope: 1\\nca: 1\\nthal: 2\\ntarget: 1'),\n",
       " Document(metadata={'source': 'heart.csv', 'row': 147}, page_content='age: 60\\nsex: 0\\ncp: 3\\ntrestbps: 150\\nchol: 240\\nfbs: 0\\nrestecg: 1\\nthalach: 171\\nexang: 0\\noldpeak: 0.9\\nslope: 2\\nca: 0\\nthal: 2\\ntarget: 1'),\n",
       " Document(metadata={'source': 'heart.csv', 'row': 148}, page_content='age: 44\\nsex: 1\\ncp: 2\\ntrestbps: 120\\nchol: 226\\nfbs: 0\\nrestecg: 1\\nthalach: 169\\nexang: 0\\noldpeak: 0\\nslope: 2\\nca: 0\\nthal: 2\\ntarget: 1'),\n",
       " Document(metadata={'source': 'heart.csv', 'row': 149}, page_content='age: 42\\nsex: 1\\ncp: 2\\ntrestbps: 130\\nchol: 180\\nfbs: 0\\nrestecg: 1\\nthalach: 150\\nexang: 0\\noldpeak: 0\\nslope: 2\\nca: 0\\nthal: 2\\ntarget: 1'),\n",
       " Document(metadata={'source': 'heart.csv', 'row': 150}, page_content='age: 66\\nsex: 1\\ncp: 0\\ntrestbps: 160\\nchol: 228\\nfbs: 0\\nrestecg: 0\\nthalach: 138\\nexang: 0\\noldpeak: 2.3\\nslope: 2\\nca: 0\\nthal: 1\\ntarget: 1'),\n",
       " Document(metadata={'source': 'heart.csv', 'row': 151}, page_content='age: 71\\nsex: 0\\ncp: 0\\ntrestbps: 112\\nchol: 149\\nfbs: 0\\nrestecg: 1\\nthalach: 125\\nexang: 0\\noldpeak: 1.6\\nslope: 1\\nca: 0\\nthal: 2\\ntarget: 1'),\n",
       " Document(metadata={'source': 'heart.csv', 'row': 152}, page_content='age: 64\\nsex: 1\\ncp: 3\\ntrestbps: 170\\nchol: 227\\nfbs: 0\\nrestecg: 0\\nthalach: 155\\nexang: 0\\noldpeak: 0.6\\nslope: 1\\nca: 0\\nthal: 3\\ntarget: 1'),\n",
       " Document(metadata={'source': 'heart.csv', 'row': 153}, page_content='age: 66\\nsex: 0\\ncp: 2\\ntrestbps: 146\\nchol: 278\\nfbs: 0\\nrestecg: 0\\nthalach: 152\\nexang: 0\\noldpeak: 0\\nslope: 1\\nca: 1\\nthal: 2\\ntarget: 1'),\n",
       " Document(metadata={'source': 'heart.csv', 'row': 154}, page_content='age: 39\\nsex: 0\\ncp: 2\\ntrestbps: 138\\nchol: 220\\nfbs: 0\\nrestecg: 1\\nthalach: 152\\nexang: 0\\noldpeak: 0\\nslope: 1\\nca: 0\\nthal: 2\\ntarget: 1'),\n",
       " Document(metadata={'source': 'heart.csv', 'row': 155}, page_content='age: 58\\nsex: 0\\ncp: 0\\ntrestbps: 130\\nchol: 197\\nfbs: 0\\nrestecg: 1\\nthalach: 131\\nexang: 0\\noldpeak: 0.6\\nslope: 1\\nca: 0\\nthal: 2\\ntarget: 1'),\n",
       " Document(metadata={'source': 'heart.csv', 'row': 156}, page_content='age: 47\\nsex: 1\\ncp: 2\\ntrestbps: 130\\nchol: 253\\nfbs: 0\\nrestecg: 1\\nthalach: 179\\nexang: 0\\noldpeak: 0\\nslope: 2\\nca: 0\\nthal: 2\\ntarget: 1'),\n",
       " Document(metadata={'source': 'heart.csv', 'row': 157}, page_content='age: 35\\nsex: 1\\ncp: 1\\ntrestbps: 122\\nchol: 192\\nfbs: 0\\nrestecg: 1\\nthalach: 174\\nexang: 0\\noldpeak: 0\\nslope: 2\\nca: 0\\nthal: 2\\ntarget: 1'),\n",
       " Document(metadata={'source': 'heart.csv', 'row': 158}, page_content='age: 58\\nsex: 1\\ncp: 1\\ntrestbps: 125\\nchol: 220\\nfbs: 0\\nrestecg: 1\\nthalach: 144\\nexang: 0\\noldpeak: 0.4\\nslope: 1\\nca: 4\\nthal: 3\\ntarget: 1'),\n",
       " Document(metadata={'source': 'heart.csv', 'row': 159}, page_content='age: 56\\nsex: 1\\ncp: 1\\ntrestbps: 130\\nchol: 221\\nfbs: 0\\nrestecg: 0\\nthalach: 163\\nexang: 0\\noldpeak: 0\\nslope: 2\\nca: 0\\nthal: 3\\ntarget: 1'),\n",
       " Document(metadata={'source': 'heart.csv', 'row': 160}, page_content='age: 56\\nsex: 1\\ncp: 1\\ntrestbps: 120\\nchol: 240\\nfbs: 0\\nrestecg: 1\\nthalach: 169\\nexang: 0\\noldpeak: 0\\nslope: 0\\nca: 0\\nthal: 2\\ntarget: 1'),\n",
       " Document(metadata={'source': 'heart.csv', 'row': 161}, page_content='age: 55\\nsex: 0\\ncp: 1\\ntrestbps: 132\\nchol: 342\\nfbs: 0\\nrestecg: 1\\nthalach: 166\\nexang: 0\\noldpeak: 1.2\\nslope: 2\\nca: 0\\nthal: 2\\ntarget: 1'),\n",
       " Document(metadata={'source': 'heart.csv', 'row': 162}, page_content='age: 41\\nsex: 1\\ncp: 1\\ntrestbps: 120\\nchol: 157\\nfbs: 0\\nrestecg: 1\\nthalach: 182\\nexang: 0\\noldpeak: 0\\nslope: 2\\nca: 0\\nthal: 2\\ntarget: 1'),\n",
       " Document(metadata={'source': 'heart.csv', 'row': 163}, page_content='age: 38\\nsex: 1\\ncp: 2\\ntrestbps: 138\\nchol: 175\\nfbs: 0\\nrestecg: 1\\nthalach: 173\\nexang: 0\\noldpeak: 0\\nslope: 2\\nca: 4\\nthal: 2\\ntarget: 1'),\n",
       " Document(metadata={'source': 'heart.csv', 'row': 164}, page_content='age: 38\\nsex: 1\\ncp: 2\\ntrestbps: 138\\nchol: 175\\nfbs: 0\\nrestecg: 1\\nthalach: 173\\nexang: 0\\noldpeak: 0\\nslope: 2\\nca: 4\\nthal: 2\\ntarget: 1'),\n",
       " Document(metadata={'source': 'heart.csv', 'row': 165}, page_content='age: 67\\nsex: 1\\ncp: 0\\ntrestbps: 160\\nchol: 286\\nfbs: 0\\nrestecg: 0\\nthalach: 108\\nexang: 1\\noldpeak: 1.5\\nslope: 1\\nca: 3\\nthal: 2\\ntarget: 0'),\n",
       " Document(metadata={'source': 'heart.csv', 'row': 166}, page_content='age: 67\\nsex: 1\\ncp: 0\\ntrestbps: 120\\nchol: 229\\nfbs: 0\\nrestecg: 0\\nthalach: 129\\nexang: 1\\noldpeak: 2.6\\nslope: 1\\nca: 2\\nthal: 3\\ntarget: 0'),\n",
       " Document(metadata={'source': 'heart.csv', 'row': 167}, page_content='age: 62\\nsex: 0\\ncp: 0\\ntrestbps: 140\\nchol: 268\\nfbs: 0\\nrestecg: 0\\nthalach: 160\\nexang: 0\\noldpeak: 3.6\\nslope: 0\\nca: 2\\nthal: 2\\ntarget: 0'),\n",
       " Document(metadata={'source': 'heart.csv', 'row': 168}, page_content='age: 63\\nsex: 1\\ncp: 0\\ntrestbps: 130\\nchol: 254\\nfbs: 0\\nrestecg: 0\\nthalach: 147\\nexang: 0\\noldpeak: 1.4\\nslope: 1\\nca: 1\\nthal: 3\\ntarget: 0'),\n",
       " Document(metadata={'source': 'heart.csv', 'row': 169}, page_content='age: 53\\nsex: 1\\ncp: 0\\ntrestbps: 140\\nchol: 203\\nfbs: 1\\nrestecg: 0\\nthalach: 155\\nexang: 1\\noldpeak: 3.1\\nslope: 0\\nca: 0\\nthal: 3\\ntarget: 0'),\n",
       " Document(metadata={'source': 'heart.csv', 'row': 170}, page_content='age: 56\\nsex: 1\\ncp: 2\\ntrestbps: 130\\nchol: 256\\nfbs: 1\\nrestecg: 0\\nthalach: 142\\nexang: 1\\noldpeak: 0.6\\nslope: 1\\nca: 1\\nthal: 1\\ntarget: 0'),\n",
       " Document(metadata={'source': 'heart.csv', 'row': 171}, page_content='age: 48\\nsex: 1\\ncp: 1\\ntrestbps: 110\\nchol: 229\\nfbs: 0\\nrestecg: 1\\nthalach: 168\\nexang: 0\\noldpeak: 1\\nslope: 0\\nca: 0\\nthal: 3\\ntarget: 0'),\n",
       " Document(metadata={'source': 'heart.csv', 'row': 172}, page_content='age: 58\\nsex: 1\\ncp: 1\\ntrestbps: 120\\nchol: 284\\nfbs: 0\\nrestecg: 0\\nthalach: 160\\nexang: 0\\noldpeak: 1.8\\nslope: 1\\nca: 0\\nthal: 2\\ntarget: 0'),\n",
       " Document(metadata={'source': 'heart.csv', 'row': 173}, page_content='age: 58\\nsex: 1\\ncp: 2\\ntrestbps: 132\\nchol: 224\\nfbs: 0\\nrestecg: 0\\nthalach: 173\\nexang: 0\\noldpeak: 3.2\\nslope: 2\\nca: 2\\nthal: 3\\ntarget: 0'),\n",
       " Document(metadata={'source': 'heart.csv', 'row': 174}, page_content='age: 60\\nsex: 1\\ncp: 0\\ntrestbps: 130\\nchol: 206\\nfbs: 0\\nrestecg: 0\\nthalach: 132\\nexang: 1\\noldpeak: 2.4\\nslope: 1\\nca: 2\\nthal: 3\\ntarget: 0'),\n",
       " Document(metadata={'source': 'heart.csv', 'row': 175}, page_content='age: 40\\nsex: 1\\ncp: 0\\ntrestbps: 110\\nchol: 167\\nfbs: 0\\nrestecg: 0\\nthalach: 114\\nexang: 1\\noldpeak: 2\\nslope: 1\\nca: 0\\nthal: 3\\ntarget: 0'),\n",
       " Document(metadata={'source': 'heart.csv', 'row': 176}, page_content='age: 60\\nsex: 1\\ncp: 0\\ntrestbps: 117\\nchol: 230\\nfbs: 1\\nrestecg: 1\\nthalach: 160\\nexang: 1\\noldpeak: 1.4\\nslope: 2\\nca: 2\\nthal: 3\\ntarget: 0'),\n",
       " Document(metadata={'source': 'heart.csv', 'row': 177}, page_content='age: 64\\nsex: 1\\ncp: 2\\ntrestbps: 140\\nchol: 335\\nfbs: 0\\nrestecg: 1\\nthalach: 158\\nexang: 0\\noldpeak: 0\\nslope: 2\\nca: 0\\nthal: 2\\ntarget: 0'),\n",
       " Document(metadata={'source': 'heart.csv', 'row': 178}, page_content='age: 43\\nsex: 1\\ncp: 0\\ntrestbps: 120\\nchol: 177\\nfbs: 0\\nrestecg: 0\\nthalach: 120\\nexang: 1\\noldpeak: 2.5\\nslope: 1\\nca: 0\\nthal: 3\\ntarget: 0'),\n",
       " Document(metadata={'source': 'heart.csv', 'row': 179}, page_content='age: 57\\nsex: 1\\ncp: 0\\ntrestbps: 150\\nchol: 276\\nfbs: 0\\nrestecg: 0\\nthalach: 112\\nexang: 1\\noldpeak: 0.6\\nslope: 1\\nca: 1\\nthal: 1\\ntarget: 0'),\n",
       " Document(metadata={'source': 'heart.csv', 'row': 180}, page_content='age: 55\\nsex: 1\\ncp: 0\\ntrestbps: 132\\nchol: 353\\nfbs: 0\\nrestecg: 1\\nthalach: 132\\nexang: 1\\noldpeak: 1.2\\nslope: 1\\nca: 1\\nthal: 3\\ntarget: 0'),\n",
       " Document(metadata={'source': 'heart.csv', 'row': 181}, page_content='age: 65\\nsex: 0\\ncp: 0\\ntrestbps: 150\\nchol: 225\\nfbs: 0\\nrestecg: 0\\nthalach: 114\\nexang: 0\\noldpeak: 1\\nslope: 1\\nca: 3\\nthal: 3\\ntarget: 0'),\n",
       " Document(metadata={'source': 'heart.csv', 'row': 182}, page_content='age: 61\\nsex: 0\\ncp: 0\\ntrestbps: 130\\nchol: 330\\nfbs: 0\\nrestecg: 0\\nthalach: 169\\nexang: 0\\noldpeak: 0\\nslope: 2\\nca: 0\\nthal: 2\\ntarget: 0'),\n",
       " Document(metadata={'source': 'heart.csv', 'row': 183}, page_content='age: 58\\nsex: 1\\ncp: 2\\ntrestbps: 112\\nchol: 230\\nfbs: 0\\nrestecg: 0\\nthalach: 165\\nexang: 0\\noldpeak: 2.5\\nslope: 1\\nca: 1\\nthal: 3\\ntarget: 0'),\n",
       " Document(metadata={'source': 'heart.csv', 'row': 184}, page_content='age: 50\\nsex: 1\\ncp: 0\\ntrestbps: 150\\nchol: 243\\nfbs: 0\\nrestecg: 0\\nthalach: 128\\nexang: 0\\noldpeak: 2.6\\nslope: 1\\nca: 0\\nthal: 3\\ntarget: 0'),\n",
       " Document(metadata={'source': 'heart.csv', 'row': 185}, page_content='age: 44\\nsex: 1\\ncp: 0\\ntrestbps: 112\\nchol: 290\\nfbs: 0\\nrestecg: 0\\nthalach: 153\\nexang: 0\\noldpeak: 0\\nslope: 2\\nca: 1\\nthal: 2\\ntarget: 0'),\n",
       " Document(metadata={'source': 'heart.csv', 'row': 186}, page_content='age: 60\\nsex: 1\\ncp: 0\\ntrestbps: 130\\nchol: 253\\nfbs: 0\\nrestecg: 1\\nthalach: 144\\nexang: 1\\noldpeak: 1.4\\nslope: 2\\nca: 1\\nthal: 3\\ntarget: 0'),\n",
       " Document(metadata={'source': 'heart.csv', 'row': 187}, page_content='age: 54\\nsex: 1\\ncp: 0\\ntrestbps: 124\\nchol: 266\\nfbs: 0\\nrestecg: 0\\nthalach: 109\\nexang: 1\\noldpeak: 2.2\\nslope: 1\\nca: 1\\nthal: 3\\ntarget: 0'),\n",
       " Document(metadata={'source': 'heart.csv', 'row': 188}, page_content='age: 50\\nsex: 1\\ncp: 2\\ntrestbps: 140\\nchol: 233\\nfbs: 0\\nrestecg: 1\\nthalach: 163\\nexang: 0\\noldpeak: 0.6\\nslope: 1\\nca: 1\\nthal: 3\\ntarget: 0'),\n",
       " Document(metadata={'source': 'heart.csv', 'row': 189}, page_content='age: 41\\nsex: 1\\ncp: 0\\ntrestbps: 110\\nchol: 172\\nfbs: 0\\nrestecg: 0\\nthalach: 158\\nexang: 0\\noldpeak: 0\\nslope: 2\\nca: 0\\nthal: 3\\ntarget: 0'),\n",
       " Document(metadata={'source': 'heart.csv', 'row': 190}, page_content='age: 51\\nsex: 0\\ncp: 0\\ntrestbps: 130\\nchol: 305\\nfbs: 0\\nrestecg: 1\\nthalach: 142\\nexang: 1\\noldpeak: 1.2\\nslope: 1\\nca: 0\\nthal: 3\\ntarget: 0'),\n",
       " Document(metadata={'source': 'heart.csv', 'row': 191}, page_content='age: 58\\nsex: 1\\ncp: 0\\ntrestbps: 128\\nchol: 216\\nfbs: 0\\nrestecg: 0\\nthalach: 131\\nexang: 1\\noldpeak: 2.2\\nslope: 1\\nca: 3\\nthal: 3\\ntarget: 0'),\n",
       " Document(metadata={'source': 'heart.csv', 'row': 192}, page_content='age: 54\\nsex: 1\\ncp: 0\\ntrestbps: 120\\nchol: 188\\nfbs: 0\\nrestecg: 1\\nthalach: 113\\nexang: 0\\noldpeak: 1.4\\nslope: 1\\nca: 1\\nthal: 3\\ntarget: 0'),\n",
       " Document(metadata={'source': 'heart.csv', 'row': 193}, page_content='age: 60\\nsex: 1\\ncp: 0\\ntrestbps: 145\\nchol: 282\\nfbs: 0\\nrestecg: 0\\nthalach: 142\\nexang: 1\\noldpeak: 2.8\\nslope: 1\\nca: 2\\nthal: 3\\ntarget: 0'),\n",
       " Document(metadata={'source': 'heart.csv', 'row': 194}, page_content='age: 60\\nsex: 1\\ncp: 2\\ntrestbps: 140\\nchol: 185\\nfbs: 0\\nrestecg: 0\\nthalach: 155\\nexang: 0\\noldpeak: 3\\nslope: 1\\nca: 0\\nthal: 2\\ntarget: 0'),\n",
       " Document(metadata={'source': 'heart.csv', 'row': 195}, page_content='age: 59\\nsex: 1\\ncp: 0\\ntrestbps: 170\\nchol: 326\\nfbs: 0\\nrestecg: 0\\nthalach: 140\\nexang: 1\\noldpeak: 3.4\\nslope: 0\\nca: 0\\nthal: 3\\ntarget: 0'),\n",
       " Document(metadata={'source': 'heart.csv', 'row': 196}, page_content='age: 46\\nsex: 1\\ncp: 2\\ntrestbps: 150\\nchol: 231\\nfbs: 0\\nrestecg: 1\\nthalach: 147\\nexang: 0\\noldpeak: 3.6\\nslope: 1\\nca: 0\\nthal: 2\\ntarget: 0'),\n",
       " Document(metadata={'source': 'heart.csv', 'row': 197}, page_content='age: 67\\nsex: 1\\ncp: 0\\ntrestbps: 125\\nchol: 254\\nfbs: 1\\nrestecg: 1\\nthalach: 163\\nexang: 0\\noldpeak: 0.2\\nslope: 1\\nca: 2\\nthal: 3\\ntarget: 0'),\n",
       " Document(metadata={'source': 'heart.csv', 'row': 198}, page_content='age: 62\\nsex: 1\\ncp: 0\\ntrestbps: 120\\nchol: 267\\nfbs: 0\\nrestecg: 1\\nthalach: 99\\nexang: 1\\noldpeak: 1.8\\nslope: 1\\nca: 2\\nthal: 3\\ntarget: 0'),\n",
       " Document(metadata={'source': 'heart.csv', 'row': 199}, page_content='age: 65\\nsex: 1\\ncp: 0\\ntrestbps: 110\\nchol: 248\\nfbs: 0\\nrestecg: 0\\nthalach: 158\\nexang: 0\\noldpeak: 0.6\\nslope: 2\\nca: 2\\nthal: 1\\ntarget: 0'),\n",
       " Document(metadata={'source': 'heart.csv', 'row': 200}, page_content='age: 44\\nsex: 1\\ncp: 0\\ntrestbps: 110\\nchol: 197\\nfbs: 0\\nrestecg: 0\\nthalach: 177\\nexang: 0\\noldpeak: 0\\nslope: 2\\nca: 1\\nthal: 2\\ntarget: 0'),\n",
       " Document(metadata={'source': 'heart.csv', 'row': 201}, page_content='age: 60\\nsex: 1\\ncp: 0\\ntrestbps: 125\\nchol: 258\\nfbs: 0\\nrestecg: 0\\nthalach: 141\\nexang: 1\\noldpeak: 2.8\\nslope: 1\\nca: 1\\nthal: 3\\ntarget: 0'),\n",
       " Document(metadata={'source': 'heart.csv', 'row': 202}, page_content='age: 58\\nsex: 1\\ncp: 0\\ntrestbps: 150\\nchol: 270\\nfbs: 0\\nrestecg: 0\\nthalach: 111\\nexang: 1\\noldpeak: 0.8\\nslope: 2\\nca: 0\\nthal: 3\\ntarget: 0'),\n",
       " Document(metadata={'source': 'heart.csv', 'row': 203}, page_content='age: 68\\nsex: 1\\ncp: 2\\ntrestbps: 180\\nchol: 274\\nfbs: 1\\nrestecg: 0\\nthalach: 150\\nexang: 1\\noldpeak: 1.6\\nslope: 1\\nca: 0\\nthal: 3\\ntarget: 0'),\n",
       " Document(metadata={'source': 'heart.csv', 'row': 204}, page_content='age: 62\\nsex: 0\\ncp: 0\\ntrestbps: 160\\nchol: 164\\nfbs: 0\\nrestecg: 0\\nthalach: 145\\nexang: 0\\noldpeak: 6.2\\nslope: 0\\nca: 3\\nthal: 3\\ntarget: 0'),\n",
       " Document(metadata={'source': 'heart.csv', 'row': 205}, page_content='age: 52\\nsex: 1\\ncp: 0\\ntrestbps: 128\\nchol: 255\\nfbs: 0\\nrestecg: 1\\nthalach: 161\\nexang: 1\\noldpeak: 0\\nslope: 2\\nca: 1\\nthal: 3\\ntarget: 0'),\n",
       " Document(metadata={'source': 'heart.csv', 'row': 206}, page_content='age: 59\\nsex: 1\\ncp: 0\\ntrestbps: 110\\nchol: 239\\nfbs: 0\\nrestecg: 0\\nthalach: 142\\nexang: 1\\noldpeak: 1.2\\nslope: 1\\nca: 1\\nthal: 3\\ntarget: 0'),\n",
       " Document(metadata={'source': 'heart.csv', 'row': 207}, page_content='age: 60\\nsex: 0\\ncp: 0\\ntrestbps: 150\\nchol: 258\\nfbs: 0\\nrestecg: 0\\nthalach: 157\\nexang: 0\\noldpeak: 2.6\\nslope: 1\\nca: 2\\nthal: 3\\ntarget: 0'),\n",
       " Document(metadata={'source': 'heart.csv', 'row': 208}, page_content='age: 49\\nsex: 1\\ncp: 2\\ntrestbps: 120\\nchol: 188\\nfbs: 0\\nrestecg: 1\\nthalach: 139\\nexang: 0\\noldpeak: 2\\nslope: 1\\nca: 3\\nthal: 3\\ntarget: 0'),\n",
       " Document(metadata={'source': 'heart.csv', 'row': 209}, page_content='age: 59\\nsex: 1\\ncp: 0\\ntrestbps: 140\\nchol: 177\\nfbs: 0\\nrestecg: 1\\nthalach: 162\\nexang: 1\\noldpeak: 0\\nslope: 2\\nca: 1\\nthal: 3\\ntarget: 0'),\n",
       " Document(metadata={'source': 'heart.csv', 'row': 210}, page_content='age: 57\\nsex: 1\\ncp: 2\\ntrestbps: 128\\nchol: 229\\nfbs: 0\\nrestecg: 0\\nthalach: 150\\nexang: 0\\noldpeak: 0.4\\nslope: 1\\nca: 1\\nthal: 3\\ntarget: 0'),\n",
       " Document(metadata={'source': 'heart.csv', 'row': 211}, page_content='age: 61\\nsex: 1\\ncp: 0\\ntrestbps: 120\\nchol: 260\\nfbs: 0\\nrestecg: 1\\nthalach: 140\\nexang: 1\\noldpeak: 3.6\\nslope: 1\\nca: 1\\nthal: 3\\ntarget: 0'),\n",
       " Document(metadata={'source': 'heart.csv', 'row': 212}, page_content='age: 39\\nsex: 1\\ncp: 0\\ntrestbps: 118\\nchol: 219\\nfbs: 0\\nrestecg: 1\\nthalach: 140\\nexang: 0\\noldpeak: 1.2\\nslope: 1\\nca: 0\\nthal: 3\\ntarget: 0'),\n",
       " Document(metadata={'source': 'heart.csv', 'row': 213}, page_content='age: 61\\nsex: 0\\ncp: 0\\ntrestbps: 145\\nchol: 307\\nfbs: 0\\nrestecg: 0\\nthalach: 146\\nexang: 1\\noldpeak: 1\\nslope: 1\\nca: 0\\nthal: 3\\ntarget: 0'),\n",
       " Document(metadata={'source': 'heart.csv', 'row': 214}, page_content='age: 56\\nsex: 1\\ncp: 0\\ntrestbps: 125\\nchol: 249\\nfbs: 1\\nrestecg: 0\\nthalach: 144\\nexang: 1\\noldpeak: 1.2\\nslope: 1\\nca: 1\\nthal: 2\\ntarget: 0'),\n",
       " Document(metadata={'source': 'heart.csv', 'row': 215}, page_content='age: 43\\nsex: 0\\ncp: 0\\ntrestbps: 132\\nchol: 341\\nfbs: 1\\nrestecg: 0\\nthalach: 136\\nexang: 1\\noldpeak: 3\\nslope: 1\\nca: 0\\nthal: 3\\ntarget: 0'),\n",
       " Document(metadata={'source': 'heart.csv', 'row': 216}, page_content='age: 62\\nsex: 0\\ncp: 2\\ntrestbps: 130\\nchol: 263\\nfbs: 0\\nrestecg: 1\\nthalach: 97\\nexang: 0\\noldpeak: 1.2\\nslope: 1\\nca: 1\\nthal: 3\\ntarget: 0'),\n",
       " Document(metadata={'source': 'heart.csv', 'row': 217}, page_content='age: 63\\nsex: 1\\ncp: 0\\ntrestbps: 130\\nchol: 330\\nfbs: 1\\nrestecg: 0\\nthalach: 132\\nexang: 1\\noldpeak: 1.8\\nslope: 2\\nca: 3\\nthal: 3\\ntarget: 0'),\n",
       " Document(metadata={'source': 'heart.csv', 'row': 218}, page_content='age: 65\\nsex: 1\\ncp: 0\\ntrestbps: 135\\nchol: 254\\nfbs: 0\\nrestecg: 0\\nthalach: 127\\nexang: 0\\noldpeak: 2.8\\nslope: 1\\nca: 1\\nthal: 3\\ntarget: 0'),\n",
       " Document(metadata={'source': 'heart.csv', 'row': 219}, page_content='age: 48\\nsex: 1\\ncp: 0\\ntrestbps: 130\\nchol: 256\\nfbs: 1\\nrestecg: 0\\nthalach: 150\\nexang: 1\\noldpeak: 0\\nslope: 2\\nca: 2\\nthal: 3\\ntarget: 0'),\n",
       " Document(metadata={'source': 'heart.csv', 'row': 220}, page_content='age: 63\\nsex: 0\\ncp: 0\\ntrestbps: 150\\nchol: 407\\nfbs: 0\\nrestecg: 0\\nthalach: 154\\nexang: 0\\noldpeak: 4\\nslope: 1\\nca: 3\\nthal: 3\\ntarget: 0'),\n",
       " Document(metadata={'source': 'heart.csv', 'row': 221}, page_content='age: 55\\nsex: 1\\ncp: 0\\ntrestbps: 140\\nchol: 217\\nfbs: 0\\nrestecg: 1\\nthalach: 111\\nexang: 1\\noldpeak: 5.6\\nslope: 0\\nca: 0\\nthal: 3\\ntarget: 0'),\n",
       " Document(metadata={'source': 'heart.csv', 'row': 222}, page_content='age: 65\\nsex: 1\\ncp: 3\\ntrestbps: 138\\nchol: 282\\nfbs: 1\\nrestecg: 0\\nthalach: 174\\nexang: 0\\noldpeak: 1.4\\nslope: 1\\nca: 1\\nthal: 2\\ntarget: 0'),\n",
       " Document(metadata={'source': 'heart.csv', 'row': 223}, page_content='age: 56\\nsex: 0\\ncp: 0\\ntrestbps: 200\\nchol: 288\\nfbs: 1\\nrestecg: 0\\nthalach: 133\\nexang: 1\\noldpeak: 4\\nslope: 0\\nca: 2\\nthal: 3\\ntarget: 0'),\n",
       " Document(metadata={'source': 'heart.csv', 'row': 224}, page_content='age: 54\\nsex: 1\\ncp: 0\\ntrestbps: 110\\nchol: 239\\nfbs: 0\\nrestecg: 1\\nthalach: 126\\nexang: 1\\noldpeak: 2.8\\nslope: 1\\nca: 1\\nthal: 3\\ntarget: 0'),\n",
       " Document(metadata={'source': 'heart.csv', 'row': 225}, page_content='age: 70\\nsex: 1\\ncp: 0\\ntrestbps: 145\\nchol: 174\\nfbs: 0\\nrestecg: 1\\nthalach: 125\\nexang: 1\\noldpeak: 2.6\\nslope: 0\\nca: 0\\nthal: 3\\ntarget: 0'),\n",
       " Document(metadata={'source': 'heart.csv', 'row': 226}, page_content='age: 62\\nsex: 1\\ncp: 1\\ntrestbps: 120\\nchol: 281\\nfbs: 0\\nrestecg: 0\\nthalach: 103\\nexang: 0\\noldpeak: 1.4\\nslope: 1\\nca: 1\\nthal: 3\\ntarget: 0'),\n",
       " Document(metadata={'source': 'heart.csv', 'row': 227}, page_content='age: 35\\nsex: 1\\ncp: 0\\ntrestbps: 120\\nchol: 198\\nfbs: 0\\nrestecg: 1\\nthalach: 130\\nexang: 1\\noldpeak: 1.6\\nslope: 1\\nca: 0\\nthal: 3\\ntarget: 0'),\n",
       " Document(metadata={'source': 'heart.csv', 'row': 228}, page_content='age: 59\\nsex: 1\\ncp: 3\\ntrestbps: 170\\nchol: 288\\nfbs: 0\\nrestecg: 0\\nthalach: 159\\nexang: 0\\noldpeak: 0.2\\nslope: 1\\nca: 0\\nthal: 3\\ntarget: 0'),\n",
       " Document(metadata={'source': 'heart.csv', 'row': 229}, page_content='age: 64\\nsex: 1\\ncp: 2\\ntrestbps: 125\\nchol: 309\\nfbs: 0\\nrestecg: 1\\nthalach: 131\\nexang: 1\\noldpeak: 1.8\\nslope: 1\\nca: 0\\nthal: 3\\ntarget: 0'),\n",
       " Document(metadata={'source': 'heart.csv', 'row': 230}, page_content='age: 47\\nsex: 1\\ncp: 2\\ntrestbps: 108\\nchol: 243\\nfbs: 0\\nrestecg: 1\\nthalach: 152\\nexang: 0\\noldpeak: 0\\nslope: 2\\nca: 0\\nthal: 2\\ntarget: 0'),\n",
       " Document(metadata={'source': 'heart.csv', 'row': 231}, page_content='age: 57\\nsex: 1\\ncp: 0\\ntrestbps: 165\\nchol: 289\\nfbs: 1\\nrestecg: 0\\nthalach: 124\\nexang: 0\\noldpeak: 1\\nslope: 1\\nca: 3\\nthal: 3\\ntarget: 0'),\n",
       " Document(metadata={'source': 'heart.csv', 'row': 232}, page_content='age: 55\\nsex: 1\\ncp: 0\\ntrestbps: 160\\nchol: 289\\nfbs: 0\\nrestecg: 0\\nthalach: 145\\nexang: 1\\noldpeak: 0.8\\nslope: 1\\nca: 1\\nthal: 3\\ntarget: 0'),\n",
       " Document(metadata={'source': 'heart.csv', 'row': 233}, page_content='age: 64\\nsex: 1\\ncp: 0\\ntrestbps: 120\\nchol: 246\\nfbs: 0\\nrestecg: 0\\nthalach: 96\\nexang: 1\\noldpeak: 2.2\\nslope: 0\\nca: 1\\nthal: 2\\ntarget: 0'),\n",
       " Document(metadata={'source': 'heart.csv', 'row': 234}, page_content='age: 70\\nsex: 1\\ncp: 0\\ntrestbps: 130\\nchol: 322\\nfbs: 0\\nrestecg: 0\\nthalach: 109\\nexang: 0\\noldpeak: 2.4\\nslope: 1\\nca: 3\\nthal: 2\\ntarget: 0'),\n",
       " Document(metadata={'source': 'heart.csv', 'row': 235}, page_content='age: 51\\nsex: 1\\ncp: 0\\ntrestbps: 140\\nchol: 299\\nfbs: 0\\nrestecg: 1\\nthalach: 173\\nexang: 1\\noldpeak: 1.6\\nslope: 2\\nca: 0\\nthal: 3\\ntarget: 0'),\n",
       " Document(metadata={'source': 'heart.csv', 'row': 236}, page_content='age: 58\\nsex: 1\\ncp: 0\\ntrestbps: 125\\nchol: 300\\nfbs: 0\\nrestecg: 0\\nthalach: 171\\nexang: 0\\noldpeak: 0\\nslope: 2\\nca: 2\\nthal: 3\\ntarget: 0'),\n",
       " Document(metadata={'source': 'heart.csv', 'row': 237}, page_content='age: 60\\nsex: 1\\ncp: 0\\ntrestbps: 140\\nchol: 293\\nfbs: 0\\nrestecg: 0\\nthalach: 170\\nexang: 0\\noldpeak: 1.2\\nslope: 1\\nca: 2\\nthal: 3\\ntarget: 0'),\n",
       " Document(metadata={'source': 'heart.csv', 'row': 238}, page_content='age: 77\\nsex: 1\\ncp: 0\\ntrestbps: 125\\nchol: 304\\nfbs: 0\\nrestecg: 0\\nthalach: 162\\nexang: 1\\noldpeak: 0\\nslope: 2\\nca: 3\\nthal: 2\\ntarget: 0'),\n",
       " Document(metadata={'source': 'heart.csv', 'row': 239}, page_content='age: 35\\nsex: 1\\ncp: 0\\ntrestbps: 126\\nchol: 282\\nfbs: 0\\nrestecg: 0\\nthalach: 156\\nexang: 1\\noldpeak: 0\\nslope: 2\\nca: 0\\nthal: 3\\ntarget: 0'),\n",
       " Document(metadata={'source': 'heart.csv', 'row': 240}, page_content='age: 70\\nsex: 1\\ncp: 2\\ntrestbps: 160\\nchol: 269\\nfbs: 0\\nrestecg: 1\\nthalach: 112\\nexang: 1\\noldpeak: 2.9\\nslope: 1\\nca: 1\\nthal: 3\\ntarget: 0'),\n",
       " Document(metadata={'source': 'heart.csv', 'row': 241}, page_content='age: 59\\nsex: 0\\ncp: 0\\ntrestbps: 174\\nchol: 249\\nfbs: 0\\nrestecg: 1\\nthalach: 143\\nexang: 1\\noldpeak: 0\\nslope: 1\\nca: 0\\nthal: 2\\ntarget: 0'),\n",
       " Document(metadata={'source': 'heart.csv', 'row': 242}, page_content='age: 64\\nsex: 1\\ncp: 0\\ntrestbps: 145\\nchol: 212\\nfbs: 0\\nrestecg: 0\\nthalach: 132\\nexang: 0\\noldpeak: 2\\nslope: 1\\nca: 2\\nthal: 1\\ntarget: 0'),\n",
       " Document(metadata={'source': 'heart.csv', 'row': 243}, page_content='age: 57\\nsex: 1\\ncp: 0\\ntrestbps: 152\\nchol: 274\\nfbs: 0\\nrestecg: 1\\nthalach: 88\\nexang: 1\\noldpeak: 1.2\\nslope: 1\\nca: 1\\nthal: 3\\ntarget: 0'),\n",
       " Document(metadata={'source': 'heart.csv', 'row': 244}, page_content='age: 56\\nsex: 1\\ncp: 0\\ntrestbps: 132\\nchol: 184\\nfbs: 0\\nrestecg: 0\\nthalach: 105\\nexang: 1\\noldpeak: 2.1\\nslope: 1\\nca: 1\\nthal: 1\\ntarget: 0'),\n",
       " Document(metadata={'source': 'heart.csv', 'row': 245}, page_content='age: 48\\nsex: 1\\ncp: 0\\ntrestbps: 124\\nchol: 274\\nfbs: 0\\nrestecg: 0\\nthalach: 166\\nexang: 0\\noldpeak: 0.5\\nslope: 1\\nca: 0\\nthal: 3\\ntarget: 0'),\n",
       " Document(metadata={'source': 'heart.csv', 'row': 246}, page_content='age: 56\\nsex: 0\\ncp: 0\\ntrestbps: 134\\nchol: 409\\nfbs: 0\\nrestecg: 0\\nthalach: 150\\nexang: 1\\noldpeak: 1.9\\nslope: 1\\nca: 2\\nthal: 3\\ntarget: 0'),\n",
       " Document(metadata={'source': 'heart.csv', 'row': 247}, page_content='age: 66\\nsex: 1\\ncp: 1\\ntrestbps: 160\\nchol: 246\\nfbs: 0\\nrestecg: 1\\nthalach: 120\\nexang: 1\\noldpeak: 0\\nslope: 1\\nca: 3\\nthal: 1\\ntarget: 0'),\n",
       " Document(metadata={'source': 'heart.csv', 'row': 248}, page_content='age: 54\\nsex: 1\\ncp: 1\\ntrestbps: 192\\nchol: 283\\nfbs: 0\\nrestecg: 0\\nthalach: 195\\nexang: 0\\noldpeak: 0\\nslope: 2\\nca: 1\\nthal: 3\\ntarget: 0'),\n",
       " Document(metadata={'source': 'heart.csv', 'row': 249}, page_content='age: 69\\nsex: 1\\ncp: 2\\ntrestbps: 140\\nchol: 254\\nfbs: 0\\nrestecg: 0\\nthalach: 146\\nexang: 0\\noldpeak: 2\\nslope: 1\\nca: 3\\nthal: 3\\ntarget: 0'),\n",
       " Document(metadata={'source': 'heart.csv', 'row': 250}, page_content='age: 51\\nsex: 1\\ncp: 0\\ntrestbps: 140\\nchol: 298\\nfbs: 0\\nrestecg: 1\\nthalach: 122\\nexang: 1\\noldpeak: 4.2\\nslope: 1\\nca: 3\\nthal: 3\\ntarget: 0'),\n",
       " Document(metadata={'source': 'heart.csv', 'row': 251}, page_content='age: 43\\nsex: 1\\ncp: 0\\ntrestbps: 132\\nchol: 247\\nfbs: 1\\nrestecg: 0\\nthalach: 143\\nexang: 1\\noldpeak: 0.1\\nslope: 1\\nca: 4\\nthal: 3\\ntarget: 0'),\n",
       " Document(metadata={'source': 'heart.csv', 'row': 252}, page_content='age: 62\\nsex: 0\\ncp: 0\\ntrestbps: 138\\nchol: 294\\nfbs: 1\\nrestecg: 1\\nthalach: 106\\nexang: 0\\noldpeak: 1.9\\nslope: 1\\nca: 3\\nthal: 2\\ntarget: 0'),\n",
       " Document(metadata={'source': 'heart.csv', 'row': 253}, page_content='age: 67\\nsex: 1\\ncp: 0\\ntrestbps: 100\\nchol: 299\\nfbs: 0\\nrestecg: 0\\nthalach: 125\\nexang: 1\\noldpeak: 0.9\\nslope: 1\\nca: 2\\nthal: 2\\ntarget: 0'),\n",
       " Document(metadata={'source': 'heart.csv', 'row': 254}, page_content='age: 59\\nsex: 1\\ncp: 3\\ntrestbps: 160\\nchol: 273\\nfbs: 0\\nrestecg: 0\\nthalach: 125\\nexang: 0\\noldpeak: 0\\nslope: 2\\nca: 0\\nthal: 2\\ntarget: 0'),\n",
       " Document(metadata={'source': 'heart.csv', 'row': 255}, page_content='age: 45\\nsex: 1\\ncp: 0\\ntrestbps: 142\\nchol: 309\\nfbs: 0\\nrestecg: 0\\nthalach: 147\\nexang: 1\\noldpeak: 0\\nslope: 1\\nca: 3\\nthal: 3\\ntarget: 0'),\n",
       " Document(metadata={'source': 'heart.csv', 'row': 256}, page_content='age: 58\\nsex: 1\\ncp: 0\\ntrestbps: 128\\nchol: 259\\nfbs: 0\\nrestecg: 0\\nthalach: 130\\nexang: 1\\noldpeak: 3\\nslope: 1\\nca: 2\\nthal: 3\\ntarget: 0'),\n",
       " Document(metadata={'source': 'heart.csv', 'row': 257}, page_content='age: 50\\nsex: 1\\ncp: 0\\ntrestbps: 144\\nchol: 200\\nfbs: 0\\nrestecg: 0\\nthalach: 126\\nexang: 1\\noldpeak: 0.9\\nslope: 1\\nca: 0\\nthal: 3\\ntarget: 0'),\n",
       " Document(metadata={'source': 'heart.csv', 'row': 258}, page_content='age: 62\\nsex: 0\\ncp: 0\\ntrestbps: 150\\nchol: 244\\nfbs: 0\\nrestecg: 1\\nthalach: 154\\nexang: 1\\noldpeak: 1.4\\nslope: 1\\nca: 0\\nthal: 2\\ntarget: 0'),\n",
       " Document(metadata={'source': 'heart.csv', 'row': 259}, page_content='age: 38\\nsex: 1\\ncp: 3\\ntrestbps: 120\\nchol: 231\\nfbs: 0\\nrestecg: 1\\nthalach: 182\\nexang: 1\\noldpeak: 3.8\\nslope: 1\\nca: 0\\nthal: 3\\ntarget: 0'),\n",
       " Document(metadata={'source': 'heart.csv', 'row': 260}, page_content='age: 66\\nsex: 0\\ncp: 0\\ntrestbps: 178\\nchol: 228\\nfbs: 1\\nrestecg: 1\\nthalach: 165\\nexang: 1\\noldpeak: 1\\nslope: 1\\nca: 2\\nthal: 3\\ntarget: 0'),\n",
       " Document(metadata={'source': 'heart.csv', 'row': 261}, page_content='age: 52\\nsex: 1\\ncp: 0\\ntrestbps: 112\\nchol: 230\\nfbs: 0\\nrestecg: 1\\nthalach: 160\\nexang: 0\\noldpeak: 0\\nslope: 2\\nca: 1\\nthal: 2\\ntarget: 0'),\n",
       " Document(metadata={'source': 'heart.csv', 'row': 262}, page_content='age: 53\\nsex: 1\\ncp: 0\\ntrestbps: 123\\nchol: 282\\nfbs: 0\\nrestecg: 1\\nthalach: 95\\nexang: 1\\noldpeak: 2\\nslope: 1\\nca: 2\\nthal: 3\\ntarget: 0'),\n",
       " Document(metadata={'source': 'heart.csv', 'row': 263}, page_content='age: 63\\nsex: 0\\ncp: 0\\ntrestbps: 108\\nchol: 269\\nfbs: 0\\nrestecg: 1\\nthalach: 169\\nexang: 1\\noldpeak: 1.8\\nslope: 1\\nca: 2\\nthal: 2\\ntarget: 0'),\n",
       " Document(metadata={'source': 'heart.csv', 'row': 264}, page_content='age: 54\\nsex: 1\\ncp: 0\\ntrestbps: 110\\nchol: 206\\nfbs: 0\\nrestecg: 0\\nthalach: 108\\nexang: 1\\noldpeak: 0\\nslope: 1\\nca: 1\\nthal: 2\\ntarget: 0'),\n",
       " Document(metadata={'source': 'heart.csv', 'row': 265}, page_content='age: 66\\nsex: 1\\ncp: 0\\ntrestbps: 112\\nchol: 212\\nfbs: 0\\nrestecg: 0\\nthalach: 132\\nexang: 1\\noldpeak: 0.1\\nslope: 2\\nca: 1\\nthal: 2\\ntarget: 0'),\n",
       " Document(metadata={'source': 'heart.csv', 'row': 266}, page_content='age: 55\\nsex: 0\\ncp: 0\\ntrestbps: 180\\nchol: 327\\nfbs: 0\\nrestecg: 2\\nthalach: 117\\nexang: 1\\noldpeak: 3.4\\nslope: 1\\nca: 0\\nthal: 2\\ntarget: 0'),\n",
       " Document(metadata={'source': 'heart.csv', 'row': 267}, page_content='age: 49\\nsex: 1\\ncp: 2\\ntrestbps: 118\\nchol: 149\\nfbs: 0\\nrestecg: 0\\nthalach: 126\\nexang: 0\\noldpeak: 0.8\\nslope: 2\\nca: 3\\nthal: 2\\ntarget: 0'),\n",
       " Document(metadata={'source': 'heart.csv', 'row': 268}, page_content='age: 54\\nsex: 1\\ncp: 0\\ntrestbps: 122\\nchol: 286\\nfbs: 0\\nrestecg: 0\\nthalach: 116\\nexang: 1\\noldpeak: 3.2\\nslope: 1\\nca: 2\\nthal: 2\\ntarget: 0'),\n",
       " Document(metadata={'source': 'heart.csv', 'row': 269}, page_content='age: 56\\nsex: 1\\ncp: 0\\ntrestbps: 130\\nchol: 283\\nfbs: 1\\nrestecg: 0\\nthalach: 103\\nexang: 1\\noldpeak: 1.6\\nslope: 0\\nca: 0\\nthal: 3\\ntarget: 0'),\n",
       " Document(metadata={'source': 'heart.csv', 'row': 270}, page_content='age: 46\\nsex: 1\\ncp: 0\\ntrestbps: 120\\nchol: 249\\nfbs: 0\\nrestecg: 0\\nthalach: 144\\nexang: 0\\noldpeak: 0.8\\nslope: 2\\nca: 0\\nthal: 3\\ntarget: 0'),\n",
       " Document(metadata={'source': 'heart.csv', 'row': 271}, page_content='age: 61\\nsex: 1\\ncp: 3\\ntrestbps: 134\\nchol: 234\\nfbs: 0\\nrestecg: 1\\nthalach: 145\\nexang: 0\\noldpeak: 2.6\\nslope: 1\\nca: 2\\nthal: 2\\ntarget: 0'),\n",
       " Document(metadata={'source': 'heart.csv', 'row': 272}, page_content='age: 67\\nsex: 1\\ncp: 0\\ntrestbps: 120\\nchol: 237\\nfbs: 0\\nrestecg: 1\\nthalach: 71\\nexang: 0\\noldpeak: 1\\nslope: 1\\nca: 0\\nthal: 2\\ntarget: 0'),\n",
       " Document(metadata={'source': 'heart.csv', 'row': 273}, page_content='age: 58\\nsex: 1\\ncp: 0\\ntrestbps: 100\\nchol: 234\\nfbs: 0\\nrestecg: 1\\nthalach: 156\\nexang: 0\\noldpeak: 0.1\\nslope: 2\\nca: 1\\nthal: 3\\ntarget: 0'),\n",
       " Document(metadata={'source': 'heart.csv', 'row': 274}, page_content='age: 47\\nsex: 1\\ncp: 0\\ntrestbps: 110\\nchol: 275\\nfbs: 0\\nrestecg: 0\\nthalach: 118\\nexang: 1\\noldpeak: 1\\nslope: 1\\nca: 1\\nthal: 2\\ntarget: 0'),\n",
       " Document(metadata={'source': 'heart.csv', 'row': 275}, page_content='age: 52\\nsex: 1\\ncp: 0\\ntrestbps: 125\\nchol: 212\\nfbs: 0\\nrestecg: 1\\nthalach: 168\\nexang: 0\\noldpeak: 1\\nslope: 2\\nca: 2\\nthal: 3\\ntarget: 0'),\n",
       " Document(metadata={'source': 'heart.csv', 'row': 276}, page_content='age: 58\\nsex: 1\\ncp: 0\\ntrestbps: 146\\nchol: 218\\nfbs: 0\\nrestecg: 1\\nthalach: 105\\nexang: 0\\noldpeak: 2\\nslope: 1\\nca: 1\\nthal: 3\\ntarget: 0'),\n",
       " Document(metadata={'source': 'heart.csv', 'row': 277}, page_content='age: 57\\nsex: 1\\ncp: 1\\ntrestbps: 124\\nchol: 261\\nfbs: 0\\nrestecg: 1\\nthalach: 141\\nexang: 0\\noldpeak: 0.3\\nslope: 2\\nca: 0\\nthal: 3\\ntarget: 0'),\n",
       " Document(metadata={'source': 'heart.csv', 'row': 278}, page_content='age: 58\\nsex: 0\\ncp: 1\\ntrestbps: 136\\nchol: 319\\nfbs: 1\\nrestecg: 0\\nthalach: 152\\nexang: 0\\noldpeak: 0\\nslope: 2\\nca: 2\\nthal: 2\\ntarget: 0'),\n",
       " Document(metadata={'source': 'heart.csv', 'row': 279}, page_content='age: 61\\nsex: 1\\ncp: 0\\ntrestbps: 138\\nchol: 166\\nfbs: 0\\nrestecg: 0\\nthalach: 125\\nexang: 1\\noldpeak: 3.6\\nslope: 1\\nca: 1\\nthal: 2\\ntarget: 0'),\n",
       " Document(metadata={'source': 'heart.csv', 'row': 280}, page_content='age: 42\\nsex: 1\\ncp: 0\\ntrestbps: 136\\nchol: 315\\nfbs: 0\\nrestecg: 1\\nthalach: 125\\nexang: 1\\noldpeak: 1.8\\nslope: 1\\nca: 0\\nthal: 1\\ntarget: 0'),\n",
       " Document(metadata={'source': 'heart.csv', 'row': 281}, page_content='age: 52\\nsex: 1\\ncp: 0\\ntrestbps: 128\\nchol: 204\\nfbs: 1\\nrestecg: 1\\nthalach: 156\\nexang: 1\\noldpeak: 1\\nslope: 1\\nca: 0\\nthal: 0\\ntarget: 0'),\n",
       " Document(metadata={'source': 'heart.csv', 'row': 282}, page_content='age: 59\\nsex: 1\\ncp: 2\\ntrestbps: 126\\nchol: 218\\nfbs: 1\\nrestecg: 1\\nthalach: 134\\nexang: 0\\noldpeak: 2.2\\nslope: 1\\nca: 1\\nthal: 1\\ntarget: 0'),\n",
       " Document(metadata={'source': 'heart.csv', 'row': 283}, page_content='age: 40\\nsex: 1\\ncp: 0\\ntrestbps: 152\\nchol: 223\\nfbs: 0\\nrestecg: 1\\nthalach: 181\\nexang: 0\\noldpeak: 0\\nslope: 2\\nca: 0\\nthal: 3\\ntarget: 0'),\n",
       " Document(metadata={'source': 'heart.csv', 'row': 284}, page_content='age: 61\\nsex: 1\\ncp: 0\\ntrestbps: 140\\nchol: 207\\nfbs: 0\\nrestecg: 0\\nthalach: 138\\nexang: 1\\noldpeak: 1.9\\nslope: 2\\nca: 1\\nthal: 3\\ntarget: 0'),\n",
       " Document(metadata={'source': 'heart.csv', 'row': 285}, page_content='age: 46\\nsex: 1\\ncp: 0\\ntrestbps: 140\\nchol: 311\\nfbs: 0\\nrestecg: 1\\nthalach: 120\\nexang: 1\\noldpeak: 1.8\\nslope: 1\\nca: 2\\nthal: 3\\ntarget: 0'),\n",
       " Document(metadata={'source': 'heart.csv', 'row': 286}, page_content='age: 59\\nsex: 1\\ncp: 3\\ntrestbps: 134\\nchol: 204\\nfbs: 0\\nrestecg: 1\\nthalach: 162\\nexang: 0\\noldpeak: 0.8\\nslope: 2\\nca: 2\\nthal: 2\\ntarget: 0'),\n",
       " Document(metadata={'source': 'heart.csv', 'row': 287}, page_content='age: 57\\nsex: 1\\ncp: 1\\ntrestbps: 154\\nchol: 232\\nfbs: 0\\nrestecg: 0\\nthalach: 164\\nexang: 0\\noldpeak: 0\\nslope: 2\\nca: 1\\nthal: 2\\ntarget: 0'),\n",
       " Document(metadata={'source': 'heart.csv', 'row': 288}, page_content='age: 57\\nsex: 1\\ncp: 0\\ntrestbps: 110\\nchol: 335\\nfbs: 0\\nrestecg: 1\\nthalach: 143\\nexang: 1\\noldpeak: 3\\nslope: 1\\nca: 1\\nthal: 3\\ntarget: 0'),\n",
       " Document(metadata={'source': 'heart.csv', 'row': 289}, page_content='age: 55\\nsex: 0\\ncp: 0\\ntrestbps: 128\\nchol: 205\\nfbs: 0\\nrestecg: 2\\nthalach: 130\\nexang: 1\\noldpeak: 2\\nslope: 1\\nca: 1\\nthal: 3\\ntarget: 0'),\n",
       " Document(metadata={'source': 'heart.csv', 'row': 290}, page_content='age: 61\\nsex: 1\\ncp: 0\\ntrestbps: 148\\nchol: 203\\nfbs: 0\\nrestecg: 1\\nthalach: 161\\nexang: 0\\noldpeak: 0\\nslope: 2\\nca: 1\\nthal: 3\\ntarget: 0'),\n",
       " Document(metadata={'source': 'heart.csv', 'row': 291}, page_content='age: 58\\nsex: 1\\ncp: 0\\ntrestbps: 114\\nchol: 318\\nfbs: 0\\nrestecg: 2\\nthalach: 140\\nexang: 0\\noldpeak: 4.4\\nslope: 0\\nca: 3\\nthal: 1\\ntarget: 0'),\n",
       " Document(metadata={'source': 'heart.csv', 'row': 292}, page_content='age: 58\\nsex: 0\\ncp: 0\\ntrestbps: 170\\nchol: 225\\nfbs: 1\\nrestecg: 0\\nthalach: 146\\nexang: 1\\noldpeak: 2.8\\nslope: 1\\nca: 2\\nthal: 1\\ntarget: 0'),\n",
       " Document(metadata={'source': 'heart.csv', 'row': 293}, page_content='age: 67\\nsex: 1\\ncp: 2\\ntrestbps: 152\\nchol: 212\\nfbs: 0\\nrestecg: 0\\nthalach: 150\\nexang: 0\\noldpeak: 0.8\\nslope: 1\\nca: 0\\nthal: 3\\ntarget: 0'),\n",
       " Document(metadata={'source': 'heart.csv', 'row': 294}, page_content='age: 44\\nsex: 1\\ncp: 0\\ntrestbps: 120\\nchol: 169\\nfbs: 0\\nrestecg: 1\\nthalach: 144\\nexang: 1\\noldpeak: 2.8\\nslope: 0\\nca: 0\\nthal: 1\\ntarget: 0'),\n",
       " Document(metadata={'source': 'heart.csv', 'row': 295}, page_content='age: 63\\nsex: 1\\ncp: 0\\ntrestbps: 140\\nchol: 187\\nfbs: 0\\nrestecg: 0\\nthalach: 144\\nexang: 1\\noldpeak: 4\\nslope: 2\\nca: 2\\nthal: 3\\ntarget: 0'),\n",
       " Document(metadata={'source': 'heart.csv', 'row': 296}, page_content='age: 63\\nsex: 0\\ncp: 0\\ntrestbps: 124\\nchol: 197\\nfbs: 0\\nrestecg: 1\\nthalach: 136\\nexang: 1\\noldpeak: 0\\nslope: 1\\nca: 0\\nthal: 2\\ntarget: 0'),\n",
       " Document(metadata={'source': 'heart.csv', 'row': 297}, page_content='age: 59\\nsex: 1\\ncp: 0\\ntrestbps: 164\\nchol: 176\\nfbs: 1\\nrestecg: 0\\nthalach: 90\\nexang: 0\\noldpeak: 1\\nslope: 1\\nca: 2\\nthal: 1\\ntarget: 0'),\n",
       " Document(metadata={'source': 'heart.csv', 'row': 298}, page_content='age: 57\\nsex: 0\\ncp: 0\\ntrestbps: 140\\nchol: 241\\nfbs: 0\\nrestecg: 1\\nthalach: 123\\nexang: 1\\noldpeak: 0.2\\nslope: 1\\nca: 0\\nthal: 3\\ntarget: 0'),\n",
       " Document(metadata={'source': 'heart.csv', 'row': 299}, page_content='age: 45\\nsex: 1\\ncp: 3\\ntrestbps: 110\\nchol: 264\\nfbs: 0\\nrestecg: 1\\nthalach: 132\\nexang: 0\\noldpeak: 1.2\\nslope: 1\\nca: 0\\nthal: 3\\ntarget: 0'),\n",
       " Document(metadata={'source': 'heart.csv', 'row': 300}, page_content='age: 68\\nsex: 1\\ncp: 0\\ntrestbps: 144\\nchol: 193\\nfbs: 1\\nrestecg: 1\\nthalach: 141\\nexang: 0\\noldpeak: 3.4\\nslope: 1\\nca: 2\\nthal: 3\\ntarget: 0'),\n",
       " Document(metadata={'source': 'heart.csv', 'row': 301}, page_content='age: 57\\nsex: 1\\ncp: 0\\ntrestbps: 130\\nchol: 131\\nfbs: 0\\nrestecg: 1\\nthalach: 115\\nexang: 1\\noldpeak: 1.2\\nslope: 1\\nca: 1\\nthal: 3\\ntarget: 0'),\n",
       " Document(metadata={'source': 'heart.csv', 'row': 302}, page_content='age: 57\\nsex: 0\\ncp: 1\\ntrestbps: 130\\nchol: 236\\nfbs: 0\\nrestecg: 0\\nthalach: 174\\nexang: 0\\noldpeak: 0\\nslope: 1\\nca: 1\\nthal: 2\\ntarget: 0')]"
      ]
     },
     "execution_count": 20,
     "metadata": {},
     "output_type": "execute_result"
    }
   ],
   "source": [
    "loaded_data"
   ]
  },
  {
   "cell_type": "code",
   "execution_count": null,
   "metadata": {},
   "outputs": [],
   "source": []
  },
  {
   "cell_type": "markdown",
   "metadata": {},
   "source": [
    "# HTML "
   ]
  },
  {
   "cell_type": "markdown",
   "metadata": {},
   "source": [
    "pip install unstructured==0.15.0"
   ]
  },
  {
   "cell_type": "code",
   "execution_count": 21,
   "metadata": {},
   "outputs": [],
   "source": [
    "from langchain_community.document_loaders import UnstructuredHTMLLoader"
   ]
  },
  {
   "cell_type": "code",
   "execution_count": 22,
   "metadata": {},
   "outputs": [],
   "source": [
    "loader = UnstructuredHTMLLoader('index.html')\n",
    "\n",
    "loaded_data = loader.load()"
   ]
  },
  {
   "cell_type": "code",
   "execution_count": 23,
   "metadata": {},
   "outputs": [
    {
     "data": {
      "text/plain": [
       "'Mozilla is cool\\n\\nAt Mozilla, we’re a global community of\\n\\ntechnologists\\n\\nthinkers\\n\\nbuilders\\n\\nworking together to keep the Internet alive and accessible, so people worldwide can be informed contributors and creators of the Web. We believe this act of human collaboration across an open platform is essential to individual growth and our collective future.\\n\\nRead the Mozilla Manifesto to learn even more about the values and principles that guide the pursuit of our mission.'"
      ]
     },
     "execution_count": 23,
     "metadata": {},
     "output_type": "execute_result"
    }
   ],
   "source": [
    "loaded_data[0].page_content"
   ]
  },
  {
   "cell_type": "code",
   "execution_count": 24,
   "metadata": {},
   "outputs": [
    {
     "name": "stdout",
     "output_type": "stream",
     "text": [
      "Mozilla is cool\n",
      "\n",
      "At Mozilla, we’re a global community of\n",
      "\n",
      "technologists\n",
      "\n",
      "thinkers\n",
      "\n",
      "builders\n",
      "\n",
      "working together to keep the Internet alive and accessible, so people worldwide can be informed contributors and creators of the Web. We believe this act of human collaboration across an open platform is essential to individual growth and our collective future.\n",
      "\n",
      "Read the Mozilla Manifesto to learn even more about the values and principles that guide the pursuit of our mission.\n"
     ]
    }
   ],
   "source": [
    "print(loaded_data[0].page_content)"
   ]
  },
  {
   "cell_type": "code",
   "execution_count": null,
   "metadata": {},
   "outputs": [],
   "source": []
  },
  {
   "cell_type": "markdown",
   "metadata": {},
   "source": [
    "# PDF"
   ]
  },
  {
   "cell_type": "markdown",
   "metadata": {},
   "source": []
  },
  {
   "cell_type": "code",
   "execution_count": 25,
   "metadata": {},
   "outputs": [],
   "source": [
    "from langchain_community.document_loaders import PyPDFLoader\n",
    "loader = PyPDFLoader('Muskan.pdf')\n",
    "loaded_data = loader.load_and_split()"
   ]
  },
  {
   "cell_type": "code",
   "execution_count": 26,
   "metadata": {},
   "outputs": [
    {
     "data": {
      "text/plain": [
       "[Document(metadata={'source': 'Muskan.pdf', 'page': 0}, page_content='Muskan Ara\\nmuskan17ara@gmail.com |linkedin.com/in/muskan-ara-53bb192a8 |https://github.com/Muskan896F\\nAbout Me\\n\"I’m an aspiring Data Scientist with experience in Python, machine learning, and data analysis. I recently\\ncompleted a one-month online internship at Cognifyz, where I worked on data cleaning, analysis, and\\nvisualization. I’m eager to apply my skills in a role that allows me to contribute to data-driven decision-making\\nand continuous learning. I’m passionate about using data to solve problems and provide insights.\"\\nExperience\\nData Science Intern Sep–Oct 2024\\nCognifyz, Remote\\n–Conducted data cleaning and preprocessing to ensure the quality and reliability of datasets for analysis.\\n–Utilized Python for data analysis and visualization, leveraging libraries such as pandas ,NumPy , and\\nMatplotlib .\\n–Designed and developed machine learning models for predictive analysis, evaluating their performance to\\ngenerate actionable insights.\\n–Gained expertise in handling, analyzing, and building machine learning models for real-world applications,\\nimproving decision-making processes.\\nData Science Intern Dec 2024–Jan 2025\\nOasis Info Byte, Remote\\n–Leveraged advanced NLP techniques, such as lemmatization, stemming, and word2vec , to identify duplicate\\nquestions and improve user experience on the Quora platform.\\n–Implemented the Random Forest algorithm for classification tasks and integrated Streamlit to create an\\nintuitive user interface for real-time interaction.\\n–Developed a machine learning-based system to identify defective semiconductor wafers, optimizing\\nproduction efficiency and maintaining high-quality standards in integrated circuits.\\n–Applied advanced machine learning techniques to enhance defect detection accuracy in semiconductor\\nmanufacturing, improving operational efficiency.\\nSkills\\n•Programming Languages: Python, SQL, MongoDB\\n•Data Analysis: NumPy, pandas, Matplotlib, seaborn\\n•Machine Learning: Supervised Learning, Unsupervised Learning, Recommendation Systems, NLP techniques\\n(lemmatization, TF-IDF, word2vec)\\n•Deep Learning: ANN, CNN, RNN, LSTM, GRU, Transformers\\n•Libraries: scikit-learn, TensorFlow, Keras, NLTK, Gensim, spacy\\n•Web API Development: Flask, Streamlit, FastApi\\n•Tools & Technologies: VS Code, Jupyter Notebook, Git, GitHub, Docker, MongoDB ,MySQL Workbench\\n•Other Skills: Model deployment, working with APIs, End-to-End project handling'),\n",
       " Document(metadata={'source': 'Muskan.pdf', 'page': 1}, page_content='Projects\\n•Reducing Operational Costs with Cost-Sensitive XGBoost-Based Failure Prediction GitHub Link\\n- This project focuses on handling imbalanced sensor data for classification tasks, with techniques such as data\\npreprocessing, model evaluation, and cost analysis.\\n- The dataset contains sensor data with missing values, class imbalance, and various features requiring\\nimputation and scaling.\\n- Several machine learning models, including Random Forest, XGBoost, and CatBoost, are evaluated using\\nmetrics such as accuracy, F1-score, precision, recall, and ROC-AUC score.\\n- Advanced techniques such as KNN imputation, SMOTE-TOMEK for resampling, and robust scaling are used to\\nimprove model performance and handle data irregularities.\\n- The project analyzes multiple experiments, comparing models’ performance and costs, with the goal of\\nidentifying the most effective solution for imbalanced datasets.\\n•AI-Driven Pneumonia Diagnosis: Harnessing Custom CNNs for Chest X-Ray Analysis GitHub Link\\n- Developed a custom convolutional neural network (CNN) to detect pneumonia from chest X-ray images.\\n- Achieved high diagnostic accuracy through rigorous training and validation processes.\\n- Deployed the model in a user-friendly web application for healthcare professionals.\\n•Building E-Commerce Products Recommendations using Machine Learning and Flask GitHub Link\\n- Implemented a recommendation system using collaborative filtering techniques for an e-commerce platform.\\n- Built a Flask-based web interface to deliver personalized product suggestions to users.\\n- Optimized the recommendation pipeline to handle large-scale data efficiently.\\n•Develop an Advanced Resume Screening App Using NLP and Python GitHub Link\\n- Created an advanced resume screening app leveraging NLP techniques to match resumes with job descriptions.\\n- Utilized libraries like spaCy and Gensim to extract and compare relevant skills.\\n- Integrated ChromaDB for efficient skill matching and a seamless user experience.\\n•End-to-End Machine Learning Pipeline for Zomato Delivery Time Predictions GitHub Link\\n- Designed an end-to-end machine learning pipeline to predict Zomato delivery times based on various factors.\\n- Conducted exploratory data analysis and feature selection to identify key influencers of delivery times.\\n- Deployed the pipeline on a cloud platform for real-time predictions and insights.\\nCertifications\\n•Google Data Analytics — Coursera\\nOctober 2024\\nFocused on data analysis techniques, data visualization, and cleaning.\\n•Machine Learning and Deep Learning — Udemy\\nJuly 2024\\nCovered algorithms, neural networks, and deep learning frameworks.\\n•Complete GenAI Course with LangChain and HuggingFace — Udemy\\nSeptember 2024\\nSpecialization in Generative AI, LangChain integration, and HuggingFace models.\\nEducation\\nMaster of Science in Data Science 2023 - 2025\\nChandigarh University, Chandigarh, India\\nKey Courses: Machine Learning, Data Visualization, Big Data Analytics, Statistical Modeling\\nHighlights: Academic projects focused on predictive analytics and real-world data solutions.Last updated in September 2024')]"
      ]
     },
     "execution_count": 26,
     "metadata": {},
     "output_type": "execute_result"
    }
   ],
   "source": [
    "loaded_data"
   ]
  },
  {
   "cell_type": "code",
   "execution_count": 27,
   "metadata": {},
   "outputs": [
    {
     "data": {
      "text/plain": [
       "'Muskan Ara\\nmuskan17ara@gmail.com |linkedin.com/in/muskan-ara-53bb192a8 |https://github.com/Muskan896F\\nAbout Me\\n\"I’m an aspiring Data Scientist with experience in Python, machine learning, and data analysis. I recently\\ncompleted a one-month online internship at Cognifyz, where I worked on data cleaning, analysis, and\\nvisualization. I’m eager to apply my skills in a role that allows me to contribute to data-driven decision-making\\nand continuous learning. I’m passionate about using data to solve problems and provide insights.\"\\nExperience\\nData Science Intern Sep–Oct 2024\\nCognifyz, Remote\\n–Conducted data cleaning and preprocessing to ensure the quality and reliability of datasets for analysis.\\n–Utilized Python for data analysis and visualization, leveraging libraries such as pandas ,NumPy , and\\nMatplotlib .\\n–Designed and developed machine learning models for predictive analysis, evaluating their performance to\\ngenerate actionable insights.\\n–Gained expertise in handling, analyzing, and building machine learning models for real-world applications,\\nimproving decision-making processes.\\nData Science Intern Dec 2024–Jan 2025\\nOasis Info Byte, Remote\\n–Leveraged advanced NLP techniques, such as lemmatization, stemming, and word2vec , to identify duplicate\\nquestions and improve user experience on the Quora platform.\\n–Implemented the Random Forest algorithm for classification tasks and integrated Streamlit to create an\\nintuitive user interface for real-time interaction.\\n–Developed a machine learning-based system to identify defective semiconductor wafers, optimizing\\nproduction efficiency and maintaining high-quality standards in integrated circuits.\\n–Applied advanced machine learning techniques to enhance defect detection accuracy in semiconductor\\nmanufacturing, improving operational efficiency.\\nSkills\\n•Programming Languages: Python, SQL, MongoDB\\n•Data Analysis: NumPy, pandas, Matplotlib, seaborn\\n•Machine Learning: Supervised Learning, Unsupervised Learning, Recommendation Systems, NLP techniques\\n(lemmatization, TF-IDF, word2vec)\\n•Deep Learning: ANN, CNN, RNN, LSTM, GRU, Transformers\\n•Libraries: scikit-learn, TensorFlow, Keras, NLTK, Gensim, spacy\\n•Web API Development: Flask, Streamlit, FastApi\\n•Tools & Technologies: VS Code, Jupyter Notebook, Git, GitHub, Docker, MongoDB ,MySQL Workbench\\n•Other Skills: Model deployment, working with APIs, End-to-End project handling'"
      ]
     },
     "execution_count": 27,
     "metadata": {},
     "output_type": "execute_result"
    }
   ],
   "source": [
    "loaded_data[0].page_content"
   ]
  },
  {
   "cell_type": "code",
   "execution_count": 28,
   "metadata": {},
   "outputs": [
    {
     "name": "stdout",
     "output_type": "stream",
     "text": [
      "Requirement already satisfied: wikipedia in c:\\users\\hp\\master-gen-ai-complete-course-from-euron\\master\\lib\\site-packages (1.4.0)Note: you may need to restart the kernel to use updated packages.\n",
      "\n",
      "Requirement already satisfied: beautifulsoup4 in c:\\users\\hp\\master-gen-ai-complete-course-from-euron\\master\\lib\\site-packages (from wikipedia) (4.12.3)\n",
      "Requirement already satisfied: requests<3.0.0,>=2.0.0 in c:\\users\\hp\\master-gen-ai-complete-course-from-euron\\master\\lib\\site-packages (from wikipedia) (2.32.3)\n",
      "Requirement already satisfied: charset-normalizer<4,>=2 in c:\\users\\hp\\master-gen-ai-complete-course-from-euron\\master\\lib\\site-packages (from requests<3.0.0,>=2.0.0->wikipedia) (3.4.1)\n",
      "Requirement already satisfied: idna<4,>=2.5 in c:\\users\\hp\\master-gen-ai-complete-course-from-euron\\master\\lib\\site-packages (from requests<3.0.0,>=2.0.0->wikipedia) (3.10)\n",
      "Requirement already satisfied: urllib3<3,>=1.21.1 in c:\\users\\hp\\master-gen-ai-complete-course-from-euron\\master\\lib\\site-packages (from requests<3.0.0,>=2.0.0->wikipedia) (2.3.0)\n",
      "Requirement already satisfied: certifi>=2017.4.17 in c:\\users\\hp\\master-gen-ai-complete-course-from-euron\\master\\lib\\site-packages (from requests<3.0.0,>=2.0.0->wikipedia) (2024.12.14)\n",
      "Requirement already satisfied: soupsieve>1.2 in c:\\users\\hp\\master-gen-ai-complete-course-from-euron\\master\\lib\\site-packages (from beautifulsoup4->wikipedia) (2.6)\n"
     ]
    }
   ],
   "source": [
    "pip install wikipedia"
   ]
  },
  {
   "cell_type": "code",
   "execution_count": null,
   "metadata": {},
   "outputs": [],
   "source": []
  },
  {
   "cell_type": "markdown",
   "metadata": {},
   "source": []
  },
  {
   "cell_type": "markdown",
   "metadata": {},
   "source": [
    "#  WIKIPEDIA "
   ]
  },
  {
   "cell_type": "markdown",
   "metadata": {},
   "source": []
  },
  {
   "cell_type": "code",
   "execution_count": 29,
   "metadata": {},
   "outputs": [],
   "source": [
    "from langchain_community.document_loaders import WikipediaLoader"
   ]
  },
  {
   "cell_type": "code",
   "execution_count": 30,
   "metadata": {},
   "outputs": [],
   "source": [
    "loader = WikipediaLoader(query=\"Tesla\", load_max_docs=1)\n",
    "\n",
    "loaded_data = loader.load()[0].page_content"
   ]
  },
  {
   "cell_type": "code",
   "execution_count": 31,
   "metadata": {},
   "outputs": [
    {
     "data": {
      "text/plain": [
       "'Tesla, Inc. ( TESS-lə or  TEZ-lə) is an American multinational automotive and clean energy company. Headquartered in Austin, Texas, it designs, manufactures and sells battery electric vehicles (BEVs), stationary battery energy storage devices from home to grid-scale, solar panels and solar shingles, and related products and services.\\nTesla was incorporated in July 2003 by Martin Eberhard and Marc Tarpenning as Tesla Motors. Its name is a tribute to inventor and electrical engineer Nikola Tesla. In February 2004, Elon Musk led Tesla\\'s first funding round and became the company\\'s chairman; in 2008, he was named chief executive officer. In 2008, the company began production of its first car model, the Roadster sports car, followed by the Model S sedan in 2012, the Model X SUV in 2015, the Model 3 sedan in 2017, the Model Y crossover in 2020, the Tesla Semi truck in 2022 and the Cybertruck pickup truck in 2023. In June 2021, the Model 3 became the first electric car to sell 1 million units globally. In 2023, the Model Y was the best-selling vehicle, of any kind, globally. In January 2024, the Model Y became the best-selling BEV in history.\\nTesla is one of the world\\'s most valuable companies in terms of market capitalization. Starting in July 2020, it has been the world\\'s most valuable automaker. From October 2021 to March 2022, Tesla was a trillion-dollar company, the seventh U.S. company to do so, and has been so again since November 2024. In 2023, the company led the battery electric vehicle market, with 19.9% share. Also in 2023, the company was ranked 69th in the Forbes Global 2000.\\nTesla has been the subject of lawsuits, government scrutiny, and journalistic criticism, stemming from allegations of multiple cases of whistleblower retaliation, worker rights violations such as sexual harassment and anti-union activities, safety defects leading to dozens of recalls, the lack of a public relations department, and controversial statements from Musk including overpromising on the company\\'s driving assist technology and product release timelines.\\n\\n\\n== History ==\\n\\n\\n=== Founding (2003–2004) ===\\nThe company was incorporated as Tesla Motors, Inc. on July 1, 2003, by Martin Eberhard and Marc Tarpenning. They served as chief executive officer and chief financial officer, respectively. Eberhard said that he wanted to build \"a car manufacturer that is also a technology company\", with its core technologies as \"the battery, the computer software, and the proprietary motor\".\\nIan Wright was Tesla\\'s third employee, joined a few months later. In February 2004, the company raised US$7.5 million (equivalent to $12 million in 2023) in series A funding, including $6.5 million (equivalent to $10 million in 2023) from Elon Musk, who had received $100 million from the sale of his interest in PayPal two years earlier. Musk became the chairman of the board of directors and the largest shareholder of Tesla. J. B. Straubel joined Tesla in May 2004 as chief technical officer.\\nA lawsuit settlement agreed to by Eberhard and Tesla in September 2009 allows all five – Eberhard, Tarpenning, Wright, Musk, and Straubel – to call themselves co-founders.\\n\\n\\n=== Roadster (2005–2009) ===\\n\\nElon Musk took an active role within the company, but was not deeply involved in day-to-day business operations. The company\\'s strategy was to start with a premium sports car aimed at early adopters and then move into more mainstream vehicles, including sedans and affordable compacts.\\nIn February 2006, Musk led Tesla\\'s Series B venture capital funding round of $13 million, which added Valor Equity Partners to the funding team. Musk co-led the third, $40 million round in May 2006 which saw investment from prominent entrepreneurs including Google co-founders Sergey Brin and Larry Page, and former eBay President Jeff Skoll. A fourth round worth $45 million in May 2007 brought the total private financing investment to over $105 million.\\nIn August 2007, Eberhard was asked by the board, led by'"
      ]
     },
     "execution_count": 31,
     "metadata": {},
     "output_type": "execute_result"
    }
   ],
   "source": [
    "loaded_data"
   ]
  },
  {
   "cell_type": "code",
   "execution_count": 32,
   "metadata": {},
   "outputs": [
    {
     "name": "stdout",
     "output_type": "stream",
     "text": [
      "The End\n"
     ]
    }
   ],
   "source": [
    "print(\"The End\")"
   ]
  }
 ],
 "metadata": {
  "kernelspec": {
   "display_name": "Python 3",
   "language": "python",
   "name": "python3"
  },
  "language_info": {
   "codemirror_mode": {
    "name": "ipython",
    "version": 3
   },
   "file_extension": ".py",
   "mimetype": "text/x-python",
   "name": "python",
   "nbconvert_exporter": "python",
   "pygments_lexer": "ipython3",
   "version": "3.11.11"
  }
 },
 "nbformat": 4,
 "nbformat_minor": 2
}
