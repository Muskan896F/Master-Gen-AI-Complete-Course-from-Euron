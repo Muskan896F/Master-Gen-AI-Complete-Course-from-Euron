{
 "cells": [
  {
   "cell_type": "code",
   "execution_count": 1,
   "metadata": {},
   "outputs": [],
   "source": [
    "import os\n",
    "from dotenv import load_dotenv, find_dotenv\n",
    "_ = load_dotenv(find_dotenv())\n",
    "openai_api_key = os.environ[\"OPENAI_API_KEY\"]"
   ]
  },
  {
   "cell_type": "code",
   "execution_count": 2,
   "metadata": {},
   "outputs": [],
   "source": [
    "from langchain_openai import OpenAI \n",
    "\n",
    "llmModel = OpenAI()"
   ]
  },
  {
   "cell_type": "code",
   "execution_count": 3,
   "metadata": {},
   "outputs": [
    {
     "data": {
      "text/plain": [
       "OpenAI(client=<openai.resources.completions.Completions object at 0x0000027861D9D890>, async_client=<openai.resources.completions.AsyncCompletions object at 0x00000278626245D0>, openai_api_key=SecretStr('**********'), openai_proxy='')"
      ]
     },
     "execution_count": 3,
     "metadata": {},
     "output_type": "execute_result"
    }
   ],
   "source": [
    "llmModel"
   ]
  },
  {
   "cell_type": "code",
   "execution_count": 6,
   "metadata": {},
   "outputs": [],
   "source": [
    "respone = llmModel.invoke(\"Tell me one fun fact about the abdul kalam family.\")"
   ]
  },
  {
   "cell_type": "code",
   "execution_count": 7,
   "metadata": {},
   "outputs": [
    {
     "name": "stdout",
     "output_type": "stream",
     "text": [
      "\n",
      "\n",
      "One fun fact about the Abdul Kalam family is that they were a large family with 17 siblings, and they all lived together in a small house in Rameswaram, India. Despite their modest living conditions, the family placed a strong emphasis on education and all of the children went on to become successful in their respective fields.\n"
     ]
    }
   ],
   "source": [
    "print(respone)"
   ]
  },
  {
   "cell_type": "code",
   "execution_count": 8,
   "metadata": {},
   "outputs": [
    {
     "name": "stdout",
     "output_type": "stream",
     "text": [
      "\n",
      "\n",
      "AI (Artificial Intelligence) is the simulation of human intelligence processes by machines, especially computer systems. It involves the creation of intelligent machines that can think, learn, and perform tasks that typically require human intelligence. AI is a broad field that encompasses various subfields, including machine learning, natural language processing, robotics, and cognitive computing.\n",
      "\n",
      "One of the main goals of AI is to create machines that can mimic human cognitive abilities, such as reasoning, problem-solving, and decision-making. These machines are designed to analyze large amounts of data, recognize patterns, and make decisions based on that data, just like humans do. This has numerous practical applications, such as predicting consumer behavior, optimizing business processes, and even diagnosing diseases in healthcare.\n",
      "\n",
      "AI is made possible through the use of algorithms, which are sets of rules and instructions that tell a computer how to solve a problem or complete a task. These algorithms are fed with large amounts of data, which they use to learn and improve their performance over time. This is known as machine learning and is a crucial aspect of AI.\n",
      "\n",
      "Another important aspect of AI is natural language processing (NLP), which enables machines to understand, interpret, and respond to human language. This has led to the development of virtual assistants, chatbots, and"
     ]
    }
   ],
   "source": [
    "for chunk in llmModel.stream(\n",
    "    \"Tell me something about AI. I need detail respone\"\n",
    "):\n",
    "    print(chunk, end=\"\", flush=True)"
   ]
  },
  {
   "cell_type": "code",
   "execution_count": 9,
   "metadata": {},
   "outputs": [],
   "source": [
    "mymodel = OpenAI(temperature=0.9)"
   ]
  },
  {
   "cell_type": "code",
   "execution_count": 10,
   "metadata": {},
   "outputs": [],
   "source": [
    "respone = mymodel.invoke(\"What is data Science\")"
   ]
  },
  {
   "cell_type": "code",
   "execution_count": 11,
   "metadata": {},
   "outputs": [
    {
     "name": "stdout",
     "output_type": "stream",
     "text": [
      "\n",
      "Data science is a field that combines scientific methods, processes, algorithms, and systems to extract knowledge and insights from data in various forms, both structured and unstructured. It involves the use of statistics, mathematics, computer science, and domain knowledge to analyze and interpret large volumes of data in order to make informed decisions and predictions. Data science encompasses a wide range of techniques, including data mining, machine learning, data visualization, and predictive analytics, and is used in various industries such as business, healthcare, finance, and transportation. It plays a crucial role in helping organizations gain a competitive advantage, improve efficiency and productivity, and drive innovation.\n"
     ]
    }
   ],
   "source": [
    "print(respone)"
   ]
  },
  {
   "cell_type": "markdown",
   "metadata": {},
   "source": [
    "### **Chatmodel**"
   ]
  },
  {
   "cell_type": "markdown",
   "metadata": {},
   "source": []
  },
  {
   "cell_type": "code",
   "execution_count": 12,
   "metadata": {},
   "outputs": [],
   "source": [
    "from langchain_openai import ChatOpenAI\n",
    "\n",
    "chatModel = ChatOpenAI(model=\"gpt-3.5-turbo-0125\")"
   ]
  },
  {
   "cell_type": "code",
   "execution_count": 14,
   "metadata": {},
   "outputs": [
    {
     "data": {
      "text/plain": [
       "AIMessage(content='One curious thing about Abdul Kalam is that he was known to be a very humble and down-to-earth person despite his immense knowledge and accomplishments. He was often referred to as the \"People\\'s President\" during his time as the President of India, as he was always approachable and connected with people from all walks of life. Despite holding such a high office, he was known to be simple in his lifestyle and always prioritized serving the nation and its people.', response_metadata={'token_usage': {'completion_tokens': 94, 'prompt_tokens': 33, 'total_tokens': 127, 'completion_tokens_details': {'accepted_prediction_tokens': 0, 'audio_tokens': 0, 'reasoning_tokens': 0, 'rejected_prediction_tokens': 0}, 'prompt_tokens_details': {'audio_tokens': 0, 'cached_tokens': 0}}, 'model_name': 'gpt-3.5-turbo-0125', 'system_fingerprint': None, 'finish_reason': 'stop', 'logprobs': None}, id='run-2939946e-9e95-4900-84d0-0393fcb9ee85-0', usage_metadata={'input_tokens': 33, 'output_tokens': 94, 'total_tokens': 127})"
      ]
     },
     "execution_count": 14,
     "metadata": {},
     "output_type": "execute_result"
    }
   ],
   "source": [
    "messages = [\n",
    "    (\"system\", \"You are an historian expert in the abdul kalam family\"),\n",
    "    (\"human\", \"Tell me one curious thing about abd.\")\n",
    "]\n",
    "\n",
    "chatModel.invoke(messages)"
   ]
  },
  {
   "cell_type": "code",
   "execution_count": 15,
   "metadata": {},
   "outputs": [],
   "source": [
    "respone=chatModel.invoke(messages)"
   ]
  },
  {
   "cell_type": "code",
   "execution_count": 16,
   "metadata": {},
   "outputs": [
    {
     "name": "stdout",
     "output_type": "stream",
     "text": [
      "content='One curious fact about Abdul Kalam is that he was known as the \"Missile Man of India\" due to his work on the development of ballistic missile and launch vehicle technology in India. His contributions to the country\\'s defense and space programs were significant, and he played a crucial role in establishing India as a nuclear power.' response_metadata={'token_usage': {'completion_tokens': 66, 'prompt_tokens': 33, 'total_tokens': 99, 'completion_tokens_details': {'accepted_prediction_tokens': 0, 'audio_tokens': 0, 'reasoning_tokens': 0, 'rejected_prediction_tokens': 0}, 'prompt_tokens_details': {'audio_tokens': 0, 'cached_tokens': 0}}, 'model_name': 'gpt-3.5-turbo-0125', 'system_fingerprint': None, 'finish_reason': 'stop', 'logprobs': None} id='run-35452110-e68e-4b70-9c07-d722c92c3349-0' usage_metadata={'input_tokens': 33, 'output_tokens': 66, 'total_tokens': 99}\n"
     ]
    }
   ],
   "source": [
    "print(respone)"
   ]
  },
  {
   "cell_type": "code",
   "execution_count": 17,
   "metadata": {},
   "outputs": [
    {
     "data": {
      "text/plain": [
       "'One curious fact about Abdul Kalam is that he was known as the \"Missile Man of India\" due to his work on the development of ballistic missile and launch vehicle technology in India. His contributions to the country\\'s defense and space programs were significant, and he played a crucial role in establishing India as a nuclear power.'"
      ]
     },
     "execution_count": 17,
     "metadata": {},
     "output_type": "execute_result"
    }
   ],
   "source": [
    "respone.content"
   ]
  },
  {
   "cell_type": "code",
   "execution_count": 18,
   "metadata": {},
   "outputs": [
    {
     "data": {
      "text/plain": [
       "{'token_usage': {'completion_tokens': 66,\n",
       "  'prompt_tokens': 33,\n",
       "  'total_tokens': 99,\n",
       "  'completion_tokens_details': {'accepted_prediction_tokens': 0,\n",
       "   'audio_tokens': 0,\n",
       "   'reasoning_tokens': 0,\n",
       "   'rejected_prediction_tokens': 0},\n",
       "  'prompt_tokens_details': {'audio_tokens': 0, 'cached_tokens': 0}},\n",
       " 'model_name': 'gpt-3.5-turbo-0125',\n",
       " 'system_fingerprint': None,\n",
       " 'finish_reason': 'stop',\n",
       " 'logprobs': None}"
      ]
     },
     "execution_count": 18,
     "metadata": {},
     "output_type": "execute_result"
    }
   ],
   "source": [
    "respone.response_metadata"
   ]
  },
  {
   "cell_type": "code",
   "execution_count": 19,
   "metadata": {},
   "outputs": [
    {
     "data": {
      "text/plain": [
       "{'title': 'AIMessage',\n",
       " 'description': 'Message from an AI.\\n\\nAIMessage is returned from a chat model as a response to a prompt.\\n\\nThis message represents the output of the model and consists of both\\nthe raw output as returned by the model together standardized fields\\n(e.g., tool calls, usage metadata) added by the LangChain framework.',\n",
       " 'type': 'object',\n",
       " 'properties': {'content': {'title': 'Content',\n",
       "   'anyOf': [{'type': 'string'},\n",
       "    {'type': 'array',\n",
       "     'items': {'anyOf': [{'type': 'string'}, {'type': 'object'}]}}]},\n",
       "  'additional_kwargs': {'title': 'Additional Kwargs', 'type': 'object'},\n",
       "  'response_metadata': {'title': 'Response Metadata', 'type': 'object'},\n",
       "  'type': {'title': 'Type', 'default': 'ai', 'enum': ['ai'], 'type': 'string'},\n",
       "  'name': {'title': 'Name', 'type': 'string'},\n",
       "  'id': {'title': 'Id', 'type': 'string'},\n",
       "  'example': {'title': 'Example', 'default': False, 'type': 'boolean'},\n",
       "  'tool_calls': {'title': 'Tool Calls',\n",
       "   'default': [],\n",
       "   'type': 'array',\n",
       "   'items': {'$ref': '#/definitions/ToolCall'}},\n",
       "  'invalid_tool_calls': {'title': 'Invalid Tool Calls',\n",
       "   'default': [],\n",
       "   'type': 'array',\n",
       "   'items': {'$ref': '#/definitions/InvalidToolCall'}},\n",
       "  'usage_metadata': {'$ref': '#/definitions/UsageMetadata'}},\n",
       " 'required': ['content'],\n",
       " 'definitions': {'ToolCall': {'title': 'ToolCall',\n",
       "   'type': 'object',\n",
       "   'properties': {'name': {'title': 'Name', 'type': 'string'},\n",
       "    'args': {'title': 'Args', 'type': 'object'},\n",
       "    'id': {'title': 'Id', 'type': 'string'},\n",
       "    'type': {'title': 'Type', 'enum': ['tool_call'], 'type': 'string'}},\n",
       "   'required': ['name', 'args', 'id']},\n",
       "  'InvalidToolCall': {'title': 'InvalidToolCall',\n",
       "   'type': 'object',\n",
       "   'properties': {'name': {'title': 'Name', 'type': 'string'},\n",
       "    'args': {'title': 'Args', 'type': 'string'},\n",
       "    'id': {'title': 'Id', 'type': 'string'},\n",
       "    'error': {'title': 'Error', 'type': 'string'},\n",
       "    'type': {'title': 'Type',\n",
       "     'enum': ['invalid_tool_call'],\n",
       "     'type': 'string'}},\n",
       "   'required': ['name', 'args', 'id', 'error']},\n",
       "  'UsageMetadata': {'title': 'UsageMetadata',\n",
       "   'type': 'object',\n",
       "   'properties': {'input_tokens': {'title': 'Input Tokens', 'type': 'integer'},\n",
       "    'output_tokens': {'title': 'Output Tokens', 'type': 'integer'},\n",
       "    'total_tokens': {'title': 'Total Tokens', 'type': 'integer'}},\n",
       "   'required': ['input_tokens', 'output_tokens', 'total_tokens']}}}"
      ]
     },
     "execution_count": 19,
     "metadata": {},
     "output_type": "execute_result"
    }
   ],
   "source": [
    "respone.schema()"
   ]
  },
  {
   "cell_type": "code",
   "execution_count": 20,
   "metadata": {},
   "outputs": [],
   "source": [
    "llm = ChatOpenAI(model=\"gpt-40-mini\")"
   ]
  },
  {
   "cell_type": "code",
   "execution_count": 22,
   "metadata": {},
   "outputs": [
    {
     "data": {
      "text/plain": [
       "True"
      ]
     },
     "execution_count": 22,
     "metadata": {},
     "output_type": "execute_result"
    }
   ],
   "source": [
    "from langchain.chat_models import ChatOpenAI\n",
    "from dotenv import load_dotenv\n",
    "import os\n",
    "load_dotenv()"
   ]
  },
  {
   "cell_type": "code",
   "execution_count": 23,
   "metadata": {},
   "outputs": [],
   "source": [
    "groq_model = os.getenv(\"GROQ_MODEL\", \"llama3-70b-8192\")\n",
    "groq_api_key = os.getenv(\"GROQ_API_KEY\")"
   ]
  },
  {
   "cell_type": "code",
   "execution_count": 25,
   "metadata": {},
   "outputs": [],
   "source": [
    "chat_model = ChatOpenAI(\n",
    "    model=groq_model,\n",
    "    api_key=groq_api_key\n",
    ")"
   ]
  },
  {
   "cell_type": "code",
   "execution_count": 26,
   "metadata": {},
   "outputs": [],
   "source": [
    "messages = [\n",
    "    (\"system\", \"You are an historian expert in abdul kalam family.\"),\n",
    "    (\"human\", \"How many members of the family died tragically?\")\n",
    "]"
   ]
  },
  {
   "cell_type": "code",
   "execution_count": 28,
   "metadata": {},
   "outputs": [],
   "source": [
    "respone = chatModel.invoke(messages)"
   ]
  },
  {
   "cell_type": "code",
   "execution_count": 29,
   "metadata": {},
   "outputs": [
    {
     "name": "stdout",
     "output_type": "stream",
     "text": [
      "content=\"Abdul Kalam's family has experienced tragic losses over the years. His father, Jainulabdeen, passed away when Kalam was young. Additionally, his elder sister, Zohara, died at a young age. Kalam himself did not have any children, so there are no direct descendants in his immediate family. Overall, while there have been tragic losses in Abdul Kalam's family, the exact number of family members who died tragically is limited to his father and sister.\" response_metadata={'token_usage': {'completion_tokens': 101, 'prompt_tokens': 34, 'total_tokens': 135, 'completion_tokens_details': {'accepted_prediction_tokens': 0, 'audio_tokens': 0, 'reasoning_tokens': 0, 'rejected_prediction_tokens': 0}, 'prompt_tokens_details': {'audio_tokens': 0, 'cached_tokens': 0}}, 'model_name': 'gpt-3.5-turbo-0125', 'system_fingerprint': None, 'finish_reason': 'stop', 'logprobs': None} id='run-b6688fe9-141d-49f7-af04-eb8bd5bad212-0' usage_metadata={'input_tokens': 34, 'output_tokens': 101, 'total_tokens': 135}\n"
     ]
    }
   ],
   "source": [
    "print(respone)"
   ]
  },
  {
   "cell_type": "code",
   "execution_count": 30,
   "metadata": {},
   "outputs": [],
   "source": [
    "from langchain_groq import  ChatGroq"
   ]
  },
  {
   "cell_type": "code",
   "execution_count": 31,
   "metadata": {},
   "outputs": [],
   "source": [
    "groq_model = os.getenv(\"GROQ_MODEL\", \"llama3-70b-8192\")\n",
    "groq_api_key = os.getenv(\"GROQ_API_KEY\")"
   ]
  },
  {
   "cell_type": "code",
   "execution_count": 34,
   "metadata": {},
   "outputs": [],
   "source": [
    "llamaChatModel = ChatGroq(\n",
    "    model=\"llama3-70b-8192\"\n",
    ")"
   ]
  },
  {
   "cell_type": "code",
   "execution_count": 35,
   "metadata": {},
   "outputs": [],
   "source": [
    "messages = [\n",
    "    (\"system\", \"You are an historian expert in abdul kalam family.\"),\n",
    "    (\"human\", \"How many members of the family died tragically?\")\n",
    "]"
   ]
  },
  {
   "cell_type": "code",
   "execution_count": 36,
   "metadata": {},
   "outputs": [],
   "source": [
    "llamaResponse = llamaChatModel.invoke(messages)"
   ]
  },
  {
   "cell_type": "code",
   "execution_count": 37,
   "metadata": {},
   "outputs": [
    {
     "name": "stdout",
     "output_type": "stream",
     "text": [
      "content=\"A very poignant question. Unfortunately, the family of Dr. APJ Abdul Kalam, the 11th President of India, has indeed experienced a significant amount of tragedy.\\n\\nDr. Kalam was born into a humble family of seven siblings, and sadly, three of his brothers and one sister died at a relatively young age. His brother, Abdul Muthu, died in 1943 at the age of 18 due to a sudden illness. Another brother, Abdul Rahim, died in 1950 at the age of 22 in a road accident. His sister, Zohara, died in 1962 at the age of 24 due to a sudden illness. And his brother, Abdul Samad, died in 1974 at the age of 36 in a drowning accident.\\n\\nDr. Kalam's father, Jainulabdeen, died in 1960, and his mother, Ashiamma, passed away in 1959. Dr. Kalam was very close to his parents and was deeply affected by their demise.\\n\\nDespite these tragedies, Dr. Kalam's family has always been a source of inspiration and strength for him. He often credited his parents and siblings for instilling in him the values of hard work, perseverance, and compassion, which ultimately shaped his remarkable journey from a small village in Rameswaram to the highest office in the land.\" response_metadata={'token_usage': {'completion_tokens': 282, 'prompt_tokens': 38, 'total_tokens': 320, 'completion_time': 0.810151756, 'prompt_time': 0.00441979, 'queue_time': 0.015492168, 'total_time': 0.814571546}, 'model_name': 'llama3-70b-8192', 'system_fingerprint': 'fp_753a4aecf6', 'finish_reason': 'stop', 'logprobs': None} id='run-bd405c19-2a89-48d5-b508-04f2aa6358a8-0' usage_metadata={'input_tokens': 38, 'output_tokens': 282, 'total_tokens': 320}\n"
     ]
    }
   ],
   "source": [
    "print(llamaResponse)"
   ]
  },
  {
   "cell_type": "code",
   "execution_count": null,
   "metadata": {},
   "outputs": [],
   "source": []
  }
 ],
 "metadata": {
  "kernelspec": {
   "display_name": "Python 3",
   "language": "python",
   "name": "python3"
  },
  "language_info": {
   "codemirror_mode": {
    "name": "ipython",
    "version": 3
   },
   "file_extension": ".py",
   "mimetype": "text/x-python",
   "name": "python",
   "nbconvert_exporter": "python",
   "pygments_lexer": "ipython3",
   "version": "3.11.11"
  }
 },
 "nbformat": 4,
 "nbformat_minor": 2
}
